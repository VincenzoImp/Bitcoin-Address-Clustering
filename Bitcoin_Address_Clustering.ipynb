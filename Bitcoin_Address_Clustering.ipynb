{
 "cells": [
  {
   "cell_type": "markdown",
   "metadata": {
    "id": "A5Kun94ilPbc"
   },
   "source": [
    "# **Table of Contents**\n",
    "\n",
    "1. Global Constants\n",
    "\n",
    "2. Dependences\n",
    "\n",
    "3. Spark and Google Colab Setup\n",
    "    \n",
    "    3.1. Create Spark context\n",
    "\n",
    "    3.2. Link Colab to our Google Drive\n",
    "\n",
    "    3.3. Check everything is ok\n",
    "\n",
    "4. Bitcoin Address Clustering\n",
    "\n",
    "    4.1. Bitcoin Block Overview\n",
    "\n",
    "    4.2. Data Collection\n",
    "\n",
    "    4.3. Transaction Graph generation\n",
    "\n",
    "    4.4. Look inside the blockchain\n",
    "    \n",
    "    4.5. Implementation of Heuristics\n",
    "\n",
    "5. Results\n",
    "    \n",
    "    5.1. Overview\n",
    "\n",
    "    5.2. Assumption\n",
    "\n",
    "    5.3. Overview after Assumption\n",
    "\n",
    "6. Boosting Bitcoin Address Clustering with other more complex techniques\n",
    "\n",
    "    6.1. Merge or Demerge clusters thanks to off-chain informations\n",
    "\n",
    "    6.2. Louvain community detection algorithm\n",
    "\n",
    "7. Use cases\n",
    "\n",
    "    7.1. Visualize entity movements from an address\n",
    "\n",
    "    7.2. Solve specific Queries\n",
    "\n",
    "8. Web App\n",
    "\n",
    "\n",
    "\n",
    "\n"
   ]
  },
  {
   "cell_type": "markdown",
   "metadata": {
    "id": "hI54ya01mnG5"
   },
   "source": [
    "# **Abstract**\n",
    "The main goal of the project is to obtain information from the Bitcoin blockchain. Specifically, the project wants to manipulate the information extrapolated from the Bitcoin blockchain to create the transaction graph and use it to perform chain analysis. Bitcoin address clustering based on multiple heuristic conditions is the core of chain analysis.\n",
    "\n",
    "The project can be summarized in the following points:\n",
    "- Blockchain overview (4.1.)\n",
    "- construction of the dataset created starting from the Bitcoin blockchain (4.2.)\n",
    "- creation of the transaction graph starting from the dataset. The nodes of the graph are the transactions, the input edges are the input UTXOs to the transaction, and the output edges are the transaction output UTXOs (4.3.)\n",
    "- perform graph analysis (4.4.)\n",
    "- implementation of heuristics: (4.5. Implementation of Heuristics)\n",
    "    - Satoshi heuristic\n",
    "    - Coinbase transaction mining address clustering heuristic\n",
    "    - Common-input-ownership heuristic\n",
    "    - Single input and single output heuristic\n",
    "    - Consolidation transaction heuristic\n",
    "    - Payment transaction with amount payed and change address heuristic\n",
    "    - Change address detection heuristic\n",
    "        - same address in input and output heuristic\n",
    "        - address reuse heuristic\n",
    "        - Unnecessary input heuristic\n",
    "        - new address in output heuristic\n",
    "        - round number heuristic\n",
    "    - Mixed transaction recognition heuristic\n",
    "        - taint analysis and coinjoin sudoku\n",
    "- discussion about busting bitcoin address clustering (6.)\n",
    "    - Merge or Demerge clusters thanks to off-chain informations\n",
    "    - Louvain community detection algorithm\n",
    "- perform chain analysis use cases (7.)"
   ]
  },
  {
   "cell_type": "markdown",
   "metadata": {
    "id": "sKhQWqDpkDA_"
   },
   "source": [
    "# **1. Global Constants**\n"
   ]
  },
  {
   "cell_type": "code",
   "execution_count": 1,
   "metadata": {
    "id": "Ky0KfLv3icc8"
   },
   "outputs": [],
   "source": [
    "GDRIVE_DIR = \"/content/gdrive\"\n",
    "GDRIVE_HOME_DIR = GDRIVE_DIR + \"/My Drive\"\n",
    "GDRIVE_DATA_DIR = GDRIVE_HOME_DIR + \"/Bitcoin Address Clustering/dataset\"\n",
    "\n",
    "start_block = 0\n",
    "end_block = 120000"
   ]
  },
  {
   "cell_type": "markdown",
   "metadata": {
    "id": "Qczfcwn5-xZm"
   },
   "source": [
    "# **2. Dependences**"
   ]
  },
  {
   "cell_type": "code",
   "execution_count": 2,
   "metadata": {
    "colab": {
     "base_uri": "https://localhost:8080/"
    },
    "id": "tadn-hgKdLnb",
    "outputId": "c4bbd1a5-2338-49f1-f5bf-568a88ecdf77"
   },
   "outputs": [
    {
     "name": "stdout",
     "output_type": "stream",
     "text": [
      "Looking in indexes: https://pypi.org/simple, https://us-python.pkg.dev/colab-wheels/public/simple/\n",
      "Collecting pyspark\n",
      "  Downloading pyspark-3.3.0.tar.gz (281.3 MB)\n",
      "\u001b[K     |████████████████████████████████| 281.3 MB 46 kB/s \n",
      "\u001b[?25hCollecting py4j==0.10.9.5\n",
      "  Downloading py4j-0.10.9.5-py2.py3-none-any.whl (199 kB)\n",
      "\u001b[K     |████████████████████████████████| 199 kB 35.9 MB/s \n",
      "\u001b[?25hBuilding wheels for collected packages: pyspark\n",
      "  Building wheel for pyspark (setup.py) ... \u001b[?25l\u001b[?25hdone\n",
      "  Created wheel for pyspark: filename=pyspark-3.3.0-py2.py3-none-any.whl size=281764026 sha256=a10b673b7cdb7f2775f929675c1897cb907a83e9a68534a15bee4d01ddcef818\n",
      "  Stored in directory: /root/.cache/pip/wheels/7a/8e/1b/f73a52650d2e5f337708d9f6a1750d451a7349a867f928b885\n",
      "Successfully built pyspark\n",
      "Installing collected packages: py4j, pyspark\n",
      "Successfully installed py4j-0.10.9.5 pyspark-3.3.0\n",
      "Looking in indexes: https://pypi.org/simple, https://us-python.pkg.dev/colab-wheels/public/simple/\n",
      "Collecting wget\n",
      "  Downloading wget-3.2.zip (10 kB)\n",
      "Building wheels for collected packages: wget\n",
      "  Building wheel for wget (setup.py) ... \u001b[?25l\u001b[?25hdone\n",
      "  Created wheel for wget: filename=wget-3.2-py3-none-any.whl size=9675 sha256=d56e8cc83bd8bbb818dd6c78292d51197f326c0c90d53ca5aa455e4a9052ecf7\n",
      "  Stored in directory: /root/.cache/pip/wheels/a1/b6/7c/0e63e34eb06634181c63adacca38b79ff8f35c37e3c13e3c02\n",
      "Successfully built wget\n",
      "Installing collected packages: wget\n",
      "Successfully installed wget-3.2\n",
      "Looking in indexes: https://pypi.org/simple, https://us-python.pkg.dev/colab-wheels/public/simple/\n",
      "Collecting pyvis\n",
      "  Downloading pyvis-0.2.1.tar.gz (21 kB)\n",
      "Requirement already satisfied: jinja2>=2.9.6 in /usr/local/lib/python3.7/dist-packages (from pyvis) (2.11.3)\n",
      "Requirement already satisfied: networkx>=1.11 in /usr/local/lib/python3.7/dist-packages (from pyvis) (2.6.3)\n",
      "Requirement already satisfied: ipython>=5.3.0 in /usr/local/lib/python3.7/dist-packages (from pyvis) (5.5.0)\n",
      "Collecting jsonpickle>=1.4.1\n",
      "  Downloading jsonpickle-2.2.0-py2.py3-none-any.whl (39 kB)\n",
      "Requirement already satisfied: setuptools>=18.5 in /usr/local/lib/python3.7/dist-packages (from ipython>=5.3.0->pyvis) (57.4.0)\n",
      "Requirement already satisfied: pexpect in /usr/local/lib/python3.7/dist-packages (from ipython>=5.3.0->pyvis) (4.8.0)\n",
      "Requirement already satisfied: pygments in /usr/local/lib/python3.7/dist-packages (from ipython>=5.3.0->pyvis) (2.6.1)\n",
      "Requirement already satisfied: decorator in /usr/local/lib/python3.7/dist-packages (from ipython>=5.3.0->pyvis) (4.4.2)\n",
      "Requirement already satisfied: prompt-toolkit<2.0.0,>=1.0.4 in /usr/local/lib/python3.7/dist-packages (from ipython>=5.3.0->pyvis) (1.0.18)\n",
      "Requirement already satisfied: pickleshare in /usr/local/lib/python3.7/dist-packages (from ipython>=5.3.0->pyvis) (0.7.5)\n",
      "Requirement already satisfied: simplegeneric>0.8 in /usr/local/lib/python3.7/dist-packages (from ipython>=5.3.0->pyvis) (0.8.1)\n",
      "Requirement already satisfied: traitlets>=4.2 in /usr/local/lib/python3.7/dist-packages (from ipython>=5.3.0->pyvis) (5.1.1)\n",
      "Requirement already satisfied: MarkupSafe>=0.23 in /usr/local/lib/python3.7/dist-packages (from jinja2>=2.9.6->pyvis) (2.0.1)\n",
      "Requirement already satisfied: importlib-metadata in /usr/local/lib/python3.7/dist-packages (from jsonpickle>=1.4.1->pyvis) (4.11.4)\n",
      "Requirement already satisfied: six>=1.9.0 in /usr/local/lib/python3.7/dist-packages (from prompt-toolkit<2.0.0,>=1.0.4->ipython>=5.3.0->pyvis) (1.15.0)\n",
      "Requirement already satisfied: wcwidth in /usr/local/lib/python3.7/dist-packages (from prompt-toolkit<2.0.0,>=1.0.4->ipython>=5.3.0->pyvis) (0.2.5)\n",
      "Requirement already satisfied: typing-extensions>=3.6.4 in /usr/local/lib/python3.7/dist-packages (from importlib-metadata->jsonpickle>=1.4.1->pyvis) (4.1.1)\n",
      "Requirement already satisfied: zipp>=0.5 in /usr/local/lib/python3.7/dist-packages (from importlib-metadata->jsonpickle>=1.4.1->pyvis) (3.8.0)\n",
      "Requirement already satisfied: ptyprocess>=0.5 in /usr/local/lib/python3.7/dist-packages (from pexpect->ipython>=5.3.0->pyvis) (0.7.0)\n",
      "Building wheels for collected packages: pyvis\n",
      "  Building wheel for pyvis (setup.py) ... \u001b[?25l\u001b[?25hdone\n",
      "  Created wheel for pyvis: filename=pyvis-0.2.1-py3-none-any.whl size=23688 sha256=908f9ceb6a5ce632d8670921e3d37e6fc3597820982d697a664665a7f6748ac6\n",
      "  Stored in directory: /root/.cache/pip/wheels/2a/8f/04/6340d46afc74f59cc857a594ca1a2a14a1f4cbd4fd6c2e9306\n",
      "Successfully built pyvis\n",
      "Installing collected packages: jsonpickle, pyvis\n",
      "Successfully installed jsonpickle-2.2.0 pyvis-0.2.1\n"
     ]
    }
   ],
   "source": [
    "!pip install pyspark\n",
    "!pip install -U -q PyDrive\n",
    "!pip install wget\n",
    "!pip install pyvis"
   ]
  },
  {
   "cell_type": "code",
   "execution_count": 3,
   "metadata": {
    "id": "2vrGsesPQ6eZ"
   },
   "outputs": [],
   "source": [
    "import pyspark\n",
    "from pyspark.sql import *\n",
    "from pyspark.sql.types import *\n",
    "from pyspark.sql.functions import *\n",
    "from pyspark import SparkContext, SparkConf\n",
    "from google.colab import drive\n",
    "import requests\n",
    "import pprint\n",
    "import codecs\n",
    "import builtins\n",
    "import wget\n",
    "import csv\n",
    "import os\n",
    "from urllib import request\n",
    "from urllib.error import HTTPError\n",
    "import networkx as nx\n",
    "import matplotlib.pyplot as plt\n",
    "import shutil\n",
    "from pyvis.network import Network"
   ]
  },
  {
   "cell_type": "markdown",
   "metadata": {
    "id": "nPrycaK1kL9o"
   },
   "source": [
    "# **3. Spark and Google Colab Setup**"
   ]
  },
  {
   "cell_type": "markdown",
   "metadata": {
    "id": "j9mB8waGlabj"
   },
   "source": [
    "## **3.1.** Create Spark context"
   ]
  },
  {
   "cell_type": "code",
   "execution_count": 4,
   "metadata": {
    "id": "9IkyllulSwSr"
   },
   "outputs": [],
   "source": [
    "# create the session\n",
    "conf = SparkConf()\\\n",
    "                .set('spark.executor.memory', '50G')\\\n",
    "                .set('spark.driver.memory', '50G')\\\n",
    "                .set('spark.driver.maxResultSize', '50G')\\\n",
    "                .set(\"spark.driver.cores\", \"10\")\\\n",
    "                .set(\"spark.sql.analyzer.maxIterations\", \"100000\")\n",
    "\n",
    "# create the context\n",
    "sc = SparkContext(conf=conf)\n",
    "spark = SparkSession.builder.getOrCreate()"
   ]
  },
  {
   "cell_type": "markdown",
   "metadata": {
    "id": "IOZd-zdGlgfZ"
   },
   "source": [
    "## **3.2.** Link Colab to our Google Drive"
   ]
  },
  {
   "cell_type": "code",
   "execution_count": 5,
   "metadata": {
    "colab": {
     "base_uri": "https://localhost:8080/"
    },
    "id": "vIcprUr4Q8_8",
    "outputId": "77a0205c-82cc-44b0-d902-702648d667da"
   },
   "outputs": [
    {
     "name": "stdout",
     "output_type": "stream",
     "text": [
      "Mounted at /content/gdrive\n"
     ]
    }
   ],
   "source": [
    "# Point Colaboratory to our Google Drive\n",
    "drive.mount(GDRIVE_DIR, force_remount=True)"
   ]
  },
  {
   "cell_type": "markdown",
   "metadata": {
    "id": "CdPCjEcYlwX-"
   },
   "source": [
    "## **3.3.** Check everything is ok"
   ]
  },
  {
   "cell_type": "code",
   "execution_count": 6,
   "metadata": {
    "colab": {
     "base_uri": "https://localhost:8080/",
     "height": 0
    },
    "id": "xHLDfd-2lzQ8",
    "outputId": "23027b9b-8776-4cbf-d880-33ce28a335b1"
   },
   "outputs": [
    {
     "data": {
      "text/html": [
       "\n",
       "            <div>\n",
       "                <p><b>SparkSession - in-memory</b></p>\n",
       "                \n",
       "        <div>\n",
       "            <p><b>SparkContext</b></p>\n",
       "\n",
       "            <p><a href=\"http://14b987d20145:4040\">Spark UI</a></p>\n",
       "\n",
       "            <dl>\n",
       "              <dt>Version</dt>\n",
       "                <dd><code>v3.3.0</code></dd>\n",
       "              <dt>Master</dt>\n",
       "                <dd><code>local[*]</code></dd>\n",
       "              <dt>AppName</dt>\n",
       "                <dd><code>pyspark-shell</code></dd>\n",
       "            </dl>\n",
       "        </div>\n",
       "        \n",
       "            </div>\n",
       "        "
      ],
      "text/plain": [
       "<pyspark.sql.session.SparkSession at 0x7f0e348bbd50>"
      ]
     },
     "execution_count": 6,
     "metadata": {},
     "output_type": "execute_result"
    }
   ],
   "source": [
    "spark"
   ]
  },
  {
   "cell_type": "code",
   "execution_count": 7,
   "metadata": {
    "colab": {
     "base_uri": "https://localhost:8080/"
    },
    "id": "7yljSDtZl15h",
    "outputId": "96e92999-541f-4f19-de34-cdc14ab68e87"
   },
   "outputs": [
    {
     "data": {
      "text/plain": [
       "[('spark.driver.extraJavaOptions',\n",
       "  '-XX:+IgnoreUnrecognizedVMOptions --add-opens=java.base/java.lang=ALL-UNNAMED --add-opens=java.base/java.lang.invoke=ALL-UNNAMED --add-opens=java.base/java.lang.reflect=ALL-UNNAMED --add-opens=java.base/java.io=ALL-UNNAMED --add-opens=java.base/java.net=ALL-UNNAMED --add-opens=java.base/java.nio=ALL-UNNAMED --add-opens=java.base/java.util=ALL-UNNAMED --add-opens=java.base/java.util.concurrent=ALL-UNNAMED --add-opens=java.base/java.util.concurrent.atomic=ALL-UNNAMED --add-opens=java.base/sun.nio.ch=ALL-UNNAMED --add-opens=java.base/sun.nio.cs=ALL-UNNAMED --add-opens=java.base/sun.security.action=ALL-UNNAMED --add-opens=java.base/sun.util.calendar=ALL-UNNAMED --add-opens=java.security.jgss/sun.security.krb5=ALL-UNNAMED'),\n",
       " ('spark.app.submitTime', '1656299010933'),\n",
       " ('spark.executor.memory', '50G'),\n",
       " ('spark.driver.cores', '10'),\n",
       " ('spark.sql.analyzer.maxIterations', '100000'),\n",
       " ('spark.app.id', 'local-1656299013321'),\n",
       " ('spark.executor.id', 'driver'),\n",
       " ('spark.sql.warehouse.dir', 'file:/content/spark-warehouse'),\n",
       " ('spark.driver.memory', '50G'),\n",
       " ('spark.app.name', 'pyspark-shell'),\n",
       " ('spark.driver.port', '37207'),\n",
       " ('spark.app.startTime', '1656299011261'),\n",
       " ('spark.rdd.compress', 'True'),\n",
       " ('spark.executor.extraJavaOptions',\n",
       "  '-XX:+IgnoreUnrecognizedVMOptions --add-opens=java.base/java.lang=ALL-UNNAMED --add-opens=java.base/java.lang.invoke=ALL-UNNAMED --add-opens=java.base/java.lang.reflect=ALL-UNNAMED --add-opens=java.base/java.io=ALL-UNNAMED --add-opens=java.base/java.net=ALL-UNNAMED --add-opens=java.base/java.nio=ALL-UNNAMED --add-opens=java.base/java.util=ALL-UNNAMED --add-opens=java.base/java.util.concurrent=ALL-UNNAMED --add-opens=java.base/java.util.concurrent.atomic=ALL-UNNAMED --add-opens=java.base/sun.nio.ch=ALL-UNNAMED --add-opens=java.base/sun.nio.cs=ALL-UNNAMED --add-opens=java.base/sun.security.action=ALL-UNNAMED --add-opens=java.base/sun.util.calendar=ALL-UNNAMED --add-opens=java.security.jgss/sun.security.krb5=ALL-UNNAMED'),\n",
       " ('spark.serializer.objectStreamReset', '100'),\n",
       " ('spark.driver.host', '14b987d20145'),\n",
       " ('spark.master', 'local[*]'),\n",
       " ('spark.submit.pyFiles', ''),\n",
       " ('spark.submit.deployMode', 'client'),\n",
       " ('spark.ui.showConsoleProgress', 'true'),\n",
       " ('spark.driver.maxResultSize', '50G')]"
      ]
     },
     "execution_count": 7,
     "metadata": {},
     "output_type": "execute_result"
    }
   ],
   "source": [
    "sc._conf.getAll()"
   ]
  },
  {
   "cell_type": "markdown",
   "metadata": {
    "id": "yr_5pxwDl89m"
   },
   "source": [
    "# **4. Bitcoin Address Clustering**"
   ]
  },
  {
   "cell_type": "markdown",
   "metadata": {
    "id": "hCZ6G78Qozu5"
   },
   "source": [
    "## **4.1.** Bitcoin Block Overview\n",
    "In this section, we see what is inside a bitcoin block and we recognize the useful informations to be extrapolated for our purpose"
   ]
  },
  {
   "cell_type": "markdown",
   "metadata": {
    "id": "0w1ZEG31qAWz"
   },
   "source": [
    "### **4.1.1.** Make a request to [Blockchain.info](https://blockchain.info) to get a raw bitcoin block\n"
   ]
  },
  {
   "cell_type": "code",
   "execution_count": 8,
   "metadata": {
    "colab": {
     "base_uri": "https://localhost:8080/"
    },
    "id": "ZzxI1cyth9Fr",
    "outputId": "cd2f9131-46c9-4983-8153-3c7f6fc8767c"
   },
   "outputs": [
    {
     "name": "stdout",
     "output_type": "stream",
     "text": [
      "{'blocks': [{'bits': 486604799,\n",
      "             'block_index': 0,\n",
      "             'fee': 0,\n",
      "             'hash': '000000000019d6689c085ae165831e934ff763ae46a2a6c172b3f1b60a8ce26f',\n",
      "             'height': 0,\n",
      "             'main_chain': True,\n",
      "             'mrkl_root': '4a5e1e4baab89f3a32518a88c31bc87f618f76673e2cc77ab2127b7afdeda33b',\n",
      "             'n_tx': 1,\n",
      "             'next_block': ['00000000839a8e6886ab5951d76f411475428afc90947ee320161bbf18eb6048'],\n",
      "             'nonce': 2083236893,\n",
      "             'prev_block': '0000000000000000000000000000000000000000000000000000000000000000',\n",
      "             'size': 285,\n",
      "             'time': 1231006505,\n",
      "             'tx': [{'block_height': 0,\n",
      "                     'block_index': 0,\n",
      "                     'double_spend': False,\n",
      "                     'fee': 0,\n",
      "                     'hash': '4a5e1e4baab89f3a32518a88c31bc87f618f76673e2cc77ab2127b7afdeda33b',\n",
      "                     'inputs': [{'index': 0,\n",
      "                                 'prev_out': {'n': 4294967295,\n",
      "                                              'script': '',\n",
      "                                              'spending_outpoints': [{'n': 0,\n",
      "                                                                      'tx_index': 2098408272645986}],\n",
      "                                              'spent': True,\n",
      "                                              'tx_index': 0,\n",
      "                                              'type': 0,\n",
      "                                              'value': 0},\n",
      "                                 'script': '04ffff001d0104455468652054696d65732030332f4a616e2f32303039204368616e63656c6c6f72206f6e206272696e6b206f66207365636f6e64206261696c6f757420666f722062616e6b73',\n",
      "                                 'sequence': 4294967295,\n",
      "                                 'witness': ''}],\n",
      "                     'lock_time': 0,\n",
      "                     'out': [{'addr': '1A1zP1eP5QGefi2DMPTfTL5SLmv7DivfNa',\n",
      "                              'n': 0,\n",
      "                              'script': '4104678afdb0fe5548271967f1a67130b7105cd6a828e03909a67962e0ea1f61deb649f6bc3f4cef38c4f35504e51ec112de5c384df7ba0b8d578a4c702b6bf11d5fac',\n",
      "                              'spending_outpoints': [],\n",
      "                              'spent': False,\n",
      "                              'tx_index': 2098408272645986,\n",
      "                              'type': 0,\n",
      "                              'value': 5000000000}],\n",
      "                     'relayed_by': '0.0.0.0',\n",
      "                     'size': 204,\n",
      "                     'time': 1231006505,\n",
      "                     'tx_index': 2098408272645986,\n",
      "                     'ver': 1,\n",
      "                     'vin_sz': 1,\n",
      "                     'vout_sz': 1,\n",
      "                     'weight': 816}],\n",
      "             'ver': 1,\n",
      "             'weight': 1140}]}\n"
     ]
    }
   ],
   "source": [
    "block_height = 0\n",
    "response = requests.get('https://blockchain.info/block-height/{}'.format(block_height))\n",
    "pprint.PrettyPrinter().pprint(response.json())"
   ]
  },
  {
   "cell_type": "markdown",
   "metadata": {
    "id": "mzO8ieRpqt7J"
   },
   "source": [
    "### **4.1.2.** The Times 03/Jan/2009 Chancellor on brink of second bailout for banks\n",
    "Translating the hexadecimal script present in the first transaction of the first block of bitcoin into ASCII, we can read the message from Satoshi Nakamoto\n"
   ]
  },
  {
   "cell_type": "code",
   "execution_count": 9,
   "metadata": {
    "colab": {
     "base_uri": "https://localhost:8080/"
    },
    "id": "qAXFktEHW_z_",
    "outputId": "0b0a72ff-892e-4e37-e9bb-5eeb8398789f"
   },
   "outputs": [
    {
     "data": {
      "text/plain": [
       "b'\\x04\\xff\\xff\\x00\\x1d\\x01\\x04EThe Times 03/Jan/2009 Chancellor on brink of second bailout for banks'"
      ]
     },
     "execution_count": 9,
     "metadata": {},
     "output_type": "execute_result"
    }
   ],
   "source": [
    "string = response.json()['blocks'][0]['tx'][0]['inputs'][0]['script']\n",
    "codecs.decode(string, \"hex\")"
   ]
  },
  {
   "cell_type": "markdown",
   "metadata": {
    "id": "vSf2lVpJuKI5"
   },
   "source": [
    "### **4.1.3.** Block's usefull information\n"
   ]
  },
  {
   "cell_type": "code",
   "execution_count": 10,
   "metadata": {
    "colab": {
     "base_uri": "https://localhost:8080/"
    },
    "id": "e_Gu8Txouq1S",
    "outputId": "583bef56-27a8-4ef1-89af-d46f1c0cf78a"
   },
   "outputs": [
    {
     "name": "stdout",
     "output_type": "stream",
     "text": [
      "block_height: 0\n",
      "block_hash: 000000000019d6689c085ae165831e934ff763ae46a2a6c172b3f1b60a8ce26f\n",
      "TXs_list:\n",
      "[{'block_height': 0,\n",
      "  'block_index': 0,\n",
      "  'double_spend': False,\n",
      "  'fee': 0,\n",
      "  'hash': '4a5e1e4baab89f3a32518a88c31bc87f618f76673e2cc77ab2127b7afdeda33b',\n",
      "  'inputs': [{'index': 0,\n",
      "              'prev_out': {'n': 4294967295,\n",
      "                           'script': '',\n",
      "                           'spending_outpoints': [{'n': 0,\n",
      "                                                   'tx_index': 2098408272645986}],\n",
      "                           'spent': True,\n",
      "                           'tx_index': 0,\n",
      "                           'type': 0,\n",
      "                           'value': 0},\n",
      "              'script': '04ffff001d0104455468652054696d65732030332f4a616e2f32303039204368616e63656c6c6f72206f6e206272696e6b206f66207365636f6e64206261696c6f757420666f722062616e6b73',\n",
      "              'sequence': 4294967295,\n",
      "              'witness': ''}],\n",
      "  'lock_time': 0,\n",
      "  'out': [{'addr': '1A1zP1eP5QGefi2DMPTfTL5SLmv7DivfNa',\n",
      "           'n': 0,\n",
      "           'script': '4104678afdb0fe5548271967f1a67130b7105cd6a828e03909a67962e0ea1f61deb649f6bc3f4cef38c4f35504e51ec112de5c384df7ba0b8d578a4c702b6bf11d5fac',\n",
      "           'spending_outpoints': [],\n",
      "           'spent': False,\n",
      "           'tx_index': 2098408272645986,\n",
      "           'type': 0,\n",
      "           'value': 5000000000}],\n",
      "  'relayed_by': '0.0.0.0',\n",
      "  'size': 204,\n",
      "  'time': 1231006505,\n",
      "  'tx_index': 2098408272645986,\n",
      "  'ver': 1,\n",
      "  'vin_sz': 1,\n",
      "  'vout_sz': 1,\n",
      "  'weight': 816}]\n"
     ]
    }
   ],
   "source": [
    "block = response.json()['blocks'][0]\n",
    "block_height = block['height']\n",
    "block_hash = block['hash']\n",
    "TXs_list = block['tx']\n",
    "print('block_height:', block_height)\n",
    "print('block_hash:', block_hash)\n",
    "print('TXs_list:')\n",
    "pprint.PrettyPrinter().pprint(TXs_list)"
   ]
  },
  {
   "cell_type": "markdown",
   "metadata": {
    "id": "_CCaIhlWvkiv"
   },
   "source": [
    "### **4.1.4.** Transaction's usefull information"
   ]
  },
  {
   "cell_type": "code",
   "execution_count": 11,
   "metadata": {
    "colab": {
     "base_uri": "https://localhost:8080/"
    },
    "id": "H1n-J7hyv0tI",
    "outputId": "c9e935e4-c546-46c4-ecc6-899c322eac3d"
   },
   "outputs": [
    {
     "name": "stdout",
     "output_type": "stream",
     "text": [
      "tx_id: 2098408272645986\n",
      "tx_hash: 4a5e1e4baab89f3a32518a88c31bc87f618f76673e2cc77ab2127b7afdeda33b\n",
      "fee: 0\n",
      "n_input: 1\n",
      "amount_input: 0\n",
      "n_output: 1\n",
      "amount_output: 5000000000\n"
     ]
    }
   ],
   "source": [
    "TX = TXs_list[0]\n",
    "tx_id = TX['tx_index']\n",
    "tx_hash = TX['hash']\n",
    "fee = TX['fee']\n",
    "n_input = len(TX['inputs'])\n",
    "amount_input = builtins.sum([UTXO['prev_out']['value'] for UTXO in TX['inputs']])\n",
    "n_output = len(TX['out'])\n",
    "amount_output = builtins.sum([UTXO['value'] for UTXO in TX['out']])\n",
    "print('tx_id:', tx_id)\n",
    "print('tx_hash:', tx_hash)\n",
    "print('fee:', fee)\n",
    "print('n_input:', n_input)\n",
    "print('amount_input:', amount_input)\n",
    "print('n_output:', n_output)\n",
    "print('amount_output:', amount_output)"
   ]
  },
  {
   "cell_type": "markdown",
   "metadata": {
    "id": "JWDkf818zbJi"
   },
   "source": [
    "### **4.1.5.** UTXO's usefull information"
   ]
  },
  {
   "cell_type": "code",
   "execution_count": 12,
   "metadata": {
    "colab": {
     "base_uri": "https://localhost:8080/"
    },
    "id": "Uup6bNDvzkaB",
    "outputId": "a1a8e4d0-48cd-4c2c-9e08-1263db5dd21b"
   },
   "outputs": [
    {
     "name": "stdout",
     "output_type": "stream",
     "text": [
      "input_UTXO src_position: 4294967295\n",
      "input_UTXO dst_position: 0\n",
      "input_UTXO address: coinbase\n",
      "input_UTXO value: 0\n",
      "output_UTXO src_position: 2098408272645986\n",
      "output_UTXO dst_position: unspent\n",
      "output_UTXO address: 1A1zP1eP5QGefi2DMPTfTL5SLmv7DivfNa\n",
      "output_UTXO value: 5000000000\n"
     ]
    }
   ],
   "source": [
    "#UTXO in input\n",
    "input_UTXO = TXs_list[0]['inputs'][0]\n",
    "src_position = input_UTXO['prev_out']['n']\n",
    "dst_position = input_UTXO['index']\n",
    "try:\n",
    "    address = input_UTXO['prev_out']['addr']\n",
    "except KeyError:\n",
    "    address = 'coinbase'\n",
    "value = input_UTXO['prev_out']['value']\n",
    "print('input_UTXO src_position:', src_position)\n",
    "print('input_UTXO dst_position:', dst_position)\n",
    "print('input_UTXO address:', address)\n",
    "print('input_UTXO value:', value)\n",
    "\n",
    "#UTXO in output\n",
    "output_UTXO = TXs_list[0]['out'][0]\n",
    "src_position = output_UTXO['tx_index']\n",
    "try:\n",
    "    dst_position = output_UTXO['spending_outpoints'][0]['n']\n",
    "except IndexError:\n",
    "    dst_position = 'unspent'\n",
    "address = output_UTXO['addr']\n",
    "value = output_UTXO['value']\n",
    "print('output_UTXO src_position:', src_position)\n",
    "print('output_UTXO dst_position:', dst_position)\n",
    "print('output_UTXO address:', address)\n",
    "print('output_UTXO value:', value)"
   ]
  },
  {
   "cell_type": "markdown",
   "metadata": {
    "id": "7yjklUaK4vmA"
   },
   "source": [
    "## **4.2.** Data Collection\n",
    "perform data collection and load dataset in spark dataframes"
   ]
  },
  {
   "cell_type": "code",
   "execution_count": 13,
   "metadata": {
    "id": "Ry_X-XaE6SFU"
   },
   "outputs": [],
   "source": [
    "def download_dataset(start_block, end_block, directory, spark_session, debug=False):\n",
    "\n",
    "    if 'blocks-{}-{}'.format(start_block, end_block) in os.listdir(directory):\n",
    "        # dataset is already in directory\n",
    "        d_path = os.path.join(directory, 'blocks-{}-{}'.format(start_block, end_block))\n",
    "        v_path = os.path.join(d_path, 'vertices-{}-{}'.format(start_block, end_block))\n",
    "        e_path = os.path.join(d_path, 'edges-{}-{}'.format(start_block, end_block))\n",
    "        a_path = os.path.join(d_path, 'addresses-{}-{}'.format(start_block, end_block))\n",
    "        if debug: print('dataset is already in {}'.format(d_path))\n",
    "\n",
    "    else:\n",
    "\n",
    "        d_path = os.path.join(directory, 'blocks-{}-{}'.format(start_block, end_block))\n",
    "        os.mkdir(d_path)\n",
    "\n",
    "        try:\n",
    "            # try to dump dataset from github repo datasets\n",
    "            v_path = os.path.join(d_path, 'vertices-{}-{}'.format(start_block, end_block))\n",
    "            e_path = os.path.join(d_path, 'edges-{}-{}'.format(start_block, end_block))\n",
    "            a_path = os.path.join(d_path, 'addresses-{}-{}'.format(start_block, end_block))\n",
    "            wget.download('https://raw.github.com/VincenzoImp/Bitcoin-Address-Clustering/master/dataset/blocks-{}-{}/vertices-{}-{}.tar.gz'.format(start_block, end_block, start_block, end_block), out=d_path)\n",
    "            wget.download('https://raw.github.com/VincenzoImp/Bitcoin-Address-Clustering/master/dataset/blocks-{}-{}/edges-{}-{}.tar.gz'.format(start_block, end_block, start_block, end_block), out=d_path)\n",
    "            wget.download('https://raw.github.com/VincenzoImp/Bitcoin-Address-Clustering/master/dataset/blocks-{}-{}/addresses-{}-{}.tar.gz'.format(start_block, end_block, start_block, end_block), out=d_path)\n",
    "            os.system('tar -xf '+v_path.replace(' ', '\\ ')+'.tar.gz -C '+d_path.replace(' ', '\\ '))\n",
    "            os.system('tar -xf '+e_path.replace(' ', '\\ ')+'.tar.gz -C '+d_path.replace(' ', '\\ '))\n",
    "            os.system('tar -xf '+a_path.replace(' ', '\\ ')+'.tar.gz -C '+d_path.replace(' ', '\\ '))\n",
    "            os.remove(v_path+'.tar.gz')\n",
    "            os.remove(e_path+'.tar.gz')\n",
    "            os.remove(a_path+'.tar.gz')\n",
    "            if debug: print('dataset downloaded from https://github.com/VincenzoImp/Bitcoin-Address-Clustering/master/dataset/blocks-{}-{}'.format(start_block, end_block))\n",
    "\n",
    "        except HTTPError: \n",
    "            # dump dataset manually\n",
    "            v_path = os.path.join(d_path, 'vertices-{}-{}.csv'.format(start_block, end_block))\n",
    "            e_path = os.path.join(d_path, 'edges-{}-{}.csv'.format(start_block, end_block))\n",
    "\n",
    "            if debug: print('dumping blocks...')\n",
    "\n",
    "            v_columns = ['id', 'note', 'tx_hash', 'block_height', 'block_hash', 'fee', 'n_input', 'amount_input', 'n_output', 'amount_output', 'temporal_index']\n",
    "            e_columns = ['src_id', 'dst_id', 'src_position', 'dst_position', 'address', 'value']\n",
    "\n",
    "\n",
    "            temporal_index = 0\n",
    "            count_UXTO = 0\n",
    "\n",
    "            with open(v_path, 'w', encoding='UTF8') as v_file:\n",
    "                with open(e_path, 'w', encoding='UTF8') as e_file:\n",
    "                    \n",
    "                    csv.writer(v_file).writerow(v_columns)\n",
    "                    csv.writer(e_file).writerow(e_columns)\n",
    "                    \n",
    "                    # for each block read all transactions, extract usefull information and write them locally\n",
    "                    for block_height in range(start_block, end_block+1):    \n",
    "\n",
    "                        if debug and block_height % 250 == 0:\n",
    "                            if end_block < block_height+249:\n",
    "                                print('from block {} to block {}'.format(block_height, end_block))\n",
    "                            else:\n",
    "                                print('from block {} to block {}'.format(block_height, block_height+249))\n",
    "\n",
    "                        block_reward = (5000000000 // 2**(block_height//210000))\n",
    "                        # save coinbase information as vertex\n",
    "                        csv.writer(v_file).writerow(['coinbase'+str(block_height), 'coinbase', '', -1, '', 0, 0, 0, 1, block_reward, -1])\n",
    "\n",
    "                        loop = True \n",
    "                        while loop:\n",
    "                            try:\n",
    "                                response = requests.get('https://blockchain.info/block-height/{}'.format(block_height))\n",
    "                                if response.status_code == 200: loop = False\n",
    "                            except HTTPError:\n",
    "                                pass\n",
    "\n",
    "                        block_hash = response.json()['blocks'][0]['hash']\n",
    "\n",
    "                        # read each transaction from a specific json block\n",
    "                        for tx in response.json()['blocks'][0]['tx']:\n",
    "\n",
    "                            tx_id = tx['tx_index']\n",
    "                            tx_hash = tx['hash']\n",
    "                            fee = tx['fee']\n",
    "                            n_input = 0\n",
    "                            amount_input = 0\n",
    "                            n_output = 0\n",
    "                            amount_output = 0\n",
    "\n",
    "                            for incoming_edge in tx['inputs']:\n",
    "                                # consider UTXOs in input\n",
    "                                src_id = incoming_edge['prev_out']['tx_index']\n",
    "                                src_position = incoming_edge['prev_out']['n']\n",
    "\n",
    "                                dst_id = tx_id\n",
    "                                dst_position = incoming_edge['index']\n",
    "\n",
    "                                if src_id == 0:\n",
    "                                    src_id = 'coinbase' + str(block_height)\n",
    "                                    address = 'coinbase' + str(block_height)\n",
    "                                    value = block_reward\n",
    "                                else:\n",
    "                                    try:\n",
    "                                        address = incoming_edge['prev_out']['addr']\n",
    "                                    except KeyError:\n",
    "                                        continue\n",
    "                                    value = incoming_edge['prev_out']['value']\n",
    "\n",
    "                                n_input += 1\n",
    "                                amount_input += value\n",
    "                                \n",
    "                                # save spent UTXO information as edge\n",
    "                                csv.writer(e_file).writerow([str(src_id), str(dst_id), src_position, dst_position, address, value])\n",
    "\n",
    "                            for outgoing_edge in tx['out']:\n",
    "                                # consider UTXOs in output\n",
    "                                src_id = tx_id\n",
    "                                src_position = outgoing_edge['n']\n",
    "\n",
    "                                if outgoing_edge['spending_outpoints'] == []:\n",
    "                                    dst_id = 'UTXO'+str(count_UXTO)\n",
    "                                    count_UXTO += 1\n",
    "                                    dst_position = -1\n",
    "                                else:\n",
    "                                    dst_id = outgoing_edge['spending_outpoints'][0]['tx_index']\n",
    "                                    dst_position = outgoing_edge['spending_outpoints'][0]['n']\n",
    "\n",
    "                                try:\n",
    "                                    address = outgoing_edge['addr']\n",
    "                                except KeyError:\n",
    "                                    continue\n",
    "\n",
    "                                value = outgoing_edge['value']\n",
    "\n",
    "                                n_output += 1\n",
    "                                amount_output += value\n",
    "\n",
    "                                #save spent UTXO information as edge\n",
    "                                csv.writer(e_file).writerow([str(src_id), str(dst_id), src_position, dst_position, address, value])\n",
    "\n",
    "                                if dst_id == 'UTXO'+str(count_UXTO-1):\n",
    "                                    #save unspend UTXO information as vertex\n",
    "                                    csv.writer(v_file).writerow([str(dst_id), 'UTXO', '', -1, '', 0, 1, value, 0, 0, -1])\n",
    "                            \n",
    "                            # save transaction information as vertex\n",
    "                            csv.writer(v_file).writerow([str(tx_id), 'tx', tx_hash, block_height, block_hash, fee, n_input, amount_input, n_output, amount_output, temporal_index])\n",
    "                            temporal_index += 1\n",
    "\n",
    "            # genetare dataframes and save them locally\n",
    "            v_df = spark_session.read.load(v_path, \n",
    "                                    format=\"csv\", \n",
    "                                    sep=\",\", \n",
    "                                    inferSchema=\"true\", \n",
    "                                    header=\"true\"\n",
    "                                    ).distinct()\n",
    "            e_df = spark_session.read.load(e_path, \n",
    "                                    format=\"csv\", \n",
    "                                    sep=\",\", \n",
    "                                    inferSchema=\"true\",\n",
    "                                    header=\"true\"\n",
    "                                    ).distinct()\n",
    "\n",
    "            e_df.createOrReplaceTempView('EDGES')\n",
    "            a_df = e_df.select('address').subtract(spark_session.sql(\"select address from EDGES where address like 'coinbase%'\"))\n",
    "            a_df = a_df.withColumn('cluster_id', monotonically_increasing_id())\n",
    "\n",
    "            v_path = os.path.join(d_path, 'vertices-{}-{}'.format(start_block, end_block))\n",
    "            e_path = os.path.join(d_path, 'edges-{}-{}'.format(start_block, end_block))\n",
    "            a_path = os.path.join(d_path, 'addresses-{}-{}'.format(start_block, end_block))\n",
    "\n",
    "            v_df.write.save(path=v_path, format='csv', header='True')\n",
    "            e_df.write.save(path=e_path, format='csv', header='True')\n",
    "            a_df.write.save(path=a_path, format='csv', header='True')\n",
    "\n",
    "            os.remove(os.path.join(d_path, 'vertices-{}-{}.csv'.format(start_block, end_block)))\n",
    "            os.remove(os.path.join(d_path, 'edges-{}-{}.csv'.format(start_block, end_block)))\n",
    "\n",
    "            if debug: print('dataset downloaded')\n",
    "    \n",
    "    # return dataset files paths\n",
    "    return v_path, e_path, a_path, d_path"
   ]
  },
  {
   "cell_type": "code",
   "execution_count": 14,
   "metadata": {
    "colab": {
     "base_uri": "https://localhost:8080/"
    },
    "id": "gXMjcOP_Q_6-",
    "outputId": "be97bdfe-6ee6-4d6f-b302-d7e1c097bcb4"
   },
   "outputs": [
    {
     "name": "stdout",
     "output_type": "stream",
     "text": [
      "dataset downloaded from https://github.com/VincenzoImp/Bitcoin-Address-Clustering/master/dataset/blocks-0-120000\n"
     ]
    }
   ],
   "source": [
    "v_path, e_path, a_path, d_path = download_dataset(start_block, end_block, GDRIVE_DATA_DIR, spark, True)"
   ]
  },
  {
   "cell_type": "code",
   "execution_count": 15,
   "metadata": {
    "id": "PaoKRRzuN9xN"
   },
   "outputs": [],
   "source": [
    "v_df = spark.read.load(v_path, \n",
    "                         format=\"csv\", \n",
    "                         sep=\",\", \n",
    "                         inferSchema=\"true\", \n",
    "                         header=\"true\"\n",
    "                         )\n",
    "e_df = spark.read.load(e_path, \n",
    "                         format=\"csv\", \n",
    "                         sep=\",\", \n",
    "                         inferSchema=\"true\", \n",
    "                         header=\"true\"\n",
    "                         )\n",
    "a_df = spark.read.load(a_path, \n",
    "                         format=\"csv\", \n",
    "                         sep=\",\", \n",
    "                         inferSchema=\"true\", \n",
    "                         header=\"true\"\n",
    "                         )\n",
    "unknown_v_df = e_df.select('src_id').union(e_df.select('dst_id')).distinct().subtract(v_df.select('id')).withColumnRenamed('src_id', 'id')\n",
    "unknown_v_df = unknown_v_df.withColumn('note', lit('unknown_tx')) \\\n",
    "                          .withColumn('tx_hash', lit(None)) \\\n",
    "                          .withColumn('block_height', lit(-1)) \\\n",
    "                          .withColumn('block_hash', lit(None)) \\\n",
    "                          .withColumn('fee', lit(0)) \\\n",
    "                          .withColumn('n_input', lit(0)) \\\n",
    "                          .withColumn('amount_input', lit(0)) \\\n",
    "                          .withColumn('n_output', lit(0)) \\\n",
    "                          .withColumn('amount_output', lit(0)) \\\n",
    "                          .withColumn('temporal_index', lit(-1))\n",
    "                          \n",
    "v_df = v_df.union(unknown_v_df)\n",
    "\n",
    "v_df.createOrReplaceTempView('VERTICES')\n",
    "known_tx_df = spark.sql(\"select * from VERTICES where note = 'tx'\")"
   ]
  },
  {
   "cell_type": "code",
   "execution_count": 16,
   "metadata": {
    "colab": {
     "base_uri": "https://localhost:8080/"
    },
    "id": "31g2CVI3da55",
    "outputId": "a2178d23-28c7-41b4-d055-042c0ff29869"
   },
   "outputs": [
    {
     "name": "stdout",
     "output_type": "stream",
     "text": [
      "Total nodes: 644770\n",
      "Total edges: 774633\n",
      "Total addresses: 416792\n",
      "Total known transactions: 435536\n"
     ]
    }
   ],
   "source": [
    "print(\"Total nodes: {}\".format(v_df.count()))\n",
    "print(\"Total edges: {}\".format(e_df.count()))\n",
    "print(\"Total addresses: {}\".format(a_df.count()))\n",
    "print(\"Total known transactions: {}\".format(known_tx_df.count()))"
   ]
  },
  {
   "cell_type": "code",
   "execution_count": 17,
   "metadata": {
    "colab": {
     "base_uri": "https://localhost:8080/"
    },
    "id": "XkGHDOcddjjV",
    "outputId": "9503b4e9-fad6-497c-d92e-04138f3169df"
   },
   "outputs": [
    {
     "name": "stdout",
     "output_type": "stream",
     "text": [
      "root\n",
      " |-- id: string (nullable = true)\n",
      " |-- note: string (nullable = true)\n",
      " |-- tx_hash: string (nullable = true)\n",
      " |-- block_height: integer (nullable = true)\n",
      " |-- block_hash: string (nullable = true)\n",
      " |-- fee: integer (nullable = true)\n",
      " |-- n_input: integer (nullable = true)\n",
      " |-- amount_input: long (nullable = true)\n",
      " |-- n_output: integer (nullable = true)\n",
      " |-- amount_output: long (nullable = true)\n",
      " |-- temporal_index: integer (nullable = true)\n",
      "\n",
      "root\n",
      " |-- src_id: string (nullable = true)\n",
      " |-- dst_id: string (nullable = true)\n",
      " |-- src_position: long (nullable = true)\n",
      " |-- dst_position: integer (nullable = true)\n",
      " |-- address: string (nullable = true)\n",
      " |-- value: long (nullable = true)\n",
      "\n",
      "root\n",
      " |-- address: string (nullable = true)\n",
      " |-- cluster_id: long (nullable = true)\n",
      "\n",
      "root\n",
      " |-- id: string (nullable = true)\n",
      " |-- note: string (nullable = true)\n",
      " |-- tx_hash: string (nullable = true)\n",
      " |-- block_height: integer (nullable = true)\n",
      " |-- block_hash: string (nullable = true)\n",
      " |-- fee: integer (nullable = true)\n",
      " |-- n_input: integer (nullable = true)\n",
      " |-- amount_input: long (nullable = true)\n",
      " |-- n_output: integer (nullable = true)\n",
      " |-- amount_output: long (nullable = true)\n",
      " |-- temporal_index: integer (nullable = true)\n",
      "\n"
     ]
    }
   ],
   "source": [
    "v_df.printSchema()\n",
    "e_df.printSchema()\n",
    "a_df.printSchema()\n",
    "known_tx_df.printSchema()"
   ]
  },
  {
   "cell_type": "code",
   "execution_count": 18,
   "metadata": {
    "colab": {
     "base_uri": "https://localhost:8080/"
    },
    "id": "Zgzyaju3dp3B",
    "outputId": "a5e93623-0521-41df-924f-7fcb2107be62"
   },
   "outputs": [
    {
     "name": "stdout",
     "output_type": "stream",
     "text": [
      "+----------------+--------+----------------------------------------------------------------+------------+----------------------------------------------------------------+---+-------+------------+--------+-------------+--------------+\n",
      "|id              |note    |tx_hash                                                         |block_height|block_hash                                                      |fee|n_input|amount_input|n_output|amount_output|temporal_index|\n",
      "+----------------+--------+----------------------------------------------------------------+------------+----------------------------------------------------------------+---+-------+------------+--------+-------------+--------------+\n",
      "|coinbase144     |coinbase|null                                                            |-1          |null                                                            |0  |0      |0           |1       |5000000000   |-1            |\n",
      "|UTXO173         |UTXO    |null                                                            |-1          |null                                                            |0  |1      |5000000000  |0       |0            |-1            |\n",
      "|UTXO186         |UTXO    |null                                                            |-1          |null                                                            |0  |1      |5000000000  |0       |0            |-1            |\n",
      "|UTXO252         |UTXO    |null                                                            |-1          |null                                                            |0  |1      |5000000000  |0       |0            |-1            |\n",
      "|563524614200817 |tx      |cfca74c0c3b1f8560fbc3866915a161d4fc1c03b85acb9ef3a8bef9c632e0410|353         |00000000dec5e5fbf851495db241e624012d675bbef96ec6dab5cdc91fa3b53b|0  |1      |5000000000  |1       |5000000000   |360           |\n",
      "|UTXO390         |UTXO    |null                                                            |-1          |null                                                            |0  |1      |5000000000  |0       |0            |-1            |\n",
      "|coinbase480     |coinbase|null                                                            |-1          |null                                                            |0  |0      |0           |1       |5000000000   |-1            |\n",
      "|UTXO476         |UTXO    |null                                                            |-1          |null                                                            |0  |1      |5000000000  |0       |0            |-1            |\n",
      "|coinbase716     |coinbase|null                                                            |-1          |null                                                            |0  |0      |0           |1       |5000000000   |-1            |\n",
      "|UTXO743         |UTXO    |null                                                            |-1          |null                                                            |0  |1      |5000000000  |0       |0            |-1            |\n",
      "|881193180662994 |tx      |4b4642c2f07835ca1299b7085c08d8702d66e659ff8dde9e6091661834860b19|905         |00000000a8ed265d3d7d4a829dac44c97b30f1a519bcd7ca038a7c680755a30c|0  |1      |5000000000  |1       |5000000000   |923           |\n",
      "|2515756714985193|tx      |d50f65db5bcb69874642e25c0822e8e25bd0d12d08ed49bb124e37b40a8a8047|1081        |00000000a748cbe2ec8fca05e61699e970173ab54dd13737a69a514fce64c3ee|0  |1      |5000000000  |1       |5000000000   |1102          |\n",
      "|UTXO992         |UTXO    |null                                                            |-1          |null                                                            |0  |1      |5000000000  |0       |0            |-1            |\n",
      "|UTXO1049        |UTXO    |null                                                            |-1          |null                                                            |0  |1      |5000000000  |0       |0            |-1            |\n",
      "|3690346203056177|tx      |bbf9d4ea04d443211005058bb1697dbe17936016adc6ae49d58e414074cde268|1181        |00000000f39741da98b6f3401782b09fcfe02dba0ef247ac9f3342b70db463e1|0  |1      |5000000000  |1       |5000000000   |1202          |\n",
      "|1886044634084161|tx      |3db445c1fbce899ea4286b8e80afaf5dd932393a39c55652a20e9a8fe3c79a35|1436        |00000000c6bdeda56c538ca9a63a2f0e46c5e3df8c0eac955300f1964f5cb1a8|0  |1      |5000000000  |1       |5000000000   |1461          |\n",
      "|UTXO1400        |UTXO    |null                                                            |-1          |null                                                            |0  |1      |5000000000  |0       |0            |-1            |\n",
      "|coinbase1615    |coinbase|null                                                            |-1          |null                                                            |0  |0      |0           |1       |5000000000   |-1            |\n",
      "|coinbase1695    |coinbase|null                                                            |-1          |null                                                            |0  |0      |0           |1       |5000000000   |-1            |\n",
      "|UTXO1608        |UTXO    |null                                                            |-1          |null                                                            |0  |1      |5000000000  |0       |0            |-1            |\n",
      "+----------------+--------+----------------------------------------------------------------+------------+----------------------------------------------------------------+---+-------+------------+--------+-------------+--------------+\n",
      "only showing top 20 rows\n",
      "\n",
      "+----------------+----------------+------------+------------+----------------------------------+----------+\n",
      "|src_id          |dst_id          |src_position|dst_position|address                           |value     |\n",
      "+----------------+----------------+------------+------------+----------------------------------+----------+\n",
      "|3628106370150103|UTXO89          |0           |-1          |1BnhHuk62o9tPuG5JerexTX3MhnR8sobLm|5000000000|\n",
      "|coinbase216     |56554460906045  |4294967295  |0           |coinbase216                       |5000000000|\n",
      "|3355981834706124|UTXO270         |0           |-1          |1AKQFY7YcDFj4xpGpYQ2GnpyGu1YGyUHcF|5000000000|\n",
      "|coinbase348     |6638960124589330|4294967295  |0           |coinbase348                       |5000000000|\n",
      "|8353454767917996|UTXO406         |0           |-1          |1LWsDG5tyyRrKg7a8YvmACD34ovxX514aA|5000000000|\n",
      "|7522455066869868|UTXO429         |0           |-1          |1CtV9nooWqR8zYbN3PnetnhmkFEZiCWmCP|5000000000|\n",
      "|8940088839617268|UTXO431         |0           |-1          |1Q7Ach95Kv3eFf5DxTNTsgMxMhBFtJtXuf|5000000000|\n",
      "|4880392915581309|UTXO583         |0           |-1          |1E3ENaJ5UiVWHyzHvDa3jpnj1RUaKgdF4T|5000000000|\n",
      "|5935868801175383|UTXO890         |0           |-1          |12aEVs382mMTcVDrRGj9FhkXFeHaeyL5Jr|5000000000|\n",
      "|2437121443161923|UTXO1005        |0           |-1          |15zzrk3b71DWRBJ3mk36YbLAtUUJnYFbhy|5000000000|\n",
      "|coinbase1126    |1573022456004800|4294967295  |0           |coinbase1126                      |5000000000|\n",
      "|coinbase1295    |4039766567270086|4294967295  |0           |coinbase1295                      |5000000000|\n",
      "|coinbase1419    |7927349273666572|4294967295  |0           |coinbase1419                      |5000000000|\n",
      "|1793643441614570|UTXO1286        |0           |-1          |156UHojM4GC9HmqM8tmeWk7RhAuhprFXbo|5000000000|\n",
      "|coinbase1605    |2343347440708146|4294967295  |0           |coinbase1605                      |5000000000|\n",
      "|427613614425043 |UTXO1471        |0           |-1          |1Mj84GjfCsk3Cxv8T2WP1KaMkkDfJm3L9Q|5000000000|\n",
      "|coinbase1759    |1537057447335656|4294967295  |0           |coinbase1759                      |5000000000|\n",
      "|7266922639802432|UTXO1667        |0           |-1          |1FEZSvooD1vaa8pDxz3hVMmzarjL7J8zUo|5000000000|\n",
      "|coinbase2302    |6170794455668463|4294967295  |0           |coinbase2302                      |5000000000|\n",
      "|6388245315065960|UTXO2130        |0           |-1          |1QHBKxHoPqZgvcp8AqYb5ictoiwiQzS5ZB|5000000000|\n",
      "+----------------+----------------+------------+------------+----------------------------------+----------+\n",
      "only showing top 20 rows\n",
      "\n",
      "+----------------------------------+-----------+\n",
      "|address                           |cluster_id |\n",
      "+----------------------------------+-----------+\n",
      "|1NZz1UN616LfyX87zGRnVifiWRSN5xm9ht|60129542144|\n",
      "|1M25afExu5qjfC5gaeAhjfzNnDDLG5XaBy|60129542145|\n",
      "|1QGmrvZTj3gFgTmVGVJypsVzXQAsnsTvfW|60129542146|\n",
      "|1EtvzKQpXyqswKopcvMheAYDysFA1ajRWN|60129542147|\n",
      "|19qmNYvQxEn7pKYQZGzsi1QcutMXPmDAT1|60129542148|\n",
      "|12CbDsSLXTDSwYiP13JZXvtfAbheLFmQ4T|60129542149|\n",
      "|17zsdkdkkEWqznp9Xz9KreM6oF3FY9jCEa|60129542150|\n",
      "|1MBBJBFEaYKHFZAeV7hQ7DWdu3aZktjzFH|60129542151|\n",
      "|1HDRNeAq9ZS8Zt4UZAu4ogkSaAFcTkv1aP|60129542152|\n",
      "|1CbAopr7sNMKjsJa8dAS6P5sM788kmMooo|60129542153|\n",
      "|1EEbC13oFas6hLXh5WvPjJd1DZfoagd5os|60129542154|\n",
      "|1M59ddtkgQuaHAgX96No2FKg1XjARV515i|60129542155|\n",
      "|1CUKvVHDga1yhs2HbXZH4FT5Xi6VdqoZgM|60129542156|\n",
      "|1KqYMG4Mzdy3z7bmNN2zpEyyFNLWum7MSB|60129542157|\n",
      "|18xu1Xu1B9nh8RxHVWDeywvnk4ED9Hg9cH|60129542158|\n",
      "|1N7GVNgJcYnqdV7niH6zN8nSy7wL5Uf1fJ|60129542159|\n",
      "|1BjpESo9nYoqLUp58YoqsnGSyHJYNqp9T9|60129542160|\n",
      "|1HGDYFtZGmNTCaNcq29i1Aj97C9APTSmvK|60129542161|\n",
      "|1Eq1HBuEVzHypp82UGQ4Cdeaanq4g3wVam|60129542162|\n",
      "|1FM6RwfL6NeWJuq5qbAPnaKdU1ELLhzd18|60129542163|\n",
      "+----------------------------------+-----------+\n",
      "only showing top 20 rows\n",
      "\n",
      "+----------------+----+----------------------------------------------------------------+------------+----------------------------------------------------------------+---+-------+------------+--------+-------------+--------------+\n",
      "|id              |note|tx_hash                                                         |block_height|block_hash                                                      |fee|n_input|amount_input|n_output|amount_output|temporal_index|\n",
      "+----------------+----+----------------------------------------------------------------+------------+----------------------------------------------------------------+---+-------+------------+--------+-------------+--------------+\n",
      "|563524614200817 |tx  |cfca74c0c3b1f8560fbc3866915a161d4fc1c03b85acb9ef3a8bef9c632e0410|353         |00000000dec5e5fbf851495db241e624012d675bbef96ec6dab5cdc91fa3b53b|0  |1      |5000000000  |1       |5000000000   |360           |\n",
      "|881193180662994 |tx  |4b4642c2f07835ca1299b7085c08d8702d66e659ff8dde9e6091661834860b19|905         |00000000a8ed265d3d7d4a829dac44c97b30f1a519bcd7ca038a7c680755a30c|0  |1      |5000000000  |1       |5000000000   |923           |\n",
      "|2515756714985193|tx  |d50f65db5bcb69874642e25c0822e8e25bd0d12d08ed49bb124e37b40a8a8047|1081        |00000000a748cbe2ec8fca05e61699e970173ab54dd13737a69a514fce64c3ee|0  |1      |5000000000  |1       |5000000000   |1102          |\n",
      "|3690346203056177|tx  |bbf9d4ea04d443211005058bb1697dbe17936016adc6ae49d58e414074cde268|1181        |00000000f39741da98b6f3401782b09fcfe02dba0ef247ac9f3342b70db463e1|0  |1      |5000000000  |1       |5000000000   |1202          |\n",
      "|1886044634084161|tx  |3db445c1fbce899ea4286b8e80afaf5dd932393a39c55652a20e9a8fe3c79a35|1436        |00000000c6bdeda56c538ca9a63a2f0e46c5e3df8c0eac955300f1964f5cb1a8|0  |1      |5000000000  |1       |5000000000   |1461          |\n",
      "|5277687267313419|tx  |16f33c8670289de8c8519928eb534942e54fbc237cdca7b3a659386e963a0096|2010        |00000000612cddac3513ac8a59168132e07dcf56690f6da51b76663a9182df2b|0  |1      |5000000000  |1       |5000000000   |2040          |\n",
      "|8593499483164245|tx  |291000e94bdcb65db39f0faf3a359e4de28d09ac5aa725a0a0ae729220f03df4|2636        |00000000438a2e8e2e9e132dfa69a6a67704c57bfb3cc2930349260ec05d3486|0  |1      |5000000000  |1       |5000000000   |2669          |\n",
      "|3673557673204206|tx  |609ad70c2ffba5b2ac11cd1525ce33be7e6f2fe0bedee0880c77cf6261a66868|2940        |00000000c03c0de143abe860076d2a0ffa92f9f1dc08eb0c94c6bc3b8998e27a|0  |1      |5000000000  |1       |5000000000   |2990          |\n",
      "|8776194308097506|tx  |229917bd80f2284dd7a22559749d2e3e4cdc8bc9fb96e4f1e4122fb6c1376ff9|2994        |00000000f6a31af28cfe8839f21bf7111283bedb001373f206f86067303355bc|0  |1      |5000000000  |1       |5000000000   |3044          |\n",
      "|5942645310990394|tx  |31176f8d969e2f5f26882ff3eabeeed283f9b56b7b8b478e45d3414d766fe6a8|3131        |000000003b4f4c304e80a5fbdbaf200ae4a910bd5432aae07ea0cf45e03b76a3|0  |1      |5000000000  |1       |5000000000   |3181          |\n",
      "|3710436898114488|tx  |4310b3b8bf9591e3ceb66e44b9b4a0e556a34ba63835a1e6d0c35d304afb7469|3134        |000000001ee955645635bf9569c048ca034efef0bb5877f24767c310ea33fd23|0  |1      |5000000000  |1       |5000000000   |3184          |\n",
      "|96783619374603  |tx  |e12d3f5184c4fe2f3908a116785b1c32590c028bee9910dc6d59f0058a31c002|3507        |00000000414f125d89e439ff1bf0054ddda03749674e936ed0471d8760752994|0  |1      |5000000000  |1       |5000000000   |3561          |\n",
      "|2278267292002436|tx  |fe7008b3a31416717d7df128902c884b4dd1ba4bf133d90bba2144258593c040|3881        |00000000c723fcfb145646bd41a0344c02e2a6e490d0fc15bee1c5be5ddc404e|0  |1      |5000000000  |1       |5000000000   |3937          |\n",
      "|5195181229050095|tx  |f340d36663a01bd8fdd1203cc48a8310404ea66f1bd8054e6c7f479c1deba793|4037        |0000000045c689dc49dee778a9fbca7b5bc48fceca9f05cde5fc8d667f00e7d2|0  |1      |5000000000  |1       |5000000000   |4095          |\n",
      "|5844129209073959|tx  |1619902e5c581c2d44c1ad117d5134ca199ee80d9ce289a6823e093aeca219a6|4624        |0000000055156abeea523f65997cbf0a950a8364d3bda7ef1ea190dfd3842761|0  |1      |5000000000  |1       |5000000000   |4686          |\n",
      "|3914222767566058|tx  |db592dd90e53588cac5983b4aec0bd01b0e02b7bbdc2b8cc1f53670f0db83f6f|4678        |00000000f460589c3a045fa38573c8d3e0688db64b052bb238bd5854b1db1db6|0  |1      |5000000000  |1       |5000000000   |4740          |\n",
      "|1246176799551415|tx  |936ed21eae7ade9d51aaa52c8e73dddbba5f44c61b6736701fbf7db72b216b23|4840        |000000002e43d0746650ecdbea7fe84bf70a08d2a9e876aaa2b61a65065dc73e|0  |1      |5000000000  |1       |5000000000   |4902          |\n",
      "|445742614571975 |tx  |f0e10d5bb31b182eb8d7509fd16490237345c3be2ad0a1376d3c5e9f5134ab0c|4930        |00000000696b0f25ca63595ee901c059ca94ebb99ce16a84c421a8565f86c77a|0  |1      |5000000000  |1       |5000000000   |4993          |\n",
      "|8735005524357819|tx  |326d2a34ff8a56d9b2b7a6806b60040595a4c06ccb81873476d9951fab8743f8|5163        |000000003dc1c00b7d364fbdaf620be15e6d6d9f2ef6129e9569075460902f10|0  |1      |5000000000  |1       |5000000000   |5226          |\n",
      "|2040783629645809|tx  |33de74a344be8233d7f0df02172cd7736f9af9110c4537209d8bbf77baa7003a|5299        |00000000929fa878ae228c8df06d15f897d2c33e9bafd7932dbe0604c4944ca6|0  |1      |5000000000  |1       |5000000000   |5366          |\n",
      "+----------------+----+----------------------------------------------------------------+------------+----------------------------------------------------------------+---+-------+------------+--------+-------------+--------------+\n",
      "only showing top 20 rows\n",
      "\n"
     ]
    }
   ],
   "source": [
    "v_df.show(truncate=False)\n",
    "e_df.show(truncate=False)\n",
    "a_df.show(truncate=False)\n",
    "known_tx_df.show(truncate=False)"
   ]
  },
  {
   "cell_type": "markdown",
   "metadata": {
    "id": "1ekR20IG8B9R"
   },
   "source": [
    "## **4.3.** Transaction Graph generation"
   ]
  },
  {
   "cell_type": "code",
   "execution_count": 19,
   "metadata": {
    "id": "RBjC9lzpUcCm"
   },
   "outputs": [],
   "source": [
    "def generate_nx_graph(v_df, e_df, graph_path, start_block, end_block, debug=False):\n",
    "\n",
    "    graph_name = os.path.basename(graph_path)\n",
    "    d_path = os.path.dirname(graph_path)\n",
    "    if graph_name in os.listdir(os.path.dirname(graph_path)):\n",
    "        # graph is already in directory\n",
    "        G = nx.read_gexf(graph_path)\n",
    "        G = nx.MultiDiGraph(G)\n",
    "        if debug: print('graph is already in {}'.format(d_path))\n",
    "    else:\n",
    "        try:\n",
    "            # try to dump graph from github repo datasets\n",
    "            request.urlretrieve('https://raw.github.com/VincenzoImp/Bitcoin-Address-Clustering/master/dataset/blocks-{}-{}/{}'.format(start_block, end_block, graph_name), graph_path)\n",
    "            G = nx.read_gexf(graph_path)\n",
    "            G = nx.MultiDiGraph(G)\n",
    "            if debug: print('graph downloaded from https://github.com/VincenzoImp/Bitcoin-Address-Clustering/master/dataset/blocks-{}-{}'.format(start_block, end_block))\n",
    "        except:\n",
    "            # generate graph manually\n",
    "            if debug: print('generating graph...')\n",
    "            G = nx.MultiDiGraph()\n",
    "\n",
    "            # add nodes\n",
    "            for node in v_df.rdd.collect():\n",
    "                # known transaction node\n",
    "                if node.note == 'tx':\n",
    "                    G.add_node(\n",
    "                        node_for_adding=str(node.id), \n",
    "                        note=node.note, \n",
    "                        tx_hash=node.tx_hash, \n",
    "                        block_height=node.block_height,\n",
    "                        fee=node.fee/100000000,\n",
    "                        n_input=node.n_input,\n",
    "                        amount_input=node.amount_input/100000000,\n",
    "                        n_output=node.n_output,\n",
    "                        amount_output=node.amount_output/100000000\n",
    "                        )\n",
    "                # UTXO node\n",
    "                elif node.note == 'UTXO':\n",
    "                    G.add_node(\n",
    "                        node_for_adding=str(node.id), \n",
    "                        note=node.note,\n",
    "                        amount=node.amount_input/100000000\n",
    "                    )\n",
    "                # Coinbase node\n",
    "                elif node.note == 'coinbase':\n",
    "                    G.add_node(\n",
    "                        node_for_adding=str(node.id), \n",
    "                        note=node.note,\n",
    "                        amount=node.amount_output/100000000\n",
    "                    )\n",
    "                # unknown transaction node\n",
    "                elif node.note == 'unknown_tx':\n",
    "                    G.add_node(\n",
    "                        node_for_adding=str(node.id), \n",
    "                        note=node.note\n",
    "                    )\n",
    "            # add edges\n",
    "            for edge in e_df.rdd.collect():\n",
    "                G.add_edge(\n",
    "                    u_for_edge=str(edge.src_id),\n",
    "                    v_for_edge=str(edge.dst_id), \n",
    "                    key=None,\n",
    "                    address=edge.address,\n",
    "                    value=edge.value/100000000,\n",
    "                )\n",
    "                \n",
    "            # save graph in graph_path\n",
    "            nx.write_gexf(G, graph_path)\n",
    "            if debug: print('graph generated')\n",
    "\n",
    "    return G"
   ]
  },
  {
   "cell_type": "code",
   "execution_count": 20,
   "metadata": {
    "colab": {
     "base_uri": "https://localhost:8080/"
    },
    "id": "dNK57chkieVP",
    "outputId": "a0b8a94e-bdf4-4930-8571-f32f6df4847f"
   },
   "outputs": [
    {
     "name": "stdout",
     "output_type": "stream",
     "text": [
      "graph downloaded from https://github.com/VincenzoImp/Bitcoin-Address-Clustering/master/dataset/blocks-0-120000\n"
     ]
    }
   ],
   "source": [
    "graph_path = os.path.join(d_path, 'graph-{}-{}.gexf.bz2'.format(start_block, end_block))\n",
    "nx_graph = generate_nx_graph(v_df, e_df, graph_path, start_block, end_block, True)"
   ]
  },
  {
   "cell_type": "markdown",
   "metadata": {
    "id": "woABEepU7I3x"
   },
   "source": [
    "## **4.4.** Look inside the blockchain"
   ]
  },
  {
   "cell_type": "code",
   "execution_count": 21,
   "metadata": {
    "colab": {
     "base_uri": "https://localhost:8080/"
    },
    "id": "eIilhZlc706W",
    "outputId": "d3680ec2-998e-45ac-9faf-4ac6772eff98"
   },
   "outputs": [
    {
     "name": "stdout",
     "output_type": "stream",
     "text": [
      "Total nodes: 644770\n",
      "Total edges: 774633\n",
      "Total addresses: 416792\n",
      "Total known transactions: 435536\n"
     ]
    }
   ],
   "source": [
    "print(\"Total nodes: {}\".format(v_df.count()))\n",
    "print(\"Total edges: {}\".format(e_df.count()))\n",
    "print(\"Total addresses: {}\".format(a_df.count()))\n",
    "print(\"Total known transactions: {}\".format(known_tx_df.count()))"
   ]
  },
  {
   "cell_type": "markdown",
   "metadata": {
    "id": "LS2PfDxFb4CC"
   },
   "source": [
    "### **4.4.1.** Connected Components"
   ]
  },
  {
   "cell_type": "code",
   "execution_count": 22,
   "metadata": {
    "id": "v5oJkOpn7_tx"
   },
   "outputs": [],
   "source": [
    "cc = [nx_graph.subgraph(c).copy() for c in nx.connected_components(nx_graph.to_undirected())]\n",
    "tmp_list = [(i, len(c.nodes()), len(c.edges())) for i, c in enumerate(cc)]\n",
    "cc_df = spark.createDataFrame(data = tmp_list, schema = ['id', 'num_nodes', 'num_edges'])"
   ]
  },
  {
   "cell_type": "code",
   "execution_count": 23,
   "metadata": {
    "colab": {
     "base_uri": "https://localhost:8080/"
    },
    "id": "9UrpA8G8MYFj",
    "outputId": "75de1ca2-c19c-4d1b-9733-abe970ba5773"
   },
   "outputs": [
    {
     "name": "stdout",
     "output_type": "stream",
     "text": [
      "39144\n",
      "root\n",
      " |-- id: long (nullable = true)\n",
      " |-- num_nodes: long (nullable = true)\n",
      " |-- num_edges: long (nullable = true)\n",
      "\n",
      "+---+---------+---------+\n",
      "| id|num_nodes|num_edges|\n",
      "+---+---------+---------+\n",
      "|  0|        3|        2|\n",
      "|  1|        3|        2|\n",
      "|  2|        3|        2|\n",
      "|  3|        3|        2|\n",
      "|  4|        3|        2|\n",
      "|  5|        3|        2|\n",
      "|  6|        3|        2|\n",
      "|  7|        3|        2|\n",
      "|  8|        3|        2|\n",
      "|  9|        3|        2|\n",
      "| 10|     2939|     2940|\n",
      "| 11|        3|        2|\n",
      "| 12|        3|        2|\n",
      "| 13|        3|        2|\n",
      "| 14|        3|        2|\n",
      "| 15|        3|        2|\n",
      "| 16|        3|        2|\n",
      "| 17|        3|        2|\n",
      "| 18|        3|        2|\n",
      "| 19|        3|        2|\n",
      "+---+---------+---------+\n",
      "only showing top 20 rows\n",
      "\n"
     ]
    }
   ],
   "source": [
    "print(cc_df.count())\n",
    "cc_df.printSchema()\n",
    "cc_df.show()"
   ]
  },
  {
   "cell_type": "code",
   "execution_count": 24,
   "metadata": {
    "id": "Ooga4vtCOJU_"
   },
   "outputs": [],
   "source": [
    "cc_df.createOrReplaceTempView('CC')\n",
    "statistics_cc_df = spark.sql(\"select num_nodes, num_edges, count(num_nodes, num_edges) as n_components from CC group by num_nodes, num_edges order by num_nodes, num_edges\")"
   ]
  },
  {
   "cell_type": "code",
   "execution_count": 25,
   "metadata": {
    "colab": {
     "base_uri": "https://localhost:8080/"
    },
    "id": "EbqRCi3PRmwT",
    "outputId": "aa4bce8a-ec36-4722-e8e8-378372d7621f"
   },
   "outputs": [
    {
     "name": "stdout",
     "output_type": "stream",
     "text": [
      "146\n",
      "root\n",
      " |-- num_nodes: long (nullable = true)\n",
      " |-- num_edges: long (nullable = true)\n",
      " |-- n_components: long (nullable = false)\n",
      "\n",
      "+---------+---------+------------+\n",
      "|num_nodes|num_edges|n_components|\n",
      "+---------+---------+------------+\n",
      "|3        |2        |36463       |\n",
      "|4        |3        |541         |\n",
      "|4        |4        |2           |\n",
      "|5        |4        |433         |\n",
      "|5        |5        |1           |\n",
      "|6        |5        |152         |\n",
      "|6        |6        |5           |\n",
      "|7        |6        |219         |\n",
      "|7        |7        |3           |\n",
      "|7        |8        |1           |\n",
      "|8        |7        |74          |\n",
      "|8        |8        |3           |\n",
      "|8        |10       |1           |\n",
      "|9        |8        |149         |\n",
      "|9        |9        |5           |\n",
      "|10       |9        |68          |\n",
      "|10       |11       |1           |\n",
      "|10       |12       |1           |\n",
      "|11       |10       |68          |\n",
      "|11       |12       |1           |\n",
      "|12       |11       |30          |\n",
      "|12       |12       |2           |\n",
      "|12       |14       |1           |\n",
      "|13       |12       |67          |\n",
      "|13       |14       |1           |\n",
      "|13       |20       |1           |\n",
      "|14       |13       |16          |\n",
      "|14       |14       |1           |\n",
      "|15       |14       |57          |\n",
      "|15       |17       |2           |\n",
      "|15       |21       |1           |\n",
      "|16       |15       |38          |\n",
      "|17       |16       |28          |\n",
      "|17       |18       |1           |\n",
      "|18       |17       |8           |\n",
      "|18       |21       |1           |\n",
      "|19       |18       |129         |\n",
      "|20       |19       |6           |\n",
      "|20       |20       |1           |\n",
      "|21       |20       |46          |\n",
      "|21       |21       |1           |\n",
      "|22       |21       |16          |\n",
      "|23       |22       |16          |\n",
      "|23       |23       |1           |\n",
      "|24       |23       |13          |\n",
      "|25       |24       |16          |\n",
      "|26       |25       |7           |\n",
      "|27       |26       |8           |\n",
      "|27       |27       |1           |\n",
      "|28       |27       |4           |\n",
      "|29       |28       |7           |\n",
      "|29       |29       |1           |\n",
      "|30       |29       |12          |\n",
      "|30       |30       |1           |\n",
      "|31       |30       |23          |\n",
      "|31       |31       |1           |\n",
      "|32       |31       |6           |\n",
      "|33       |32       |10          |\n",
      "|34       |33       |4           |\n",
      "|35       |34       |6           |\n",
      "|37       |36       |2           |\n",
      "|39       |38       |12          |\n",
      "|40       |39       |3           |\n",
      "|41       |40       |145         |\n",
      "|42       |41       |4           |\n",
      "|43       |42       |5           |\n",
      "|44       |44       |1           |\n",
      "|45       |44       |5           |\n",
      "|46       |45       |5           |\n",
      "|47       |46       |3           |\n",
      "|48       |47       |1           |\n",
      "|49       |48       |4           |\n",
      "|50       |49       |3           |\n",
      "|51       |50       |7           |\n",
      "|52       |51       |1           |\n",
      "|53       |52       |1           |\n",
      "|54       |54       |1           |\n",
      "|55       |54       |1           |\n",
      "|57       |56       |2           |\n",
      "|58       |57       |1           |\n",
      "|59       |58       |3           |\n",
      "|60       |59       |2           |\n",
      "|61       |60       |9           |\n",
      "|61       |65       |1           |\n",
      "|62       |61       |3           |\n",
      "|63       |62       |2           |\n",
      "|66       |65       |1           |\n",
      "|67       |66       |1           |\n",
      "|68       |67       |1           |\n",
      "|69       |68       |2           |\n",
      "|70       |69       |1           |\n",
      "|71       |70       |4           |\n",
      "|75       |74       |1           |\n",
      "|77       |76       |2           |\n",
      "|79       |78       |3           |\n",
      "|81       |80       |22          |\n",
      "|82       |81       |4           |\n",
      "|83       |82       |7           |\n",
      "|84       |84       |1           |\n",
      "|84       |88       |1           |\n",
      "|86       |85       |2           |\n",
      "|87       |86       |1           |\n",
      "|96       |96       |1           |\n",
      "|97       |96       |1           |\n",
      "|98       |97       |1           |\n",
      "|99       |98       |2           |\n",
      "|100      |99       |2           |\n",
      "|101      |100      |2           |\n",
      "|102      |101      |1           |\n",
      "|103      |102      |1           |\n",
      "|105      |104      |1           |\n",
      "|107      |106      |2           |\n",
      "|111      |110      |1           |\n",
      "|112      |111      |1           |\n",
      "|115      |114      |2           |\n",
      "|118      |118      |1           |\n",
      "|121      |120      |15          |\n",
      "|123      |122      |1           |\n",
      "|126      |125      |1           |\n",
      "|127      |126      |2           |\n",
      "|128      |127      |3           |\n",
      "|129      |128      |1           |\n",
      "|133      |132      |1           |\n",
      "|137      |136      |1           |\n",
      "|142      |141      |1           |\n",
      "|161      |160      |3           |\n",
      "|164      |163      |1           |\n",
      "|169      |168      |1           |\n",
      "|171      |170      |14          |\n",
      "|203      |202      |1           |\n",
      "|204      |203      |1           |\n",
      "|211      |210      |1           |\n",
      "|220      |219      |1           |\n",
      "|258      |258      |1           |\n",
      "|262      |261      |1           |\n",
      "|287      |287      |1           |\n",
      "|324      |323      |1           |\n",
      "|379      |378      |1           |\n",
      "|404      |403      |1           |\n",
      "|411      |410      |1           |\n",
      "|542      |541      |1           |\n",
      "|651      |651      |1           |\n",
      "|780      |779      |1           |\n",
      "|2939     |2940     |1           |\n",
      "|16142    |16725    |1           |\n",
      "|466648   |634979   |1           |\n",
      "+---------+---------+------------+\n",
      "\n"
     ]
    }
   ],
   "source": [
    "print(statistics_cc_df.count())\n",
    "statistics_cc_df.printSchema()\n",
    "statistics_cc_df.show(statistics_cc_df.count(), truncate=False)"
   ]
  },
  {
   "cell_type": "code",
   "execution_count": 26,
   "metadata": {
    "colab": {
     "base_uri": "https://localhost:8080/",
     "height": 300
    },
    "id": "PnNrIAcRVrGg",
    "outputId": "46d95a02-5206-4b22-b227-174c575df2f9"
   },
   "outputs": [
    {
     "data": {
      "image/png": "[encoded data removed]",
      "text/plain": [
       "<Figure size 432x288 with 1 Axes>"
      ]
     },
     "metadata": {
      "needs_background": "light"
     },
     "output_type": "display_data"
    }
   ],
   "source": [
    "plt.scatter(\n",
    "    x = statistics_cc_df.toPandas()['num_nodes'], \n",
    "    y = statistics_cc_df.toPandas()['num_edges'], \n",
    "    s=statistics_cc_df.toPandas()['n_components'], \n",
    "    alpha=0.5)\n",
    "plt.xscale('log')\n",
    "plt.yscale('log')\n",
    "plt.xlabel(\"num_nodes\")\n",
    "plt.ylabel(\"num_edges\")\n",
    "plt.title(\"Connected components distribution\")\n",
    "plt.show()"
   ]
  },
  {
   "cell_type": "markdown",
   "metadata": {
    "id": "Xid6RlGNcACt"
   },
   "source": [
    "### **4.4.2.** Indegree and Outdegree of Known Transactions"
   ]
  },
  {
   "cell_type": "code",
   "execution_count": 27,
   "metadata": {
    "id": "JR2Wu6XH9Enp"
   },
   "outputs": [],
   "source": [
    "in_degree_df = spark.createDataFrame(nx_graph.in_degree(nx_graph.nodes()), schema=['id1', 'in_degree'])\n",
    "out_degree_df = spark.createDataFrame(nx_graph.out_degree(nx_graph.nodes()), schema=['id2', 'out_degree'])\n",
    "known_tx_degree_df = in_degree_df.join(out_degree_df, in_degree_df.id1 == out_degree_df.id2, 'inner')\n",
    "known_tx_degree_df = known_tx_degree_df.join(known_tx_df, known_tx_degree_df.id1 == known_tx_df.id, 'inner')\n",
    "known_tx_degree_df = known_tx_degree_df.select('id', 'in_degree', 'out_degree')"
   ]
  },
  {
   "cell_type": "code",
   "execution_count": 28,
   "metadata": {
    "colab": {
     "base_uri": "https://localhost:8080/"
    },
    "id": "m4uB8Eg0onrw",
    "outputId": "459535a7-6da5-4336-adcd-994e49568132"
   },
   "outputs": [
    {
     "name": "stdout",
     "output_type": "stream",
     "text": [
      "435536\n",
      "root\n",
      " |-- id: string (nullable = true)\n",
      " |-- in_degree: long (nullable = true)\n",
      " |-- out_degree: long (nullable = true)\n",
      "\n",
      "+----------------+---------+----------+\n",
      "|id              |in_degree|out_degree|\n",
      "+----------------+---------+----------+\n",
      "|10000567111143  |1        |2         |\n",
      "|1000074716619543|1        |2         |\n",
      "|1000098156582822|1        |2         |\n",
      "|1000182559678696|2        |2         |\n",
      "|1000256315544922|1        |1         |\n",
      "|1000294890855257|1        |1         |\n",
      "|1000316896728232|1        |2         |\n",
      "|1000329749074483|1        |1         |\n",
      "|100034959355395 |1        |2         |\n",
      "|100048939499623 |1        |1         |\n",
      "|1000536850057403|2        |1         |\n",
      "|10005377111127  |1        |2         |\n",
      "|1000545195622952|1        |2         |\n",
      "|1000569048420985|1        |1         |\n",
      "|1000588116506381|1        |1         |\n",
      "|1000662484810469|1        |1         |\n",
      "|1000674308409559|1        |1         |\n",
      "|100071165553466 |1        |2         |\n",
      "|1000754437156666|1        |2         |\n",
      "|1000810219527426|1        |2         |\n",
      "+----------------+---------+----------+\n",
      "only showing top 20 rows\n",
      "\n"
     ]
    }
   ],
   "source": [
    "print(known_tx_degree_df.count())\n",
    "known_tx_degree_df.printSchema()\n",
    "known_tx_degree_df.show(truncate=False)"
   ]
  },
  {
   "cell_type": "code",
   "execution_count": 29,
   "metadata": {
    "id": "piHMGhQlyfIS"
   },
   "outputs": [],
   "source": [
    "known_tx_degree_df.createOrReplaceTempView('KNOWN_TX_DEGREE')\n",
    "statistics_known_tx_degree_df = spark.sql(\"select in_degree, out_degree, count(in_degree, out_degree) as n_txs from KNOWN_TX_DEGREE group by in_degree, out_degree order by in_degree, out_degree\")"
   ]
  },
  {
   "cell_type": "code",
   "execution_count": 30,
   "metadata": {
    "colab": {
     "base_uri": "https://localhost:8080/"
    },
    "id": "xOrWM70Sy4-D",
    "outputId": "6d368cde-9db6-4605-bdb7-ca7eb9bd2e67"
   },
   "outputs": [
    {
     "name": "stdout",
     "output_type": "stream",
     "text": [
      "539\n",
      "root\n",
      " |-- in_degree: long (nullable = true)\n",
      " |-- out_degree: long (nullable = true)\n",
      " |-- n_txs: long (nullable = false)\n",
      "\n",
      "+---------+----------+------+\n",
      "|in_degree|out_degree|n_txs |\n",
      "+---------+----------+------+\n",
      "|1        |1         |217998|\n",
      "|1        |2         |174537|\n",
      "|1        |3         |10    |\n",
      "|1        |4         |2     |\n",
      "|1        |5         |2     |\n",
      "|1        |6         |2     |\n",
      "|1        |8         |1     |\n",
      "|1        |14        |1     |\n",
      "|1        |16        |2     |\n",
      "|1        |17        |6     |\n",
      "|1        |18        |3     |\n",
      "|1        |19        |6     |\n",
      "|1        |20        |11    |\n",
      "|1        |21        |5     |\n",
      "|1        |22        |7     |\n",
      "|1        |23        |16    |\n",
      "|1        |24        |10    |\n",
      "|1        |25        |11    |\n",
      "|1        |26        |11    |\n",
      "|1        |27        |9     |\n",
      "|1        |28        |9     |\n",
      "|1        |29        |5     |\n",
      "|1        |30        |3     |\n",
      "|1        |31        |4     |\n",
      "|1        |32        |3     |\n",
      "|1        |33        |6     |\n",
      "|1        |34        |2     |\n",
      "|1        |35        |4     |\n",
      "|1        |36        |3     |\n",
      "|1        |37        |1     |\n",
      "|1        |39        |8     |\n",
      "|1        |40        |6     |\n",
      "|1        |41        |1     |\n",
      "|1        |42        |1     |\n",
      "|1        |43        |1     |\n",
      "|1        |45        |1     |\n",
      "|1        |48        |2     |\n",
      "|1        |49        |1     |\n",
      "|1        |51        |1     |\n",
      "|1        |53        |1     |\n",
      "|1        |54        |1     |\n",
      "|1        |55        |1     |\n",
      "|1        |81        |1     |\n",
      "|1        |98        |1     |\n",
      "|1        |99        |1     |\n",
      "|2        |1         |8168  |\n",
      "|2        |2         |16256 |\n",
      "|2        |3         |3     |\n",
      "|2        |4         |1     |\n",
      "|2        |5         |1     |\n",
      "|2        |6         |1     |\n",
      "|2        |7         |1     |\n",
      "|2        |15        |1     |\n",
      "|2        |17        |1     |\n",
      "|2        |18        |5     |\n",
      "|2        |19        |3     |\n",
      "|2        |20        |2     |\n",
      "|2        |22        |6     |\n",
      "|2        |23        |7     |\n",
      "|2        |24        |6     |\n",
      "|2        |25        |3     |\n",
      "|2        |26        |3     |\n",
      "|2        |27        |5     |\n",
      "|2        |28        |7     |\n",
      "|2        |29        |1     |\n",
      "|2        |30        |3     |\n",
      "|2        |31        |1     |\n",
      "|2        |32        |4     |\n",
      "|2        |33        |5     |\n",
      "|2        |34        |3     |\n",
      "|2        |35        |4     |\n",
      "|2        |36        |3     |\n",
      "|2        |37        |4     |\n",
      "|2        |38        |2     |\n",
      "|2        |39        |7     |\n",
      "|2        |40        |4     |\n",
      "|2        |41        |3     |\n",
      "|2        |42        |4     |\n",
      "|2        |43        |3     |\n",
      "|2        |44        |2     |\n",
      "|2        |45        |4     |\n",
      "|2        |46        |2     |\n",
      "|2        |47        |3     |\n",
      "|2        |48        |2     |\n",
      "|2        |49        |2     |\n",
      "|2        |51        |3     |\n",
      "|2        |52        |2     |\n",
      "|2        |54        |1     |\n",
      "|2        |55        |1     |\n",
      "|2        |57        |2     |\n",
      "|2        |58        |2     |\n",
      "|2        |59        |3     |\n",
      "|2        |81        |1     |\n",
      "|3        |1         |3113  |\n",
      "|3        |2         |2717  |\n",
      "|3        |3         |1     |\n",
      "|3        |17        |2     |\n",
      "|3        |19        |2     |\n",
      "|3        |22        |1     |\n",
      "|3        |23        |3     |\n",
      "|3        |24        |2     |\n",
      "|3        |25        |1     |\n",
      "|3        |26        |3     |\n",
      "|3        |27        |2     |\n",
      "|3        |28        |1     |\n",
      "|3        |30        |2     |\n",
      "|3        |31        |2     |\n",
      "|3        |32        |4     |\n",
      "|3        |33        |2     |\n",
      "|3        |34        |5     |\n",
      "|3        |35        |2     |\n",
      "|3        |36        |1     |\n",
      "|3        |37        |2     |\n",
      "|3        |38        |1     |\n",
      "|3        |40        |1     |\n",
      "|3        |41        |5     |\n",
      "|3        |42        |3     |\n",
      "|3        |43        |1     |\n",
      "|3        |45        |5     |\n",
      "|3        |46        |1     |\n",
      "|3        |47        |3     |\n",
      "|3        |48        |2     |\n",
      "|3        |49        |4     |\n",
      "|3        |50        |1     |\n",
      "|3        |52        |1     |\n",
      "|3        |53        |3     |\n",
      "|3        |54        |2     |\n",
      "|3        |55        |1     |\n",
      "|3        |57        |1     |\n",
      "|3        |58        |1     |\n",
      "|3        |59        |1     |\n",
      "|3        |60        |1     |\n",
      "|3        |63        |2     |\n",
      "|3        |64        |1     |\n",
      "|3        |65        |1     |\n",
      "|3        |66        |1     |\n",
      "|3        |67        |1     |\n",
      "|3        |68        |1     |\n",
      "|3        |77        |1     |\n",
      "|3        |79        |1     |\n",
      "|3        |80        |1     |\n",
      "|3        |81        |1     |\n",
      "|4        |1         |2053  |\n",
      "|4        |2         |1271  |\n",
      "|4        |3         |1     |\n",
      "|4        |18        |1     |\n",
      "|4        |19        |1     |\n",
      "|4        |20        |1     |\n",
      "|4        |21        |1     |\n",
      "|4        |22        |2     |\n",
      "|4        |23        |1     |\n",
      "|4        |24        |1     |\n",
      "|4        |26        |1     |\n",
      "|4        |27        |3     |\n",
      "|4        |29        |1     |\n",
      "|4        |32        |1     |\n",
      "|4        |34        |2     |\n",
      "|4        |35        |2     |\n",
      "|4        |37        |3     |\n",
      "|4        |38        |2     |\n",
      "|4        |39        |4     |\n",
      "|4        |40        |1     |\n",
      "|4        |42        |2     |\n",
      "|4        |43        |2     |\n",
      "|4        |44        |2     |\n",
      "|4        |46        |1     |\n",
      "|4        |49        |2     |\n",
      "|4        |51        |1     |\n",
      "|4        |52        |2     |\n",
      "|4        |53        |3     |\n",
      "|4        |54        |1     |\n",
      "|4        |56        |2     |\n",
      "|4        |58        |1     |\n",
      "|4        |59        |1     |\n",
      "|4        |63        |2     |\n",
      "|4        |66        |1     |\n",
      "|4        |72        |2     |\n",
      "|4        |75        |1     |\n",
      "|4        |76        |1     |\n",
      "|4        |78        |1     |\n",
      "|4        |83        |1     |\n",
      "|4        |95        |1     |\n",
      "|5        |1         |1286  |\n",
      "|5        |2         |589   |\n",
      "|5        |4         |1     |\n",
      "|5        |19        |1     |\n",
      "|5        |23        |1     |\n",
      "|5        |25        |1     |\n",
      "|5        |26        |1     |\n",
      "|5        |27        |1     |\n",
      "|5        |28        |1     |\n",
      "|5        |29        |1     |\n",
      "|5        |34        |1     |\n",
      "|5        |35        |1     |\n",
      "|5        |37        |1     |\n",
      "|5        |38        |2     |\n",
      "|5        |40        |1     |\n",
      "|5        |42        |1     |\n",
      "|5        |46        |1     |\n",
      "|5        |50        |1     |\n",
      "|5        |51        |1     |\n",
      "|5        |52        |1     |\n",
      "|5        |55        |1     |\n",
      "|5        |56        |6     |\n",
      "|5        |59        |1     |\n",
      "|5        |61        |1     |\n",
      "|5        |63        |3     |\n",
      "|5        |64        |1     |\n",
      "|5        |67        |3     |\n",
      "|5        |70        |1     |\n",
      "|5        |71        |1     |\n",
      "|5        |75        |1     |\n",
      "|5        |78        |1     |\n",
      "|5        |80        |1     |\n",
      "|5        |81        |2     |\n",
      "|5        |86        |1     |\n",
      "|5        |97        |1     |\n",
      "|6        |1         |873   |\n",
      "|6        |2         |350   |\n",
      "|6        |17        |1     |\n",
      "|6        |22        |1     |\n",
      "|6        |34        |1     |\n",
      "|6        |39        |1     |\n",
      "|6        |40        |2     |\n",
      "|6        |41        |1     |\n",
      "|6        |42        |1     |\n",
      "|6        |46        |1     |\n",
      "|6        |47        |2     |\n",
      "|6        |53        |1     |\n",
      "|6        |55        |1     |\n",
      "|6        |56        |3     |\n",
      "|6        |57        |1     |\n",
      "|6        |60        |1     |\n",
      "|6        |61        |1     |\n",
      "|6        |63        |1     |\n",
      "|6        |66        |1     |\n",
      "|6        |70        |1     |\n",
      "|6        |79        |1     |\n",
      "|6        |82        |1     |\n",
      "|6        |85        |1     |\n",
      "|7        |1         |585   |\n",
      "|7        |2         |216   |\n",
      "|7        |25        |1     |\n",
      "|7        |30        |1     |\n",
      "|7        |31        |1     |\n",
      "|7        |37        |1     |\n",
      "|7        |39        |1     |\n",
      "|7        |40        |1     |\n",
      "|7        |44        |1     |\n",
      "|7        |52        |1     |\n",
      "|7        |53        |1     |\n",
      "|7        |57        |1     |\n",
      "|7        |58        |1     |\n",
      "|7        |60        |1     |\n",
      "|7        |70        |1     |\n",
      "|7        |73        |1     |\n",
      "|7        |75        |1     |\n",
      "|7        |76        |1     |\n",
      "|7        |77        |1     |\n",
      "|7        |91        |1     |\n",
      "|7        |93        |1     |\n",
      "|7        |97        |1     |\n",
      "|7        |98        |1     |\n",
      "|7        |99        |1     |\n",
      "|8        |1         |488   |\n",
      "|8        |2         |135   |\n",
      "|8        |25        |1     |\n",
      "|8        |40        |1     |\n",
      "|8        |54        |1     |\n",
      "|8        |64        |1     |\n",
      "|8        |68        |1     |\n",
      "|8        |72        |1     |\n",
      "|8        |77        |2     |\n",
      "|8        |78        |1     |\n",
      "|8        |96        |1     |\n",
      "|8        |97        |1     |\n",
      "|8        |98        |2     |\n",
      "|8        |100       |1     |\n",
      "|9        |1         |373   |\n",
      "|9        |2         |93    |\n",
      "|9        |27        |1     |\n",
      "|9        |97        |1     |\n",
      "|9        |98        |1     |\n",
      "|10       |1         |492   |\n",
      "|10       |2         |73    |\n",
      "|10       |41        |1     |\n",
      "|11       |1         |232   |\n",
      "|11       |2         |62    |\n",
      "|11       |67        |1     |\n",
      "|12       |1         |208   |\n",
      "|12       |2         |45    |\n",
      "|13       |1         |152   |\n",
      "|13       |2         |29    |\n",
      "|13       |98        |1     |\n",
      "|14       |1         |127   |\n",
      "|14       |2         |25    |\n",
      "|14       |100       |1     |\n",
      "|15       |1         |164   |\n",
      "|15       |2         |22    |\n",
      "|15       |97        |1     |\n",
      "|15       |98        |1     |\n",
      "|16       |1         |138   |\n",
      "|16       |2         |20    |\n",
      "|16       |40        |1     |\n",
      "|16       |80        |1     |\n",
      "|17       |1         |68    |\n",
      "|17       |2         |16    |\n",
      "|17       |98        |1     |\n",
      "|18       |1         |85    |\n",
      "|18       |2         |24    |\n",
      "|19       |1         |74    |\n",
      "|19       |2         |16    |\n",
      "|20       |1         |186   |\n",
      "|20       |2         |44    |\n",
      "|21       |1         |41    |\n",
      "|21       |2         |16    |\n",
      "|22       |1         |60    |\n",
      "|22       |2         |18    |\n",
      "|23       |1         |45    |\n",
      "|23       |2         |12    |\n",
      "|23       |96        |1     |\n",
      "|24       |1         |41    |\n",
      "|24       |2         |7     |\n",
      "|25       |1         |70    |\n",
      "|25       |2         |10    |\n",
      "|26       |1         |40    |\n",
      "|26       |2         |4     |\n",
      "|27       |1         |30    |\n",
      "|27       |2         |10    |\n",
      "|28       |1         |38    |\n",
      "|28       |2         |4     |\n",
      "|29       |1         |34    |\n",
      "|29       |2         |7     |\n",
      "|30       |1         |72    |\n",
      "|30       |2         |11    |\n",
      "|31       |1         |14    |\n",
      "|31       |2         |4     |\n",
      "|32       |1         |34    |\n",
      "|32       |2         |6     |\n",
      "|33       |1         |18    |\n",
      "|33       |2         |7     |\n",
      "|34       |1         |22    |\n",
      "|34       |2         |4     |\n",
      "|35       |1         |15    |\n",
      "|35       |2         |6     |\n",
      "|36       |1         |28    |\n",
      "|36       |2         |8     |\n",
      "|37       |1         |22    |\n",
      "|37       |2         |2     |\n",
      "|38       |1         |28    |\n",
      "|38       |2         |6     |\n",
      "|39       |1         |23    |\n",
      "|39       |2         |3     |\n",
      "|40       |1         |123   |\n",
      "|40       |2         |58    |\n",
      "|41       |1         |16    |\n",
      "|41       |2         |4     |\n",
      "|42       |1         |10    |\n",
      "|42       |2         |6     |\n",
      "|43       |1         |11    |\n",
      "|43       |2         |3     |\n",
      "|44       |1         |16    |\n",
      "|44       |2         |4     |\n",
      "|45       |1         |11    |\n",
      "|45       |2         |1     |\n",
      "|46       |1         |16    |\n",
      "|46       |2         |2     |\n",
      "|47       |1         |11    |\n",
      "|47       |2         |6     |\n",
      "|48       |1         |10    |\n",
      "|49       |1         |11    |\n",
      "|49       |2         |2     |\n",
      "|50       |1         |45    |\n",
      "|50       |2         |8     |\n",
      "|51       |1         |12    |\n",
      "|52       |1         |14    |\n",
      "|53       |1         |11    |\n",
      "|53       |2         |2     |\n",
      "|54       |1         |13    |\n",
      "|54       |2         |1     |\n",
      "|55       |1         |22    |\n",
      "|56       |1         |6     |\n",
      "|57       |1         |1     |\n",
      "|58       |1         |2     |\n",
      "|58       |2         |1     |\n",
      "|59       |1         |4     |\n",
      "|59       |2         |1     |\n",
      "|60       |1         |21    |\n",
      "|60       |2         |5     |\n",
      "|61       |1         |5     |\n",
      "|62       |1         |2     |\n",
      "|63       |1         |2     |\n",
      "|64       |1         |1     |\n",
      "|65       |1         |4     |\n",
      "|66       |1         |2     |\n",
      "|66       |2         |2     |\n",
      "|67       |1         |4     |\n",
      "|68       |1         |3     |\n",
      "|69       |1         |2     |\n",
      "|70       |1         |4     |\n",
      "|70       |2         |1     |\n",
      "|71       |1         |5     |\n",
      "|71       |2         |1     |\n",
      "|72       |1         |2     |\n",
      "|73       |1         |2     |\n",
      "|74       |1         |3     |\n",
      "|75       |2         |1     |\n",
      "|76       |1         |1     |\n",
      "|77       |1         |2     |\n",
      "|77       |2         |1     |\n",
      "|79       |1         |2     |\n",
      "|80       |1         |6     |\n",
      "|80       |2         |2     |\n",
      "|81       |1         |1     |\n",
      "|81       |2         |1     |\n",
      "|83       |1         |3     |\n",
      "|83       |2         |1     |\n",
      "|84       |1         |3     |\n",
      "|85       |1         |1     |\n",
      "|86       |1         |1     |\n",
      "|86       |2         |1     |\n",
      "|88       |1         |1     |\n",
      "|88       |2         |1     |\n",
      "|89       |1         |1     |\n",
      "|89       |2         |1     |\n",
      "|90       |1         |1     |\n",
      "|90       |2         |1     |\n",
      "|91       |1         |2     |\n",
      "|92       |1         |3     |\n",
      "|92       |2         |1     |\n",
      "|93       |1         |2     |\n",
      "|95       |1         |1     |\n",
      "|96       |2         |1     |\n",
      "|97       |1         |3     |\n",
      "|98       |1         |3     |\n",
      "|99       |1         |2     |\n",
      "|100      |1         |7     |\n",
      "|100      |2         |1     |\n",
      "|101      |1         |1     |\n",
      "|101      |2         |7     |\n",
      "|102      |1         |1     |\n",
      "|103      |1         |2     |\n",
      "|104      |1         |2     |\n",
      "|106      |1         |2     |\n",
      "|107      |1         |2     |\n",
      "|108      |1         |1     |\n",
      "|108      |2         |2     |\n",
      "|110      |1         |2     |\n",
      "|111      |2         |1     |\n",
      "|113      |1         |2     |\n",
      "|115      |2         |1     |\n",
      "|116      |1         |1     |\n",
      "|117      |1         |1     |\n",
      "|120      |1         |2     |\n",
      "|121      |2         |1     |\n",
      "|122      |1         |1     |\n",
      "|128      |2         |1     |\n",
      "|129      |1         |1     |\n",
      "|131      |1         |1     |\n",
      "|135      |1         |1     |\n",
      "|136      |2         |1     |\n",
      "|140      |1         |1     |\n",
      "|142      |1         |1     |\n",
      "|153      |1         |2     |\n",
      "|154      |1         |1     |\n",
      "|155      |1         |1     |\n",
      "|155      |2         |1     |\n",
      "|157      |1         |1     |\n",
      "|158      |1         |1     |\n",
      "|160      |1         |1     |\n",
      "|161      |1         |1     |\n",
      "|161      |2         |1     |\n",
      "|162      |1         |1     |\n",
      "|163      |2         |1     |\n",
      "|164      |1         |1     |\n",
      "|168      |2         |1     |\n",
      "|174      |1         |1     |\n",
      "|175      |1         |2     |\n",
      "|180      |2         |2     |\n",
      "|181      |1         |2     |\n",
      "|181      |2         |1     |\n",
      "|182      |1         |1     |\n",
      "|183      |1         |1     |\n",
      "|185      |1         |1     |\n",
      "|186      |1         |1     |\n",
      "|195      |1         |1     |\n",
      "|196      |1         |2     |\n",
      "|198      |1         |1     |\n",
      "|199      |1         |3     |\n",
      "|200      |1         |5     |\n",
      "|200      |2         |7     |\n",
      "|202      |1         |1     |\n",
      "|203      |1         |1     |\n",
      "|208      |2         |1     |\n",
      "|209      |1         |1     |\n",
      "|211      |1         |1     |\n",
      "|220      |1         |2     |\n",
      "|224      |1         |1     |\n",
      "|234      |1         |1     |\n",
      "|238      |1         |2     |\n",
      "|238      |2         |1     |\n",
      "|245      |2         |1     |\n",
      "|250      |2         |1     |\n",
      "|251      |1         |1     |\n",
      "|262      |1         |1     |\n",
      "|264      |1         |1     |\n",
      "|265      |2         |1     |\n",
      "|267      |1         |1     |\n",
      "|277      |2         |1     |\n",
      "|301      |2         |1     |\n",
      "|302      |1         |1     |\n",
      "|304      |1         |1     |\n",
      "|320      |1         |1     |\n",
      "|330      |1         |1     |\n",
      "|335      |2         |1     |\n",
      "|353      |1         |1     |\n",
      "|361      |1         |1     |\n",
      "|380      |1         |2     |\n",
      "|381      |2         |1     |\n",
      "|391      |1         |1     |\n",
      "|391      |2         |1     |\n",
      "|396      |1         |1     |\n",
      "|416      |2         |1     |\n",
      "|421      |1         |1     |\n",
      "|424      |1         |1     |\n",
      "|438      |2         |1     |\n",
      "|459      |1         |1     |\n",
      "|500      |1         |1     |\n",
      "|539      |1         |1     |\n",
      "|569      |1         |1     |\n",
      "|592      |1         |1     |\n",
      "|622      |1         |1     |\n",
      "|715      |2         |1     |\n",
      "|734      |1         |1     |\n",
      "|814      |1         |1     |\n",
      "|824      |2         |1     |\n",
      "|835      |1         |1     |\n",
      "|901      |2         |1     |\n",
      "|965      |1         |1     |\n",
      "+---------+----------+------+\n",
      "\n"
     ]
    }
   ],
   "source": [
    "print(statistics_known_tx_degree_df.count())\n",
    "statistics_known_tx_degree_df.printSchema()\n",
    "statistics_known_tx_degree_df.show(statistics_known_tx_degree_df.count(), truncate=False)"
   ]
  },
  {
   "cell_type": "code",
   "execution_count": 31,
   "metadata": {
    "colab": {
     "base_uri": "https://localhost:8080/",
     "height": 300
    },
    "id": "VIlqa2Q80iTC",
    "outputId": "1bed28cb-1a88-447f-a4cd-ff8ce30e15d0"
   },
   "outputs": [
    {
     "data": {
      "image/png": "[encoded data removed]",
      "text/plain": [
       "<Figure size 432x288 with 1 Axes>"
      ]
     },
     "metadata": {
      "needs_background": "light"
     },
     "output_type": "display_data"
    }
   ],
   "source": [
    "plt.scatter(\n",
    "    x = statistics_known_tx_degree_df.toPandas()['in_degree'], \n",
    "    y = statistics_known_tx_degree_df.toPandas()['out_degree'], \n",
    "    s=statistics_known_tx_degree_df.toPandas()['n_txs'], \n",
    "    alpha=0.5)\n",
    "plt.xscale('log')\n",
    "plt.yscale('log')\n",
    "plt.xlabel(\"in_degree\")\n",
    "plt.ylabel(\"out_degree\")\n",
    "plt.title(\"Indegree and Outdegree of Known Transactions distribution\")\n",
    "plt.show()"
   ]
  },
  {
   "cell_type": "markdown",
   "metadata": {
    "id": "SZU_J_P-hMes"
   },
   "source": [
    "visualize known transaction distribution based on out_degree"
   ]
  },
  {
   "cell_type": "code",
   "execution_count": 32,
   "metadata": {
    "id": "SuSKOARPYlqb"
   },
   "outputs": [],
   "source": [
    "statistics_known_tx_degree_df.createOrReplaceTempView('STAT_KNOWN_TX_DEGREE')\n",
    "tmp_df = spark.sql(\"select out_degree, sum(n_txs) as n_txs from STAT_KNOWN_TX_DEGREE group by out_degree order by out_degree\")"
   ]
  },
  {
   "cell_type": "code",
   "execution_count": 33,
   "metadata": {
    "colab": {
     "base_uri": "https://localhost:8080/"
    },
    "id": "BAeiVrN4e5U4",
    "outputId": "cbebddfc-c4d6-4199-cdc5-82b9401148ef"
   },
   "outputs": [
    {
     "name": "stdout",
     "output_type": "stream",
     "text": [
      "+----------+------+\n",
      "|out_degree|n_txs |\n",
      "+----------+------+\n",
      "|1         |238103|\n",
      "|2         |196849|\n",
      "|3         |15    |\n",
      "|4         |4     |\n",
      "|5         |3     |\n",
      "|6         |3     |\n",
      "|7         |1     |\n",
      "|8         |1     |\n",
      "|14        |1     |\n",
      "|15        |1     |\n",
      "|16        |2     |\n",
      "|17        |10    |\n",
      "|18        |9     |\n",
      "|19        |13    |\n",
      "|20        |14    |\n",
      "|21        |6     |\n",
      "|22        |17    |\n",
      "|23        |28    |\n",
      "|24        |19    |\n",
      "|25        |18    |\n",
      "|26        |19    |\n",
      "|27        |21    |\n",
      "|28        |18    |\n",
      "|29        |8     |\n",
      "|30        |9     |\n",
      "|31        |8     |\n",
      "|32        |12    |\n",
      "|33        |13    |\n",
      "|34        |14    |\n",
      "|35        |13    |\n",
      "|36        |7     |\n",
      "|37        |12    |\n",
      "|38        |7     |\n",
      "|39        |21    |\n",
      "|40        |18    |\n",
      "|41        |11    |\n",
      "|42        |12    |\n",
      "|43        |7     |\n",
      "|44        |5     |\n",
      "|45        |10    |\n",
      "|46        |6     |\n",
      "|47        |8     |\n",
      "|48        |6     |\n",
      "|49        |9     |\n",
      "|50        |2     |\n",
      "|51        |6     |\n",
      "|52        |7     |\n",
      "|53        |9     |\n",
      "|54        |6     |\n",
      "|55        |5     |\n",
      "|56        |11    |\n",
      "|57        |5     |\n",
      "|58        |5     |\n",
      "|59        |6     |\n",
      "|60        |3     |\n",
      "|61        |2     |\n",
      "|63        |8     |\n",
      "|64        |3     |\n",
      "|65        |1     |\n",
      "|66        |3     |\n",
      "|67        |5     |\n",
      "|68        |2     |\n",
      "|70        |3     |\n",
      "|71        |1     |\n",
      "|72        |3     |\n",
      "|73        |1     |\n",
      "|75        |3     |\n",
      "|76        |2     |\n",
      "|77        |4     |\n",
      "|78        |3     |\n",
      "|79        |2     |\n",
      "|80        |3     |\n",
      "|81        |5     |\n",
      "|82        |1     |\n",
      "|83        |1     |\n",
      "|85        |1     |\n",
      "|86        |1     |\n",
      "|91        |1     |\n",
      "|93        |1     |\n",
      "|95        |1     |\n",
      "|96        |2     |\n",
      "|97        |5     |\n",
      "|98        |8     |\n",
      "|99        |2     |\n",
      "|100       |2     |\n",
      "+----------+------+\n",
      "\n"
     ]
    }
   ],
   "source": [
    "tmp_df.show(tmp_df.count(), truncate=False)"
   ]
  },
  {
   "cell_type": "markdown",
   "metadata": {
    "id": "nE-cLjGNhe33"
   },
   "source": [
    "visualize known transaction distribution based on in_degree"
   ]
  },
  {
   "cell_type": "code",
   "execution_count": 34,
   "metadata": {
    "id": "KPKCfh6sjSge"
   },
   "outputs": [],
   "source": [
    "statistics_known_tx_degree_df.createOrReplaceTempView('STAT_KNOWN_TX_DEGREE')\n",
    "tmp_df = spark.sql(\"select in_degree, sum(n_txs) as n_txs from STAT_KNOWN_TX_DEGREE group by in_degree order by in_degree\")"
   ]
  },
  {
   "cell_type": "code",
   "execution_count": 35,
   "metadata": {
    "colab": {
     "base_uri": "https://localhost:8080/"
    },
    "id": "LHodQzvjjeP_",
    "outputId": "f2619ea4-7454-4933-f50d-f18cccd59e4a"
   },
   "outputs": [
    {
     "name": "stdout",
     "output_type": "stream",
     "text": [
      "+---------+------+\n",
      "|in_degree|n_txs |\n",
      "+---------+------+\n",
      "|1        |392718|\n",
      "|2        |24561 |\n",
      "|3        |5917  |\n",
      "|4        |3383  |\n",
      "|5        |1919  |\n",
      "|6        |1248  |\n",
      "|7        |823   |\n",
      "|8        |637   |\n",
      "|9        |469   |\n",
      "|10       |566   |\n",
      "|11       |295   |\n",
      "|12       |253   |\n",
      "|13       |182   |\n",
      "|14       |153   |\n",
      "|15       |188   |\n",
      "|16       |160   |\n",
      "|17       |85    |\n",
      "|18       |109   |\n",
      "|19       |90    |\n",
      "|20       |230   |\n",
      "|21       |57    |\n",
      "|22       |78    |\n",
      "|23       |58    |\n",
      "|24       |48    |\n",
      "|25       |80    |\n",
      "|26       |44    |\n",
      "|27       |40    |\n",
      "|28       |42    |\n",
      "|29       |41    |\n",
      "|30       |83    |\n",
      "|31       |18    |\n",
      "|32       |40    |\n",
      "|33       |25    |\n",
      "|34       |26    |\n",
      "|35       |21    |\n",
      "|36       |36    |\n",
      "|37       |24    |\n",
      "|38       |34    |\n",
      "|39       |26    |\n",
      "|40       |181   |\n",
      "|41       |20    |\n",
      "|42       |16    |\n",
      "|43       |14    |\n",
      "|44       |20    |\n",
      "|45       |12    |\n",
      "|46       |18    |\n",
      "|47       |17    |\n",
      "|48       |10    |\n",
      "|49       |13    |\n",
      "|50       |53    |\n",
      "|51       |12    |\n",
      "|52       |14    |\n",
      "|53       |13    |\n",
      "|54       |14    |\n",
      "|55       |22    |\n",
      "|56       |6     |\n",
      "|57       |1     |\n",
      "|58       |3     |\n",
      "|59       |5     |\n",
      "|60       |26    |\n",
      "|61       |5     |\n",
      "|62       |2     |\n",
      "|63       |2     |\n",
      "|64       |1     |\n",
      "|65       |4     |\n",
      "|66       |4     |\n",
      "|67       |4     |\n",
      "|68       |3     |\n",
      "|69       |2     |\n",
      "|70       |5     |\n",
      "|71       |6     |\n",
      "|72       |2     |\n",
      "|73       |2     |\n",
      "|74       |3     |\n",
      "|75       |1     |\n",
      "|76       |1     |\n",
      "|77       |3     |\n",
      "|79       |2     |\n",
      "|80       |8     |\n",
      "|81       |2     |\n",
      "|83       |4     |\n",
      "|84       |3     |\n",
      "|85       |1     |\n",
      "|86       |2     |\n",
      "|88       |2     |\n",
      "|89       |2     |\n",
      "|90       |2     |\n",
      "|91       |2     |\n",
      "|92       |4     |\n",
      "|93       |2     |\n",
      "|95       |1     |\n",
      "|96       |1     |\n",
      "|97       |3     |\n",
      "|98       |3     |\n",
      "|99       |2     |\n",
      "|100      |8     |\n",
      "|101      |8     |\n",
      "|102      |1     |\n",
      "|103      |2     |\n",
      "|104      |2     |\n",
      "|106      |2     |\n",
      "|107      |2     |\n",
      "|108      |3     |\n",
      "|110      |2     |\n",
      "|111      |1     |\n",
      "|113      |2     |\n",
      "|115      |1     |\n",
      "|116      |1     |\n",
      "|117      |1     |\n",
      "|120      |2     |\n",
      "|121      |1     |\n",
      "|122      |1     |\n",
      "|128      |1     |\n",
      "|129      |1     |\n",
      "|131      |1     |\n",
      "|135      |1     |\n",
      "|136      |1     |\n",
      "|140      |1     |\n",
      "|142      |1     |\n",
      "|153      |2     |\n",
      "|154      |1     |\n",
      "|155      |2     |\n",
      "|157      |1     |\n",
      "|158      |1     |\n",
      "|160      |1     |\n",
      "|161      |2     |\n",
      "|162      |1     |\n",
      "|163      |1     |\n",
      "|164      |1     |\n",
      "|168      |1     |\n",
      "|174      |1     |\n",
      "|175      |2     |\n",
      "|180      |2     |\n",
      "|181      |3     |\n",
      "|182      |1     |\n",
      "|183      |1     |\n",
      "|185      |1     |\n",
      "|186      |1     |\n",
      "|195      |1     |\n",
      "|196      |2     |\n",
      "|198      |1     |\n",
      "|199      |3     |\n",
      "|200      |12    |\n",
      "|202      |1     |\n",
      "|203      |1     |\n",
      "|208      |1     |\n",
      "|209      |1     |\n",
      "|211      |1     |\n",
      "|220      |2     |\n",
      "|224      |1     |\n",
      "|234      |1     |\n",
      "|238      |3     |\n",
      "|245      |1     |\n",
      "|250      |1     |\n",
      "|251      |1     |\n",
      "|262      |1     |\n",
      "|264      |1     |\n",
      "|265      |1     |\n",
      "|267      |1     |\n",
      "|277      |1     |\n",
      "|301      |1     |\n",
      "|302      |1     |\n",
      "|304      |1     |\n",
      "|320      |1     |\n",
      "|330      |1     |\n",
      "|335      |1     |\n",
      "|353      |1     |\n",
      "|361      |1     |\n",
      "|380      |2     |\n",
      "|381      |1     |\n",
      "|391      |2     |\n",
      "|396      |1     |\n",
      "|416      |1     |\n",
      "|421      |1     |\n",
      "|424      |1     |\n",
      "|438      |1     |\n",
      "|459      |1     |\n",
      "|500      |1     |\n",
      "|539      |1     |\n",
      "|569      |1     |\n",
      "|592      |1     |\n",
      "|622      |1     |\n",
      "|715      |1     |\n",
      "|734      |1     |\n",
      "|814      |1     |\n",
      "|824      |1     |\n",
      "|835      |1     |\n",
      "|901      |1     |\n",
      "|965      |1     |\n",
      "+---------+------+\n",
      "\n"
     ]
    }
   ],
   "source": [
    "tmp_df.show(tmp_df.count(), truncate=False)"
   ]
  },
  {
   "cell_type": "markdown",
   "metadata": {
    "id": "t4-FiNF8MNF7"
   },
   "source": [
    "## **4.5.** Implementation of Heuristics"
   ]
  },
  {
   "cell_type": "markdown",
   "metadata": {
    "id": "3cA2Yp_lMkOt"
   },
   "source": [
    "### **4.5.1.** Multiple interpretations of a blockchain transaction\n"
   ]
  },
  {
   "cell_type": "markdown",
   "metadata": {
    "id": "UY2Yek9gS0TA"
   },
   "source": [
    "Bitcoin transactions are made up of inputs and outputs, of which there can be one or more. Previously-created outputs can be used as inputs for later transactions. Such outputs are destroyed when spent and new unspent outputs are usually created to replace them.\n",
    "\n",
    "Consider this example transaction:\n",
    "\n",
    "    1 btc  ---->  1 btc \n",
    "    3 btc         3 btc\n",
    "This transaction has two inputs, worth 1 btc and 3 btc, and creates two outputs also worth 1 btc and 3 btc.\n",
    "\n",
    "If you were to look at this on the blockchain, what would you assume is the meaning of this transaction? (for example, we usually assume a bitcoin transaction is a payment but it doesn't have to be).\n",
    "\n",
    "There are at least nine' possible interpretations:\n",
    "\n",
    "1. Alice provides both inputs and pays 3 btc to Bob. Alice owns the 1 btc output (i.e. it is a change output).\n",
    "2. Alice provides both inputs and pays 1 btc to Bob, with 3 btc paid back to Alice as the change.\n",
    "3. Alice provides 1 btc input and Bob provides 3 btc input, Alice gets 1 btc output and Bob gets 3 btc output. This is a kind of CoinJoin transaction.\n",
    "4. Alice pays 2 btc to Bob. Alice provides 3 btc input, gets the 1 btc output; Bob provides 1 btc input and gets 3 btc. This would be a PayJoin transaction type.\n",
    "5. Alice pays 4 btc to Bob (but using two outputs for some reason).\n",
    "6. Fake transaction - Alice owns all inputs and outputs, and is simply moving coins between her own addresses.\n",
    "7. Alice pays Bob 3 btc and Carol 1 btc. This is a batched payment with no change address.\n",
    "8. Alice pays 3, Bob pays 1; Carol gets 3 btc and David gets 1 btc. This is some kind of CoinJoined batched payment with no change address.\n",
    "9. Alice and Bob pay 4 btc to Carol (but using two outputs)."
   ]
  },
  {
   "cell_type": "markdown",
   "metadata": {
    "id": "_4UVPPIDPnio"
   },
   "source": [
    "### **4.5.2.** Heuristics Implemented"
   ]
  },
  {
   "cell_type": "markdown",
   "metadata": {
    "id": "kP_5Yx88ISqc"
   },
   "source": [
    "**NOTE**\n",
    "\n",
    "The heuristics have been implemented in order to avoid as much as possible the grouping of addresses of two different entities. So two addresses are grouped if there is a strong probability that the grouping is correct\n",
    "\n"
   ]
  },
  {
   "cell_type": "markdown",
   "metadata": {
    "id": "BWUXFC_bQh9q"
   },
   "source": [
    "**Satoshi heuristic**\n",
    "\n",
    "It is estimated that satoshi, in the first months of 2009, lowered more than 1,000,000 BTC which he still keeps and does not spend. Therefore the output addresses of a coinbase transaction are comparable to satoshi with reasonable certainty only if it is a coinbase transaction with block_height < 21000 and, the mined bitcoins have not been spent or the output addresses have not been reused. These behaviors underline a detention attitude typical of satoshi.\n",
    "This heuristic gets into trouble when in the first 21000 blocks there are miners showing the same attitude as satoshi. This is unlikely also because there were very few miners\n",
    "\n",
    "![photo_2022-06-27_03-12-05.jpg](data:image/jpeg;base64,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)\n",
    "\n",
    "A map of the bitcoin blockchain constructed by Ms. Blackburn and Dr. Lieberman Aiden using data leakages.\n",
    "“Each agent corresponds to a single map tile, whose area is proportional to the quantity of bitcoin mined by\n",
    "the agent,” they noted in their recent paper. Alyssa Blackburn and Erez Lieberman Aiden [link](https://www.nytimes.com/2022/06/06/science/bitcoin-nakamoto-blackburn-crypto.html)\n"
   ]
  },
  {
   "cell_type": "markdown",
   "metadata": {
    "id": "wlM7XCCfu85c"
   },
   "source": [
    "**Coinbase transaction mining address clustering heuristic**\n",
    "\n",
    "We can assume that the output address of a Coinbase transaction is controlled by the same entity (the miner that mines the block). There is no reason to send the block reward to non-proper addresses"
   ]
  },
  {
   "cell_type": "markdown",
   "metadata": {
    "id": "BB7KkoPMvwWA"
   },
   "source": [
    "**Common-input-ownership heuristic**\n",
    "\n",
    "This is a heuristic or assumption which says that if a transaction has more than one input then all those inputs are owned by the same entity.\n",
    "For example, consider this transaction with inputs A, B and C; and outputs X and Y.\n",
    "\n",
    "    A (1 btc) --> X (4 btc)\n",
    "    B (2 btc)     Y (2 btc)\n",
    "    C (3 btc)\n",
    "This transaction would be an indication that addresses B and C are owned by the same person who owns address A.\n",
    "One of the purposes of CoinJoin is to break this heuristic."
   ]
  },
  {
   "cell_type": "markdown",
   "metadata": {
    "id": "HwN4RANZy_xE"
   },
   "source": [
    "**Single input and single output heuristic**\n",
    "\n",
    "transactions with a single input and a single output are interpreted as a movement of funds from one wallet to another under the control of the same owner. This heuristic fails if the transaction is actually a payment without change. This heuristic has a greater value when the funds moved from A to B equals the entire balance of wallet A.\n",
    "\n",
    "    A (1 btc) --> B (1 btc)"
   ]
  },
  {
   "cell_type": "markdown",
   "metadata": {
    "id": "Ig70mxlX1CAh"
   },
   "source": [
    "**Consolidation transaction heuristic**\n",
    "\n",
    "    A (1 btc) --> X (6 btc)\n",
    "    B (2 btc)     \n",
    "    C (3 btc)\n",
    "\n",
    "A transaction with multiple inputs and a single output is interpreted as a consolidation transaction, where all input UTXOs venerate a single output UTXO. This operation reveals that all transaction addresses belong to the same entity. This heuristic fails if the transaction is actually a payment without change.\n",
    "\n"
   ]
  },
  {
   "cell_type": "markdown",
   "metadata": {
    "id": "YlgTR1qi19oN"
   },
   "source": [
    "**Payment transaction with amount payed and change address heuristic**\n",
    "\n",
    "    A (10 btc) --> X (6 btc)\n",
    "                   y (4 btc)\n",
    "\n",
    "the most common transactions are those with one or more inputs and two outputs, where the two outputs represent the payment that A makes to B and the change of the payment that returns to A. We need to identify the change of the transition.\n"
   ]
  },
  {
   "cell_type": "markdown",
   "metadata": {
    "id": "zUZZhPO-3dqL"
   },
   "source": [
    "**Change address detection heuristic**\n",
    "\n",
    "has the objective of identifying the change in the Payment transactions. To do this, different heuristics are used:\n",
    "- same address in input and output heuristic\n",
    "- address reuse heuristic\n",
    "- Unnecessary input heuristic\n",
    "- new address in output heuristic\n",
    "- round number heuristic\n"
   ]
  },
  {
   "cell_type": "markdown",
   "metadata": {
    "id": "_xY_WP9O6RK3"
   },
   "source": [
    "**same address in input and output heuristic**\n",
    "\n",
    "if in the output addresses there is an address of the entity that owns the input addresses, then the change is that address. The user reused that address to collect the change of the transaction."
   ]
  },
  {
   "cell_type": "markdown",
   "metadata": {
    "id": "TKAbRVni4Zdq"
   },
   "source": [
    "**address reuse heuristic**\n",
    "\n",
    "If an output address has been reused it is very likely to be a payment output, not a change output. This is because change addresses are created automatically by wallet software but payment addresses are manually sent between humans. The address reuse would happen because the human user reused an address out of ignorance or apathy. This heuristic is probably the most accurate, as it is very hard to imagine how false positives would arise (except by intentional design of wallets). This heuristic is also called the \"shadow heuristic\""
   ]
  },
  {
   "cell_type": "markdown",
   "metadata": {
    "id": "57L3JmPX5g1-"
   },
   "source": [
    "**Unnecessary input heuristic**\n",
    "\n",
    "Also called the \"optimal change heuristic\". Consider this bitcoin transaction. It has two inputs worth 2 BTC and 3 BTC and two outputs worth 4 BTC and 1 BTC.\n",
    "\n",
    "    2 btc --> 4 btc\n",
    "    3 btc     1 btc\n",
    "Assuming one of the outputs is change and the other output is the payment. There are two interpretations: the payment output is either the 4 BTC output or the 1 BTC output. But if the 1 BTC output is the payment amount then the 3 BTC input is unnecessary, as the wallet could have spent only the 2 BTC input and paid lower miner fees for doing so. This is an indication that the real payment output is 4 BTC and that 1 BTC is the change output.\n",
    "\n",
    "This is an issue for transactions which have more than one input. One way to fix this leak is to add more inputs until the change output is higher than any input, for example:\n",
    "\n",
    "    2 btc --> 4 btc\n",
    "    3 btc     6 btc\n",
    "    5 btc\n",
    "Now both interpretations imply that some inputs are unnecessary. Unfortunately this costs more in miner fees and can only be done if the wallet actually owns other UTXOs.\n",
    "\n",
    "Some wallets have a coin selection algorithm which violates this heuristic. An example might be because the wallets want to consolidate inputs in times of cheap miner fees. So this heuristic is not decisive evidence."
   ]
  },
  {
   "cell_type": "markdown",
   "metadata": {
    "id": "tSK0OVf65fSw"
   },
   "source": [
    "**new address in output heuristic**\n",
    "\n",
    "If in the output addresses there is only one address that is used for the first time, then this is the change address"
   ]
  },
  {
   "cell_type": "markdown",
   "metadata": {
    "id": "VWz8H3Uw78kd"
   },
   "source": [
    "**round number heuristic**\n",
    "\n",
    "Many payment amounts are round numbers, for example 1 BTC or 0.1 BTC. The leftover change amount would then be a non-round number (e.g. 1.78213974 BTC). This potentially useful for finding the change address. "
   ]
  },
  {
   "cell_type": "markdown",
   "metadata": {
    "id": "NOUG9XyA8QSz"
   },
   "source": [
    "**Mixed transaction recognition heuristic**\n",
    "\n",
    "![bitcoin-anonymity.png](data:image/png;base64,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)\n",
    "\n",
    "mixed transactions have many inputs and many outputs. Typically the outputs are characterized by the same amount of btc, making coinjoin sudoku and taint analysis difficult. These transactions break the chain analysis. In the clustering process we limit ourselves to identifying the mixed transactions in order not to apply the heuristics. we limit ourselves to only applying a single iteration of taint analysis"
   ]
  },
  {
   "cell_type": "markdown",
   "metadata": {
    "id": "QJiwS1ho-mCH"
   },
   "source": [
    "**taint analysis and coinjoin sudoku**\n",
    "\n",
    "Equal-output-CoinJoin transactions trivially reveal the change address because it is the outputs which are not equal-valued. For example consider this equal-output-coinjoin:\n",
    "\n",
    "                  A (1btc)\n",
    "    X (5btc) ---> B (1btc)\n",
    "    Y (3btc)      C (4btc)\n",
    "                  D (2btc)\n",
    "There is a very strong indication that output D is change belongs to the owner of input Y, while output C is change belonging to input X. However, CoinJoin breaks the common-input-ownership heuristic and effectively hides the ownership of payment outputs (A and B), so the tradeoffs are still heavily in favour of using coinjoin."
   ]
  },
  {
   "cell_type": "markdown",
   "metadata": {
    "id": "ljNzsN4jOkKl"
   },
   "source": [
    "### **4.5.3.** Bitcoin Address Clustering Algorithm\n"
   ]
  },
  {
   "cell_type": "code",
   "execution_count": 36,
   "metadata": {
    "id": "Fyu6IltbUwTr"
   },
   "outputs": [],
   "source": [
    "def input_addresses(G, tx_id):\n",
    "    s = set()\n",
    "    for src, dst in G.in_edges(tx_id):\n",
    "        for arrow_info in G[src][dst].values():\n",
    "            s.add(arrow_info['address'])\n",
    "    return s\n",
    "\n",
    "def output_addresses(G, tx_id):\n",
    "    s = set()\n",
    "    for src, dst in G.out_edges(tx_id):\n",
    "        for arrow_info in G[src][dst].values():\n",
    "            s.add(arrow_info['address'])\n",
    "    return s\n",
    "\n",
    "def in_degree_tx(G, tx_id):\n",
    "    return len(input_addresses(G, tx_id))\n",
    "\n",
    "def out_degree_tx(G, tx_id):\n",
    "    return len(output_addresses(G, tx_id))\n",
    "\n",
    "def is_coinbase_tx(G, tx_id):\n",
    "  for src, dst in G.in_edges(tx_id):\n",
    "    if src[:5] == 'coinb':\n",
    "      return True\n",
    "  return False\n",
    "\n",
    "def is_mined_by_satoshi(G, tx_id, nodeDict, addressDict, start_block):\n",
    "    return is_coinbase_tx(G, tx_id) and start_block == 0 and nodeDict[tx_id]['block_height'] < 21000 and len({addr for addr in output_addresses(G, tx_id) if addressDict[addr]['utilization'] <= 2}) == len(output_addresses(G, tx_id))\n",
    "\n",
    "def is_mined_by_miner(G, tx_id):\n",
    "    return is_coinbase_tx(G, tx_id)\n",
    "\n",
    "def is_consolidation_tx(G, tx_id):\n",
    "    return out_degree_tx(G, tx_id) == 1\n",
    "\n",
    "def is_payment_tx(G, tx_id):\n",
    "    return out_degree_tx(G, tx_id) == 2\n",
    "\n",
    "def is_tx_with_change(G, tx_id, addr_clust):\n",
    "    return not is_coinbase_tx(G, tx_id) and not is_coinjoin_tx(G, tx_id, addr_clust) and out_degree_tx(G, tx_id) > 1\n",
    "\n",
    "def is_coinjoin_tx(G, tx_id, addr_clust):\n",
    "    if not is_coinbase_tx(G, tx_id):\n",
    "        in_addrs = input_addresses(G, tx_id)\n",
    "        out_addrs = output_addresses(G, tx_id)\n",
    "        in_cluster_set = {addr_clust[addr] for addr in in_addrs}\n",
    "        return len(in_cluster_set) == len(in_addrs) and len(out_addrs) >= 10\n",
    "    return False\n",
    "\n",
    "def taint_analysis(G, tx_id):\n",
    "    input = set()\n",
    "    for src, dst in G.in_edges(tx_id):\n",
    "        for arrow_info in G[src][dst].values():\n",
    "            input.add((arrow_info['address'], arrow_info['value']))\n",
    "    output = set()\n",
    "    for src, dst in G.out_edges(tx_id):\n",
    "        for arrow_info in G[src][dst].values():\n",
    "            output.add((arrow_info['address'], arrow_info['value']))\n",
    "    if len(input) > 1:\n",
    "        first_max = builtins.max(input, key=lambda x: x[1])\n",
    "        input.remove(first_max)\n",
    "        second_max = builtins.max(input, key=lambda x: x[1])\n",
    "        possible_address = {tup[0] for tup in output if tup[1] > second_max[1] and tup[1] < first_max[1]}\n",
    "        if len(possible_address) == 1:\n",
    "            return [{possible_address.pop(), first_max[0]}]\n",
    "    return []\n",
    "\n",
    "def find_change_address(G, tx_id, nodeDict, addressDict, addr_clust, clust_addr):\n",
    "\n",
    "    input = set()\n",
    "    for src, dst in G.in_edges(tx_id):\n",
    "        for arrow_info in G[src][dst].values():\n",
    "            input.add((arrow_info['address'], arrow_info['value']))\n",
    "    output = set()\n",
    "    for src, dst in G.out_edges(tx_id):\n",
    "        for arrow_info in G[src][dst].values():\n",
    "            output.add((arrow_info['address'], arrow_info['value']))\n",
    "\n",
    "    in_cluster_set = {addr_clust[addr] for addr, _ in input}\n",
    "    out_cluster_set = {addr_clust[addr] for addr, _ in output}\n",
    "    intersection_cluster_set = in_cluster_set.intersection(out_cluster_set)\n",
    "\n",
    "    if intersection_cluster_set != set():\n",
    "        # same address in input and output heuristic\n",
    "        for cluster_id in intersection_cluster_set:\n",
    "            for addr in clust_addr[cluster_id]:\n",
    "                for a, _ in output:\n",
    "                    if addr == a:\n",
    "                        return addr\n",
    "\n",
    "    else:\n",
    "        possible_change_addresses = set()\n",
    "\n",
    "        # Unnecessary input heuristic\n",
    "        for out in output:\n",
    "            flag = False\n",
    "            for inp in input:\n",
    "                if out[1] < inp[1]:\n",
    "                    flag = True\n",
    "                    break\n",
    "            if flag:\n",
    "                possible_change_addresses.add(out[0])\n",
    "        if len(possible_change_addresses) == 1:\n",
    "            return possible_change_addresses.pop()\n",
    "        \n",
    "        # new address in output heuristic\n",
    "        new_addrs = {addr for addr, _ in output if nodeDict[tx_id]['temporal_index'] == addressDict[addr]['birthday']}\n",
    "        if len(new_addrs) == 1:\n",
    "            return new_addrs.pop()\n",
    "        else:\n",
    "            possible_change_addresses = possible_change_addresses.union(new_addrs)\n",
    "\n",
    "        # round number heuristic\n",
    "        if len(output) == 2:\n",
    "            o1, o2 = output.pop(), output.pop()\n",
    "            s1 = str(o1[1]).strip('0').strip('.')\n",
    "            s2 = str(o1[1]).strip('0').strip('.')\n",
    "            l1 = len(s1.split('.')[1]) if '.' in s1 else 0 \n",
    "            l2 = len(s2.split('.')[1]) if '.' in s2 else 0 \n",
    "            if l1-3 > l2:\n",
    "                return o1[0]\n",
    "            if l2-3 > l1:\n",
    "                return o2[0]\n",
    "        \n",
    "        # address reuse heuristic\n",
    "        possible_change_addresses = {addr for addr in possible_change_addresses if addressDict[addr]['utilization'] <= 2}\n",
    "        if len(possible_change_addresses) == 1:\n",
    "            return possible_change_addresses.pop()\n",
    "    return None\n",
    "\n",
    "def apply_hard_heuristics(G, tx_id, nodeDict, addressDict, addr_clust, clust_addr):\n",
    "    if is_tx_with_change(G, tx_id, addr_clust):\n",
    "        # Change address detection heuristic\n",
    "        # Common-input-ownership heuristic\n",
    "        change_address = find_change_address(G, tx_id, nodeDict, addressDict, addr_clust, clust_addr)\n",
    "        if change_address != None:\n",
    "            return [input_addresses(G, tx_id).union({change_address})]\n",
    "        else:\n",
    "            return [input_addresses(G, tx_id)]\n",
    "    # Mixed transaction recognition heuristic\n",
    "    if is_coinjoin_tx(G, tx_id, addr_clust):\n",
    "        # taint analysis and coinjoin sudoku\n",
    "        return taint_analysis(G, tx_id)\n",
    "    return []\n",
    "\n",
    "def apply_simple_heuristics(G, tx_id, start_block, nodeDict, addressDict):\n",
    "    if is_mined_by_satoshi(G, tx_id, nodeDict, addressDict, start_block):\n",
    "        # Satoshi heuristic\n",
    "        return [output_addresses(G, tx_id).union({'1A1zP1eP5QGefi2DMPTfTL5SLmv7DivfNa'})]\n",
    "    if is_mined_by_miner(G, tx_id): \n",
    "        # Coinbase transaction mining address clustering heuristic\n",
    "        return [output_addresses(G, tx_id)]\n",
    "    if is_consolidation_tx(G, tx_id):\n",
    "        # Single input and single output heuristic\n",
    "        # Common-input-ownership heuristic\n",
    "        # Consolidation transaction heuristic\n",
    "        return [input_addresses(G, tx_id).union(output_addresses(G, tx_id))]\n",
    "    if is_payment_tx(G, tx_id):\n",
    "        # Common-input-ownership heuristic\n",
    "        # Payment transaction with amount payed and change address\n",
    "        return [input_addresses(G, tx_id)]\n",
    "    return []\n",
    "\n",
    "def merge_clusters(list_of_grouped_addresses_sets, addr_clust, clust_addr):\n",
    "    for grouped_addresses_set in list_of_grouped_addresses_sets:\n",
    "        cluster_id_to_merge = set(addr_clust[address] for address in grouped_addresses_set)\n",
    "        common_cluster_id = cluster_id_to_merge.pop()\n",
    "        \n",
    "        for cluster_id in cluster_id_to_merge:\n",
    "            clust_addr[common_cluster_id] = clust_addr[common_cluster_id].union(clust_addr[cluster_id])\n",
    "\n",
    "            for address in clust_addr[cluster_id]:\n",
    "                addr_clust[address] = common_cluster_id\n",
    "            \n",
    "            del clust_addr[cluster_id]\n",
    "    return\n",
    "\n",
    "def address_clustering(G, a_df, known_tx_df, spark_session, start_block, debug=False):\n",
    "    \n",
    "    if debug: print('initialing for clustering...')\n",
    "    addr_clust = {row.address : row.cluster_id for row in a_df.rdd.collect()}\n",
    "    clust_addr = {row.cluster_id : {row.address} for row in a_df.rdd.collect()}\n",
    "    list_of_grouped_addresses_sets = []\n",
    "    addressDict = dict()\n",
    "    nodeDict = dict()\n",
    "    \n",
    "    for i, tx in known_tx_df.sort('temporal_index').toPandas().iterrows():\n",
    "        nodeDict[str(tx.id)] = {'temporal_index' : tx.temporal_index, 'block_height' : tx.block_height} \n",
    "        for address in output_addresses(G, str(tx.id)).union(input_addresses(G, str(tx.id))):\n",
    "            try:\n",
    "                addressDict[address]['utilization'] += 1\n",
    "            except KeyError:\n",
    "                addressDict[address] = {'birthday' : tx.temporal_index, 'utilization' : 1}\n",
    "    if debug: print('number of clusters at starting point: {}'.format(len(clust_addr)))\n",
    "\n",
    "    if debug: print('apply simple heuristics...')\n",
    "    for i, tx in known_tx_df.sort('temporal_index').toPandas().iterrows():\n",
    "        if debug and i % 100000 == 0: print('clustering tx number {}'.format(i))\n",
    "        list_of_grouped_addresses_sets = apply_simple_heuristics(G, str(tx.id), start_block, nodeDict, addressDict)\n",
    "        merge_clusters(list_of_grouped_addresses_sets, addr_clust, clust_addr)\n",
    "    \n",
    "    if debug: print('number of clusters after simple heuristic: {}'.format(len(clust_addr)))\n",
    "\n",
    "    if debug: print('apply hard heuristics...')\n",
    "    for i, tx in known_tx_df.sort('temporal_index').toPandas().iterrows():\n",
    "        if debug and i % 100000 == 0: print('clustering tx number {}'.format(i))\n",
    "        list_of_grouped_addresses_sets = apply_hard_heuristics(G, str(tx.id), nodeDict, addressDict, addr_clust, clust_addr)\n",
    "        merge_clusters(list_of_grouped_addresses_sets, addr_clust, clust_addr)\n",
    "    \n",
    "    if debug: print('number of clusters after hard heuristic: {}'.format(len(clust_addr)))\n",
    "\n",
    "    a_df = spark_session.createDataFrame(addr_clust.items(), ['address', 'cluster_id'])\n",
    "    return a_df"
   ]
  },
  {
   "cell_type": "code",
   "execution_count": 37,
   "metadata": {
    "colab": {
     "base_uri": "https://localhost:8080/"
    },
    "id": "WfJIiVnR7-11",
    "outputId": "1fdc5baa-c432-4fdf-e362-da989961187a"
   },
   "outputs": [
    {
     "name": "stdout",
     "output_type": "stream",
     "text": [
      "initialing for clustering...\n",
      "number of clusters at starting point: 416792\n",
      "apply simple heuristics...\n",
      "clustering tx number 0\n",
      "clustering tx number 100000\n",
      "clustering tx number 200000\n",
      "clustering tx number 300000\n",
      "clustering tx number 400000\n",
      "number of clusters after simple heuristic: 251725\n",
      "apply hard heuristics...\n",
      "clustering tx number 0\n",
      "clustering tx number 100000\n",
      "clustering tx number 200000\n",
      "clustering tx number 300000\n",
      "clustering tx number 400000\n",
      "number of clusters after hard heuristic: 127254\n"
     ]
    }
   ],
   "source": [
    "a_df = address_clustering(nx_graph, a_df, known_tx_df, spark, start_block, debug=True)"
   ]
  },
  {
   "cell_type": "code",
   "execution_count": 38,
   "metadata": {
    "id": "XatCitOBLEcX"
   },
   "outputs": [],
   "source": [
    "shutil.rmtree(os.path.join(d_path, 'addresses-{}-{}'.format(start_block, end_block)))\n",
    "a_df.write.save(path=a_path, format='csv', header='True')"
   ]
  },
  {
   "cell_type": "markdown",
   "metadata": {
    "id": "w5cH-NJrTdUW"
   },
   "source": [
    "# **5. Results**"
   ]
  },
  {
   "cell_type": "markdown",
   "metadata": {
    "id": "sDosNsJOz_bt"
   },
   "source": [
    "## **5.1.** Overview"
   ]
  },
  {
   "cell_type": "code",
   "execution_count": 39,
   "metadata": {
    "id": "hd1OlHTDNVhL"
   },
   "outputs": [],
   "source": [
    "a_df.createOrReplaceTempView('ADDRESS')\n",
    "entity_df = spark.sql(\"select min(address) as representative, cluster_id as entity_id, count(cluster_id) as n_address_collected from ADDRESS group by cluster_id order by -count(cluster_id)\")"
   ]
  },
  {
   "cell_type": "code",
   "execution_count": 40,
   "metadata": {
    "colab": {
     "base_uri": "https://localhost:8080/"
    },
    "id": "TsXql8PWOMVZ",
    "outputId": "20523a69-3878-45d5-9e4b-449f3c350d38"
   },
   "outputs": [
    {
     "name": "stdout",
     "output_type": "stream",
     "text": [
      "127254\n",
      "root\n",
      " |-- representative: string (nullable = true)\n",
      " |-- entity_id: long (nullable = true)\n",
      " |-- n_address_collected: long (nullable = false)\n",
      "\n",
      "+----------------------------------+-----------+-------------------+\n",
      "|representative                    |entity_id  |n_address_collected|\n",
      "+----------------------------------+-----------+-------------------+\n",
      "|11126yHiXjavR3oNVwV2GRNso2ah4MnZtm|25769853864|198382             |\n",
      "|1123NonCacE6WuDvBbeGhW3Ywx6S9w3Cdj|25769824176|3475               |\n",
      "|112TjWaMqEcKYFzcjZ6VJKow4ojjviwRpU|60129584408|1039               |\n",
      "|112qmkJhmTo6S33FRPFkqkWCfN5Q3FzRw1|34359777952|996                |\n",
      "|112xSpB6Wgugt7qrQ5UwqKfaRuf7LZkY7K|51539616384|805                |\n",
      "|114AoTxSF5vZoY1p6QEaH87vpqqhGKPks1|25769853120|782                |\n",
      "|11T4T33P9VAfE27dB1iWfdC8RevzqymNU |51539642808|762                |\n",
      "|11377fTiDHusaPRc6dtJU1qWmuPVhbkEmS|17179907776|697                |\n",
      "|113u4fUSYDNqHHQ4js7CN4GEiN6LCDfff9|34359777160|596                |\n",
      "|112VV2wHYjcL2JUidskk7s47AGGEU5qQpi|25769840816|555                |\n",
      "|112nNwYK1Z1FjdsnGfqL44TjZGD4mzaYh6|51539617032|493                |\n",
      "|115oafVmW4QzKyi21yVq3LMsCZAZ8YuM9a|34359775944|484                |\n",
      "|1125QtgG1jCAP9xCvdvUfN5LRe5rJiVhTQ|34359790432|411                |\n",
      "|112b2ZxnzgPrASPjKzRtCJ52fR1ffn68Xn|17179916328|409                |\n",
      "|124r9kKAu6UASaQowFXcYYBH52RxcnmQpi|8589942799 |381                |\n",
      "|124zAtwxpsRXy2hfRAbWe6FtLSDnLn1cbx|25769843160|352                |\n",
      "|1136t6hjpUGBbVXnE2ARUVxGsK9Tfejbui|8589955448 |344                |\n",
      "|124GCBwAmHptfB6DbXVNqgUcHy3G1TWV2q|25769851544|331                |\n",
      "|126h3R6pRNsMah5XrncHpmXcZ4Z9xNbp91|25769843584|315                |\n",
      "|112XtJ4LVZMbPWu7TSBPNJ5n5CbE9V3NNj|42949709880|310                |\n",
      "+----------------------------------+-----------+-------------------+\n",
      "only showing top 20 rows\n",
      "\n"
     ]
    }
   ],
   "source": [
    "print(entity_df.count())\n",
    "entity_df.printSchema()\n",
    "entity_df.show(truncate=False)"
   ]
  },
  {
   "cell_type": "code",
   "execution_count": 41,
   "metadata": {
    "id": "Dwxg0sWtO7_4"
   },
   "outputs": [],
   "source": [
    "entity_df.createOrReplaceTempView('ENTITY')\n",
    "statistics_entity_df = spark.sql(\"select n_address_collected as entity_dimention, count(n_address_collected) as n_entities from ENTITY group by n_address_collected order by n_address_collected\")"
   ]
  },
  {
   "cell_type": "code",
   "execution_count": 42,
   "metadata": {
    "colab": {
     "base_uri": "https://localhost:8080/"
    },
    "id": "g1P9JbDkPz64",
    "outputId": "fe3e253b-6a39-4c53-8d8f-360b3221a7e2"
   },
   "outputs": [
    {
     "name": "stdout",
     "output_type": "stream",
     "text": [
      "162\n",
      "root\n",
      " |-- entity_dimention: long (nullable = false)\n",
      " |-- n_entities: long (nullable = false)\n",
      "\n",
      "+----------------+----------+\n",
      "|entity_dimention|n_entities|\n",
      "+----------------+----------+\n",
      "|1               |107504    |\n",
      "|2               |11142     |\n",
      "|3               |2438      |\n",
      "|4               |2350      |\n",
      "|5               |694       |\n",
      "|6               |945       |\n",
      "|7               |289       |\n",
      "|8               |350       |\n",
      "|9               |180       |\n",
      "|10              |147       |\n",
      "|11              |124       |\n",
      "|12              |91        |\n",
      "|13              |86        |\n",
      "|14              |78        |\n",
      "|15              |52        |\n",
      "|16              |53        |\n",
      "|17              |32        |\n",
      "|18              |42        |\n",
      "|19              |27        |\n",
      "|20              |26        |\n",
      "|21              |38        |\n",
      "|22              |25        |\n",
      "|23              |19        |\n",
      "|24              |16        |\n",
      "|25              |18        |\n",
      "|26              |16        |\n",
      "|27              |25        |\n",
      "|28              |11        |\n",
      "|29              |9         |\n",
      "|30              |17        |\n",
      "|31              |13        |\n",
      "|32              |12        |\n",
      "|33              |9         |\n",
      "|34              |10        |\n",
      "|35              |8         |\n",
      "|36              |13        |\n",
      "|37              |12        |\n",
      "|38              |7         |\n",
      "|39              |12        |\n",
      "|40              |12        |\n",
      "|41              |15        |\n",
      "|42              |9         |\n",
      "|43              |10        |\n",
      "|44              |2         |\n",
      "|45              |13        |\n",
      "|46              |9         |\n",
      "|47              |8         |\n",
      "|48              |2         |\n",
      "|50              |7         |\n",
      "|51              |4         |\n",
      "|52              |11        |\n",
      "|53              |4         |\n",
      "|54              |5         |\n",
      "|55              |4         |\n",
      "|56              |6         |\n",
      "|57              |1         |\n",
      "|58              |2         |\n",
      "|59              |1         |\n",
      "|60              |2         |\n",
      "|61              |4         |\n",
      "|62              |3         |\n",
      "|63              |2         |\n",
      "|64              |3         |\n",
      "|65              |3         |\n",
      "|66              |4         |\n",
      "|67              |5         |\n",
      "|68              |1         |\n",
      "|69              |1         |\n",
      "|70              |8         |\n",
      "|71              |3         |\n",
      "|72              |1         |\n",
      "|73              |4         |\n",
      "|74              |5         |\n",
      "|75              |3         |\n",
      "|77              |3         |\n",
      "|78              |2         |\n",
      "|79              |3         |\n",
      "|80              |4         |\n",
      "|81              |5         |\n",
      "|82              |2         |\n",
      "|84              |2         |\n",
      "|85              |2         |\n",
      "|86              |2         |\n",
      "|87              |4         |\n",
      "|88              |4         |\n",
      "|89              |1         |\n",
      "|90              |3         |\n",
      "|91              |3         |\n",
      "|92              |2         |\n",
      "|95              |1         |\n",
      "|96              |2         |\n",
      "|97              |1         |\n",
      "|98              |3         |\n",
      "|99              |1         |\n",
      "|101             |4         |\n",
      "|103             |1         |\n",
      "|105             |2         |\n",
      "|106             |1         |\n",
      "|108             |3         |\n",
      "|109             |1         |\n",
      "|110             |1         |\n",
      "|111             |2         |\n",
      "|112             |1         |\n",
      "|120             |1         |\n",
      "|121             |1         |\n",
      "|122             |2         |\n",
      "|126             |1         |\n",
      "|127             |2         |\n",
      "|129             |2         |\n",
      "|130             |2         |\n",
      "|132             |1         |\n",
      "|133             |1         |\n",
      "|136             |1         |\n",
      "|138             |2         |\n",
      "|143             |1         |\n",
      "|150             |1         |\n",
      "|156             |1         |\n",
      "|159             |1         |\n",
      "|165             |1         |\n",
      "|166             |1         |\n",
      "|172             |1         |\n",
      "|177             |1         |\n",
      "|178             |1         |\n",
      "|182             |1         |\n",
      "|185             |1         |\n",
      "|186             |1         |\n",
      "|189             |1         |\n",
      "|191             |1         |\n",
      "|198             |1         |\n",
      "|201             |6         |\n",
      "|203             |2         |\n",
      "|206             |2         |\n",
      "|215             |1         |\n",
      "|225             |1         |\n",
      "|226             |1         |\n",
      "|244             |1         |\n",
      "|249             |1         |\n",
      "|253             |1         |\n",
      "|258             |1         |\n",
      "|261             |1         |\n",
      "|263             |1         |\n",
      "|272             |1         |\n",
      "|310             |1         |\n",
      "|315             |1         |\n",
      "|331             |1         |\n",
      "|344             |1         |\n",
      "|352             |1         |\n",
      "|381             |1         |\n",
      "|409             |1         |\n",
      "|411             |1         |\n",
      "|484             |1         |\n",
      "|493             |1         |\n",
      "|555             |1         |\n",
      "|596             |1         |\n",
      "|697             |1         |\n",
      "|762             |1         |\n",
      "|782             |1         |\n",
      "|805             |1         |\n",
      "|996             |1         |\n",
      "|1039            |1         |\n",
      "|3475            |1         |\n",
      "|198382          |1         |\n",
      "+----------------+----------+\n",
      "\n"
     ]
    }
   ],
   "source": [
    "print(statistics_entity_df.count())\n",
    "statistics_entity_df.printSchema()\n",
    "statistics_entity_df.show(statistics_entity_df.count(), truncate=False)"
   ]
  },
  {
   "cell_type": "code",
   "execution_count": 43,
   "metadata": {
    "colab": {
     "base_uri": "https://localhost:8080/",
     "height": 300
    },
    "id": "-yAbyEkcCL5V",
    "outputId": "fbe13fa6-e5a6-4e62-ea12-99726607cbd8"
   },
   "outputs": [
    {
     "data": {
      "image/png": "[encoded data removed]",
      "text/plain": [
       "<Figure size 432x288 with 1 Axes>"
      ]
     },
     "metadata": {
      "needs_background": "light"
     },
     "output_type": "display_data"
    }
   ],
   "source": [
    "plt.scatter(\n",
    "    x = statistics_entity_df.toPandas()['entity_dimention'], \n",
    "    y = statistics_entity_df.toPandas()['entity_dimention'], \n",
    "    s=statistics_entity_df.toPandas()['n_entities'], \n",
    "    alpha=0.5)\n",
    "plt.xscale('log')\n",
    "plt.yscale('log')\n",
    "plt.xlabel(\"entity_dimention\")\n",
    "plt.ylabel(\"entity_dimention\")\n",
    "plt.title(\"Entity dimention distribution\")\n",
    "plt.show()"
   ]
  },
  {
   "cell_type": "markdown",
   "metadata": {
    "id": "0J5Hk2iD0GYP"
   },
   "source": [
    "## **5.2.** Assumption"
   ]
  },
  {
   "cell_type": "markdown",
   "metadata": {
    "id": "vyswtDBZAYcD"
   },
   "source": [
    "the implemented clustering algorithm aims to reduce false positives as much as possible, that is, it avoids as much as possible the union of two addresses belonging to different entities. So the algorithm doesn't risk merging between two clusters. This results in many clusters populated by only one or two addresses. since it is unusual for a single entity to possess only one or two addresses, it is reasonable to assume that these small clasters can somehow be joined to larger entities through stronger clustering and more trivial analyzes.\n",
    "\n",
    "For this reason, in some use cases, if necessary it is possible not to consider small clusters, assuming that these are incorporated into larger clusters."
   ]
  },
  {
   "cell_type": "code",
   "execution_count": 44,
   "metadata": {
    "id": "ER9qZprh7ibO"
   },
   "outputs": [],
   "source": [
    "entity_df.createOrReplaceTempView('ENTITY')\n",
    "tmp_df = spark.sql(\"select entity_id from ENTITY where n_address_collected > 1\")\n",
    "a2_df = a_df.join(tmp_df, a_df.cluster_id == tmp_df.entity_id, 'inner').select('address', 'cluster_id')"
   ]
  },
  {
   "cell_type": "code",
   "execution_count": 45,
   "metadata": {
    "colab": {
     "base_uri": "https://localhost:8080/"
    },
    "id": "sM0MGkOX-iMG",
    "outputId": "7f01d14c-0885-4c82-da20-6106b70b572c"
   },
   "outputs": [
    {
     "name": "stdout",
     "output_type": "stream",
     "text": [
      "309288\n",
      "root\n",
      " |-- address: string (nullable = true)\n",
      " |-- cluster_id: long (nullable = true)\n",
      "\n",
      "+----------------------------------+-----------+\n",
      "|address                           |cluster_id |\n",
      "+----------------------------------+-----------+\n",
      "|1Hq6vXaLv6e58ifAbP7YFjVRUA1igkSMrz|60129544699|\n",
      "|1CutLZRCJvPUcF9T4Wzs859zPtZhKFQEni|60129550501|\n",
      "|16jxgzEC7VCt9TvQZHMAQAXebYz2mYQj4y|60129544699|\n",
      "|1ETYFFcFztVvpPx3jGGNxRabrPYw57qRnE|42949684225|\n",
      "|115sJ226v2ncrqHC5F1vXMz2DHoaHSDaE9|51539656728|\n",
      "|16izFWKyu2AY6ycMu453NNYkhvk9Cw9w68|34359751784|\n",
      "|1HAQpTD3ZHCjFbTaigPFJTkRe1BQd9eUyL|60129558315|\n",
      "|12zvxuLZdWvBerij3Ng3uBtMpJojKFBrFd|42949687280|\n",
      "|1JjvfHfERsnkfyuAHrdu3LMV4UB9VqLUV9|42949687592|\n",
      "|1MUoGs6BahQUKfkvCYaK67KEHScszCRc8x|34359747761|\n",
      "|13szEL74puuEaKpTRpHDL3aH8mjsJtcyc4|42949687592|\n",
      "|1F3oWzWE2phoJ5f3ZmmiT9yUcQWSHfjvQM|25769821315|\n",
      "|15E2o9gwNUjLdXunAiD11fBknyfoeqGLG4|60129562010|\n",
      "|1N89rh4zhheAfegnCE5dz7z5nV1ju5rAdR|60129562342|\n",
      "|12KMyo8yybvBf7Tu7srvPmCPKYFmHyxBry|42949691248|\n",
      "|18YdDBkrhJ3NmPJ5pTLKgxnkeTNQPVhKYK|25769827946|\n",
      "|1MErpARvgJwkSmsmTNUJtK7uCRsYFboDEo|17179891582|\n",
      "|17TvSiDVHTD8hkw4pdHDFpkpgjhAcroXog|60129572016|\n",
      "|1F36BRMRgf3Vg2kispMPDTTkXGWJ5YgJmL|60129572880|\n",
      "|1DmJQBs88Vanx5jCxT94k5Um5KPioxUcQF|60129572904|\n",
      "+----------------------------------+-----------+\n",
      "only showing top 20 rows\n",
      "\n"
     ]
    }
   ],
   "source": [
    "print(a2_df.count())\n",
    "a2_df.printSchema()\n",
    "a2_df.show(truncate=False)"
   ]
  },
  {
   "cell_type": "markdown",
   "metadata": {
    "id": "dp0C2f-oBrsz"
   },
   "source": [
    "## **5.3.** Overview after Assumption"
   ]
  },
  {
   "cell_type": "code",
   "execution_count": 46,
   "metadata": {
    "id": "L4cOQZg9B6Cy"
   },
   "outputs": [],
   "source": [
    "a2_df.createOrReplaceTempView('ADDRESS')\n",
    "entity_df = spark.sql(\"select min(address) as representative, cluster_id as entity_id, count(cluster_id) as n_address_collected from ADDRESS group by cluster_id order by -count(cluster_id)\")"
   ]
  },
  {
   "cell_type": "code",
   "execution_count": 47,
   "metadata": {
    "colab": {
     "base_uri": "https://localhost:8080/"
    },
    "id": "vy4Vk-w5CAHO",
    "outputId": "0b17c7b0-3090-492d-f0db-3d77a106646d"
   },
   "outputs": [
    {
     "name": "stdout",
     "output_type": "stream",
     "text": [
      "19750\n",
      "root\n",
      " |-- representative: string (nullable = true)\n",
      " |-- entity_id: long (nullable = true)\n",
      " |-- n_address_collected: long (nullable = false)\n",
      "\n",
      "+----------------------------------+-----------+-------------------+\n",
      "|representative                    |entity_id  |n_address_collected|\n",
      "+----------------------------------+-----------+-------------------+\n",
      "|11126yHiXjavR3oNVwV2GRNso2ah4MnZtm|25769853864|198382             |\n",
      "|1123NonCacE6WuDvBbeGhW3Ywx6S9w3Cdj|25769824176|3475               |\n",
      "|112TjWaMqEcKYFzcjZ6VJKow4ojjviwRpU|60129584408|1039               |\n",
      "|112qmkJhmTo6S33FRPFkqkWCfN5Q3FzRw1|34359777952|996                |\n",
      "|112xSpB6Wgugt7qrQ5UwqKfaRuf7LZkY7K|51539616384|805                |\n",
      "|114AoTxSF5vZoY1p6QEaH87vpqqhGKPks1|25769853120|782                |\n",
      "|11T4T33P9VAfE27dB1iWfdC8RevzqymNU |51539642808|762                |\n",
      "|11377fTiDHusaPRc6dtJU1qWmuPVhbkEmS|17179907776|697                |\n",
      "|113u4fUSYDNqHHQ4js7CN4GEiN6LCDfff9|34359777160|596                |\n",
      "|112VV2wHYjcL2JUidskk7s47AGGEU5qQpi|25769840816|555                |\n",
      "|112nNwYK1Z1FjdsnGfqL44TjZGD4mzaYh6|51539617032|493                |\n",
      "|115oafVmW4QzKyi21yVq3LMsCZAZ8YuM9a|34359775944|484                |\n",
      "|1125QtgG1jCAP9xCvdvUfN5LRe5rJiVhTQ|34359790432|411                |\n",
      "|112b2ZxnzgPrASPjKzRtCJ52fR1ffn68Xn|17179916328|409                |\n",
      "|124r9kKAu6UASaQowFXcYYBH52RxcnmQpi|8589942799 |381                |\n",
      "|124zAtwxpsRXy2hfRAbWe6FtLSDnLn1cbx|25769843160|352                |\n",
      "|1136t6hjpUGBbVXnE2ARUVxGsK9Tfejbui|8589955448 |344                |\n",
      "|124GCBwAmHptfB6DbXVNqgUcHy3G1TWV2q|25769851544|331                |\n",
      "|126h3R6pRNsMah5XrncHpmXcZ4Z9xNbp91|25769843584|315                |\n",
      "|112XtJ4LVZMbPWu7TSBPNJ5n5CbE9V3NNj|42949709880|310                |\n",
      "+----------------------------------+-----------+-------------------+\n",
      "only showing top 20 rows\n",
      "\n"
     ]
    }
   ],
   "source": [
    "print(entity_df.count())\n",
    "entity_df.printSchema()\n",
    "entity_df.show(truncate=False)"
   ]
  },
  {
   "cell_type": "code",
   "execution_count": 48,
   "metadata": {
    "id": "OIJvBJmFC9Sp"
   },
   "outputs": [],
   "source": [
    "entity_df.createOrReplaceTempView('ENTITY')\n",
    "statistics_entity_df = spark.sql(\"select n_address_collected as entity_dimention, count(n_address_collected) as n_entities from ENTITY group by n_address_collected order by n_address_collected\")"
   ]
  },
  {
   "cell_type": "code",
   "execution_count": 49,
   "metadata": {
    "colab": {
     "base_uri": "https://localhost:8080/"
    },
    "id": "hFp2rTfvDBw1",
    "outputId": "a3894adb-b5cc-43f8-f79e-99ec05847674"
   },
   "outputs": [
    {
     "name": "stdout",
     "output_type": "stream",
     "text": [
      "161\n",
      "root\n",
      " |-- entity_dimention: long (nullable = false)\n",
      " |-- n_entities: long (nullable = false)\n",
      "\n",
      "+----------------+----------+\n",
      "|entity_dimention|n_entities|\n",
      "+----------------+----------+\n",
      "|2               |11142     |\n",
      "|3               |2438      |\n",
      "|4               |2350      |\n",
      "|5               |694       |\n",
      "|6               |945       |\n",
      "|7               |289       |\n",
      "|8               |350       |\n",
      "|9               |180       |\n",
      "|10              |147       |\n",
      "|11              |124       |\n",
      "|12              |91        |\n",
      "|13              |86        |\n",
      "|14              |78        |\n",
      "|15              |52        |\n",
      "|16              |53        |\n",
      "|17              |32        |\n",
      "|18              |42        |\n",
      "|19              |27        |\n",
      "|20              |26        |\n",
      "|21              |38        |\n",
      "|22              |25        |\n",
      "|23              |19        |\n",
      "|24              |16        |\n",
      "|25              |18        |\n",
      "|26              |16        |\n",
      "|27              |25        |\n",
      "|28              |11        |\n",
      "|29              |9         |\n",
      "|30              |17        |\n",
      "|31              |13        |\n",
      "|32              |12        |\n",
      "|33              |9         |\n",
      "|34              |10        |\n",
      "|35              |8         |\n",
      "|36              |13        |\n",
      "|37              |12        |\n",
      "|38              |7         |\n",
      "|39              |12        |\n",
      "|40              |12        |\n",
      "|41              |15        |\n",
      "|42              |9         |\n",
      "|43              |10        |\n",
      "|44              |2         |\n",
      "|45              |13        |\n",
      "|46              |9         |\n",
      "|47              |8         |\n",
      "|48              |2         |\n",
      "|50              |7         |\n",
      "|51              |4         |\n",
      "|52              |11        |\n",
      "|53              |4         |\n",
      "|54              |5         |\n",
      "|55              |4         |\n",
      "|56              |6         |\n",
      "|57              |1         |\n",
      "|58              |2         |\n",
      "|59              |1         |\n",
      "|60              |2         |\n",
      "|61              |4         |\n",
      "|62              |3         |\n",
      "|63              |2         |\n",
      "|64              |3         |\n",
      "|65              |3         |\n",
      "|66              |4         |\n",
      "|67              |5         |\n",
      "|68              |1         |\n",
      "|69              |1         |\n",
      "|70              |8         |\n",
      "|71              |3         |\n",
      "|72              |1         |\n",
      "|73              |4         |\n",
      "|74              |5         |\n",
      "|75              |3         |\n",
      "|77              |3         |\n",
      "|78              |2         |\n",
      "|79              |3         |\n",
      "|80              |4         |\n",
      "|81              |5         |\n",
      "|82              |2         |\n",
      "|84              |2         |\n",
      "|85              |2         |\n",
      "|86              |2         |\n",
      "|87              |4         |\n",
      "|88              |4         |\n",
      "|89              |1         |\n",
      "|90              |3         |\n",
      "|91              |3         |\n",
      "|92              |2         |\n",
      "|95              |1         |\n",
      "|96              |2         |\n",
      "|97              |1         |\n",
      "|98              |3         |\n",
      "|99              |1         |\n",
      "|101             |4         |\n",
      "|103             |1         |\n",
      "|105             |2         |\n",
      "|106             |1         |\n",
      "|108             |3         |\n",
      "|109             |1         |\n",
      "|110             |1         |\n",
      "|111             |2         |\n",
      "|112             |1         |\n",
      "|120             |1         |\n",
      "|121             |1         |\n",
      "|122             |2         |\n",
      "|126             |1         |\n",
      "|127             |2         |\n",
      "|129             |2         |\n",
      "|130             |2         |\n",
      "|132             |1         |\n",
      "|133             |1         |\n",
      "|136             |1         |\n",
      "|138             |2         |\n",
      "|143             |1         |\n",
      "|150             |1         |\n",
      "|156             |1         |\n",
      "|159             |1         |\n",
      "|165             |1         |\n",
      "|166             |1         |\n",
      "|172             |1         |\n",
      "|177             |1         |\n",
      "|178             |1         |\n",
      "|182             |1         |\n",
      "|185             |1         |\n",
      "|186             |1         |\n",
      "|189             |1         |\n",
      "|191             |1         |\n",
      "|198             |1         |\n",
      "|201             |6         |\n",
      "|203             |2         |\n",
      "|206             |2         |\n",
      "|215             |1         |\n",
      "|225             |1         |\n",
      "|226             |1         |\n",
      "|244             |1         |\n",
      "|249             |1         |\n",
      "|253             |1         |\n",
      "|258             |1         |\n",
      "|261             |1         |\n",
      "|263             |1         |\n",
      "|272             |1         |\n",
      "|310             |1         |\n",
      "|315             |1         |\n",
      "|331             |1         |\n",
      "|344             |1         |\n",
      "|352             |1         |\n",
      "|381             |1         |\n",
      "|409             |1         |\n",
      "|411             |1         |\n",
      "|484             |1         |\n",
      "|493             |1         |\n",
      "|555             |1         |\n",
      "|596             |1         |\n",
      "|697             |1         |\n",
      "|762             |1         |\n",
      "|782             |1         |\n",
      "|805             |1         |\n",
      "|996             |1         |\n",
      "|1039            |1         |\n",
      "|3475            |1         |\n",
      "|198382          |1         |\n",
      "+----------------+----------+\n",
      "\n"
     ]
    }
   ],
   "source": [
    "print(statistics_entity_df.count())\n",
    "statistics_entity_df.printSchema()\n",
    "statistics_entity_df.show(statistics_entity_df.count(), truncate=False)"
   ]
  },
  {
   "cell_type": "code",
   "execution_count": 50,
   "metadata": {
    "colab": {
     "base_uri": "https://localhost:8080/",
     "height": 0
    },
    "id": "QWtpV8u1ByDu",
    "outputId": "7a24206e-fc59-4ada-a4fb-3319346c4542"
   },
   "outputs": [
    {
     "data": {
      "image/png": "[encoded data removed]",
      "text/plain": [
       "<Figure size 432x288 with 1 Axes>"
      ]
     },
     "metadata": {
      "needs_background": "light"
     },
     "output_type": "display_data"
    }
   ],
   "source": [
    "plt.scatter(\n",
    "    x = statistics_entity_df.toPandas()['entity_dimention'], \n",
    "    y = statistics_entity_df.toPandas()['entity_dimention'], \n",
    "    s=statistics_entity_df.toPandas()['n_entities'], \n",
    "    alpha=0.5)\n",
    "plt.xscale('log')\n",
    "plt.yscale('log')\n",
    "plt.xlabel(\"entity_dimention\")\n",
    "plt.ylabel(\"entity_dimention\")\n",
    "plt.title(\"Entity dimention distribution\")\n",
    "plt.show()"
   ]
  },
  {
   "cell_type": "markdown",
   "metadata": {
    "id": "eyosgUzv4oj_"
   },
   "source": [
    "# **6. Boosting Bitcoin Address Clustering with other more complex techniques**"
   ]
  },
  {
   "cell_type": "markdown",
   "metadata": {
    "id": "glg6XYCN45P1"
   },
   "source": [
    "## **6.1.** Merge or Demerge clusters thanks to off-chain informations"
   ]
  },
  {
   "cell_type": "code",
   "execution_count": 51,
   "metadata": {
    "id": "00bgUI736EM6"
   },
   "outputs": [],
   "source": [
    "satoshi = {'1A1zP1eP5QGefi2DMPTfTL5SLmv7DivfNa', '12cbQLTFMXRnSzktFkuoG3eHoMeFtpTu3S'}\n",
    "lazslo = {'1Q2TWHE3GMdB6BZKafqwxXtWAWgFt5Jvm3', '1XPTgDRhN8RFnzniWCddobD9iKZatrvH4'}"
   ]
  },
  {
   "cell_type": "markdown",
   "metadata": {
    "id": "edtS-k7Z5hPI"
   },
   "source": [
    "## **6.2.** Louvain community detection algorithm"
   ]
  },
  {
   "cell_type": "markdown",
   "metadata": {
    "id": "XrziQyl8Tolv"
   },
   "source": [
    "# **7. Use cases**"
   ]
  },
  {
   "cell_type": "markdown",
   "metadata": {
    "id": "4D9RXQaViain"
   },
   "source": [
    "## **7.1.** Visualize entity movements from an address"
   ]
  },
  {
   "cell_type": "code",
   "execution_count": 52,
   "metadata": {
    "colab": {
     "base_uri": "https://localhost:8080/"
    },
    "id": "l5IYUnR0_JBQ",
    "outputId": "9d1e4210-475b-4813-e32e-c60af362869d"
   },
   "outputs": [
    {
     "name": "stdout",
     "output_type": "stream",
     "text": [
      "address 12cbQLTFMXRnSzktFkuoG3eHoMeFtpTu3S is in cluster 51539615536\n"
     ]
    }
   ],
   "source": [
    "address = '12cbQLTFMXRnSzktFkuoG3eHoMeFtpTu3S'\n",
    "ClusterList = None\n",
    "try:\n",
    "    a_df.createOrReplaceTempView('ADDRESSES')\n",
    "    cluster_id = spark.sql(\"select cluster_id from ADDRESSES where address = '\"+address+\"'\").head().cluster_id\n",
    "    a_df.createOrReplaceTempView('ADDRESSES')\n",
    "    ClusterList = spark.sql(\"select address from ADDRESSES where cluster_id = \" + str(cluster_id)).withColumnRenamed('address', 'address_clustered')\n",
    "    print('address {} is in cluster {}'.format(address, cluster_id))\n",
    "except:\n",
    "    print('invalid address')"
   ]
  },
  {
   "cell_type": "code",
   "execution_count": 53,
   "metadata": {
    "id": "HxeKPPUPcEET"
   },
   "outputs": [],
   "source": [
    "new_e_df = e_df.join(ClusterList, e_df.address == ClusterList.address_clustered, 'inner').drop('address_clustered')\n",
    "tmp_df = new_e_df.select(new_e_df.src_id).union(new_e_df.select(new_e_df.dst_id)).withColumnRenamed('src_id', 'tmp_id').distinct()\n",
    "new_v_df = v_df.join(tmp_df, v_df.id == tmp_df.tmp_id, 'inner').drop('tmp_id')\n",
    "tmp_df = new_v_df.select('id')\n",
    "new_e_df = e_df.join(tmp_df, tmp_df.id == e_df.src_id, 'inner').union(e_df.join(tmp_df, tmp_df.id == e_df.dst_id, 'inner')).drop('id').distinct()\n",
    "tmp_df = new_e_df.select(new_e_df.src_id).union(new_e_df.select(new_e_df.dst_id)).distinct().withColumnRenamed('src_id', 'tmp_id')\n",
    "new_v_df = v_df.join(tmp_df, v_df.id == tmp_df.tmp_id).drop('tmp_id')"
   ]
  },
  {
   "cell_type": "code",
   "execution_count": null,
   "metadata": {
    "id": "kBv7_P5eUQBd"
   },
   "outputs": [],
   "source": [
    "print(\"Total nodes: {}\".format(new_v_df.count()))\n",
    "print(\"Total edges: {}\".format(new_e_df.count()))"
   ]
  },
  {
   "cell_type": "code",
   "execution_count": null,
   "metadata": {
    "id": "xC2FegsFiHR5"
   },
   "outputs": [],
   "source": [
    "new_v_df.show(truncate=False)\n",
    "new_e_df.show(truncate=False)"
   ]
  },
  {
   "cell_type": "code",
   "execution_count": null,
   "metadata": {
    "id": "6IF_8tXPiHJr"
   },
   "outputs": [],
   "source": [
    "def generate_pyvis_graph(v_df, e_df, a_df, cluster_id_selected):\n",
    "    addr_clust = {row.address : row.cluster_id for row in a_df.rdd.collect()}\n",
    "    net = Network(\n",
    "                height='100%',\n",
    "                width='80%',\n",
    "                directed=True\n",
    "                )\n",
    "    net.show_buttons(filter_=[\"physics\"])\n",
    "\n",
    "    for node in v_df.rdd.collect():\n",
    "        if node.note == 'tx':\n",
    "            title = 'tx_hash: {}\\n'.format(node.tx_hash) + \\\n",
    "                'block_height: {}\\n'.format(node.block_height) + \\\n",
    "                'n_input: {}\\n'.format(node.n_input) + \\\n",
    "                'n_output: {}\\n'.format(node.n_output) + \\\n",
    "                'amount_input: {} BTC\\n'.format(node.amount_input/100000000) + \\\n",
    "                'amount_output: {} BTC\\n'.format(node.amount_output/100000000) + \\\n",
    "                'fee: {} BTC'.format(node.fee/100000000)\n",
    "            net.add_node(n_id=str(node.id), shape='dot', title=title)\n",
    "        elif node.note == 'UTXO':\n",
    "            title = '{}\\n'.format(node.note) + \\\n",
    "                'amount: {} BTC'.format(node.amount_input/100000000)\n",
    "            net.add_node(n_id=str(node.id), shape='square', title=title)\n",
    "        elif node.note == 'coinbase':\n",
    "            title = '{}\\n'.format(node.note) + \\\n",
    "                'amount: {} BTC'.format(node.amount_output/100000000)\n",
    "            net.add_node(n_id=str(node.id), shape='square', title=title)\n",
    "        elif node.note == 'unknown_tx':\n",
    "            title = 'unknown_tx\\n' + 'tx_index: {}'.format(node.id)\n",
    "            net.add_node(n_id=str(node.id), shape='square', title=title)\n",
    "    for edge in e_df.rdd.collect():\n",
    "        if edge.address[:4] != 'UTXO' and edge.address[:4] != 'coin':\n",
    "            title = 'address: {}\\n'.format(edge.address) + \\\n",
    "                    'value: {} BTC\\n'.format(edge.value/100000000) + \\\n",
    "                    'cluster_id : {}'.format(addr_clust[edge.address])\n",
    "            if addr_clust[edge.address] == cluster_id_selected:\n",
    "                net.add_edge(source=str(edge.src_id), to=str(edge.dst_id), title=title, value=edge.value/100000000, color='red')\n",
    "            else:\n",
    "                net.add_edge(source=str(edge.src_id), to=str(edge.dst_id), title=title, value=edge.value/100000000)\n",
    "        else:\n",
    "            title = 'address: {}\\n'.format(edge.address) + \\\n",
    "                    'value: {} BTC\\n'.format(edge.value/100000000)\n",
    "            net.add_edge(source=str(edge.src_id), to=str(edge.dst_id), title=title, value=edge.value/100000000)\n",
    "    return net"
   ]
  },
  {
   "cell_type": "code",
   "execution_count": null,
   "metadata": {
    "id": "9yR3nTMCiHBw"
   },
   "outputs": [],
   "source": [
    "new_pyvis_graph = generate_pyvis_graph(new_v_df, new_e_df, a_df, cluster_id)\n",
    "new_pyvis_graph.write_html(os.path.join(d_path, 'cluster_graph-{}-{}.html'.format(start_block, end_block)))"
   ]
  },
  {
   "cell_type": "markdown",
   "metadata": {
    "id": "2x4FyX7pp16j"
   },
   "source": [
    "## **7.2.** Solve specific Queries"
   ]
  },
  {
   "cell_type": "markdown",
   "metadata": {
    "id": "ZbLlB0-srqD1"
   },
   "source": [
    "### **7.2.1.** How \"Trustless\" Is Bitcoin, Really? ([link](https://www.nytimes.com/2022/06/06/science/bitcoin-nakamoto-blackburn-crypto.html))"
   ]
  },
  {
   "cell_type": "code",
   "execution_count": null,
   "metadata": {
    "id": "clUizKAysRlW"
   },
   "outputs": [],
   "source": [
    "entity_df.createOrReplaceTempView('ENTITY')\n",
    "tmp_df = spark.sql(\"select entity_id from ENTITY where n_address_collected > 2\")\n",
    "a3_df = a_df.join(tmp_df, a_df.cluster_id == tmp_df.entity_id, 'inner').select('address', 'cluster_id')\n",
    "\n",
    "e_df.createOrReplaceTempView('EDGES')\n",
    "coinbase_tx_id_df = spark.sql(\"select dst_id as tmp_id from EDGES where src_id like 'coinbase%'\")\n",
    "miners_addrs_df = e_df.join(coinbase_tx_id_df, e_df.src_id == coinbase_tx_id_df.tmp_id).select('address').withColumnRenamed('address', 'miner_address')\n",
    "tmp_df = a3_df.join(miners_addrs_df, a3_df.address == miners_addrs_df.miner_address, 'inner').drop('miner_address')\n",
    "tmp_df.createOrReplaceTempView('TMP')\n",
    "miners_entities_df = spark.sql(\"select min(address) as representative, cluster_id, count(cluster_id) as n_address_collected from TMP group by cluster_id\")"
   ]
  },
  {
   "cell_type": "code",
   "execution_count": null,
   "metadata": {
    "id": "6Phln2siyeMA"
   },
   "outputs": [],
   "source": [
    "miners_entities_df.count()"
   ]
  },
  {
   "cell_type": "markdown",
   "metadata": {
    "id": "nxbRNlBt281J"
   },
   "source": [
    "### **7.2.2.** Any other Queries you can immagine"
   ]
  },
  {
   "cell_type": "markdown",
   "metadata": {
    "id": "Gqig5HHBExpN"
   },
   "source": [
    "# **8. Web App**"
   ]
  },
  {
   "cell_type": "code",
   "execution_count": null,
   "metadata": {},
   "outputs": [],
   "source": [
    "import streamlit as st\n",
    "import streamlit.components.v1 as components\n",
    "import pyspark\n",
    "from pyspark.sql import *\n",
    "from pyspark.sql.types import *\n",
    "from pyspark.sql.functions import *\n",
    "from pyspark import SparkContext, SparkConf\n",
    "import requests\n",
    "import wget\n",
    "import csv\n",
    "import os\n",
    "from urllib import request\n",
    "from urllib.error import HTTPError\n",
    "from pyvis.network import Network\n",
    "import base64\n",
    "from PIL import Image\n",
    "\n",
    "def generate_pyvis_graph(v_df, e_df, a_df, cluster_id_selected):\n",
    "    addr_clust = {row.address : row.cluster_id for row in a_df.rdd.collect()}\n",
    "    net = Network(\n",
    "                height='100%',\n",
    "                width='80%',\n",
    "                directed=True\n",
    "                )\n",
    "    net.show_buttons(filter_=[\"physics\"])\n",
    "\n",
    "    for node in v_df.rdd.collect():\n",
    "        if node.note == 'tx':\n",
    "            title = 'tx_hash: {}\\n'.format(node.tx_hash) + \\\n",
    "                'block_height: {}\\n'.format(node.block_height) + \\\n",
    "                'n_input: {}\\n'.format(node.n_input) + \\\n",
    "                'n_output: {}\\n'.format(node.n_output) + \\\n",
    "                'amount_input: {} BTC\\n'.format(node.amount_input/100000000) + \\\n",
    "                'amount_output: {} BTC\\n'.format(node.amount_output/100000000) + \\\n",
    "                'fee: {} BTC'.format(node.fee/100000000)\n",
    "            net.add_node(n_id=str(node.id), shape='dot', title=title)\n",
    "        elif node.note == 'UTXO':\n",
    "            title = '{}\\n'.format(node.note) + \\\n",
    "                'amount: {} BTC'.format(node.amount_input/100000000)\n",
    "            net.add_node(n_id=str(node.id), shape='square', title=title)\n",
    "        elif node.note == 'coinbase':\n",
    "            title = '{}\\n'.format(node.note) + \\\n",
    "                'amount: {} BTC'.format(node.amount_output/100000000)\n",
    "            net.add_node(n_id=str(node.id), shape='square', title=title)\n",
    "        elif node.note == 'unknown_tx':\n",
    "            title = 'unknown_tx\\n' + 'tx_index: {}'.format(node.id)\n",
    "            net.add_node(n_id=str(node.id), shape='square', title=title)\n",
    "    for edge in e_df.rdd.collect():\n",
    "        if edge.address[:4] != 'UTXO' and edge.address[:4] != 'coin':\n",
    "            title = 'address: {}\\n'.format(edge.address) + \\\n",
    "                    'value: {} BTC\\n'.format(edge.value/100000000) + \\\n",
    "                    'cluster_id : {}'.format(addr_clust[edge.address])\n",
    "            if addr_clust[edge.address] == cluster_id_selected:\n",
    "                net.add_edge(source=str(edge.src_id), to=str(edge.dst_id), title=title, value=edge.value/100000000, color='red')\n",
    "            else:\n",
    "                net.add_edge(source=str(edge.src_id), to=str(edge.dst_id), title=title, value=edge.value/100000000)\n",
    "        else:\n",
    "            title = 'address: {}\\n'.format(edge.address) + \\\n",
    "                    'value: {} BTC\\n'.format(edge.value/100000000)\n",
    "            net.add_edge(source=str(edge.src_id), to=str(edge.dst_id), title=title, value=edge.value/100000000)\n",
    "    return net\n",
    "\n",
    "def render_svg(svg_file):\n",
    "    with open(svg_file, \"r\") as f:\n",
    "        lines = f.readlines()\n",
    "        svg = \"\".join(lines)\n",
    "        b64 = base64.b64encode(svg.encode(\"utf-8\")).decode(\"utf-8\")\n",
    "        html = r'<img src=\"data:image/svg+xml;base64,%s\"/>' % b64\n",
    "        html = '<p style=\"text-align:center;\">' + html + '</p>'\n",
    "        return html\n",
    "\n",
    "\n",
    "\n",
    "\n",
    "\n",
    "\n",
    "\n",
    "\n",
    "\n",
    "\n",
    "def main(start_block, end_block):\n",
    "\n",
    "    print('executing main')\n",
    "\n",
    "    DIR = './'\n",
    "\n",
    "    spark = SparkSession.builder.getOrCreate()\n",
    "    d_path = os.path.join(DIR, 'blocks-{}-{}-clustered'.format(start_block, end_block))\n",
    "    e_path = os.path.join(d_path, 'edges-{}-{}'.format(start_block, end_block))\n",
    "    v_path = os.path.join(d_path, 'vertices-{}-{}'.format(start_block, end_block))\n",
    "    a_path = os.path.join(d_path, 'addresses-{}-{}'.format(start_block, end_block))\n",
    "    e_df = spark.read.load(e_path,\n",
    "                            format=\"csv\",\n",
    "                            sep=\",\",\n",
    "                            inferSchema=\"true\",\n",
    "                            header=\"true\"\n",
    "                            )\n",
    "    v_df = spark.read.load(v_path,\n",
    "                            format=\"csv\",\n",
    "                            sep=\",\",\n",
    "                            inferSchema=\"true\",\n",
    "                            header=\"true\"\n",
    "                            )\n",
    "    unknown_v_df = e_df.select('src_id').union(e_df.select('dst_id')).distinct().subtract(v_df.select('id')).withColumnRenamed('src_id', 'id')\n",
    "    unknown_v_df = unknown_v_df.withColumn('note', lit('unknown_tx')) \\\n",
    "                            .withColumn('tx_hash', lit(None)) \\\n",
    "                            .withColumn('block_height', lit(-1)) \\\n",
    "                            .withColumn('block_hash', lit(None)) \\\n",
    "                            .withColumn('fee', lit(0)) \\\n",
    "                            .withColumn('n_input', lit(0)) \\\n",
    "                            .withColumn('amount_input', lit(0)) \\\n",
    "                            .withColumn('n_output', lit(0)) \\\n",
    "                            .withColumn('amount_output', lit(0)) \\\n",
    "                            .withColumn('temporal_index', lit(-1))\n",
    "    v_df = v_df.union(unknown_v_df)\n",
    "    a_df = spark.read.load(a_path,\n",
    "                            format=\"csv\",\n",
    "                            sep=\",\",\n",
    "                            inferSchema=\"true\",\n",
    "                            header=\"true\"\n",
    "                            )\n",
    "\n",
    "    img = Image.open('Bitcoin.png')\n",
    "    st.set_page_config(\n",
    "        page_title=\"Bitcoin Address Clustering\",\n",
    "        layout=\"wide\",\n",
    "        page_icon=img\n",
    "    )\n",
    "\n",
    "    st.title('Bitcoin Address Clustering\\n')\n",
    "    with st.container():\n",
    "        c1, c2 = st.columns(2)\n",
    "        c1.subheader('''\n",
    "                Enter a bitcoin address to be clustered using the following heuristics:\\n\n",
    "                - Satoshi heuristic\\n\n",
    "                - Coinbase transaction mining address clustering heuristic\\n\n",
    "                - Common-input-ownership heuristic\\n\n",
    "                - Single input and single output heuristic\\n\n",
    "                - Consolidation transaction heuristic\\n\n",
    "                - Payment transaction with amount payed and change address heuristic\\n\n",
    "                - Change address detection heuristic\\n\n",
    "                \\t- same address in input and output heuristic\\n\n",
    "                \\t- address reuse heuristic\\n\n",
    "                \\t- Unnecessary input heuristic\\n\n",
    "                \\t- new address in output heuristic\\n\n",
    "                \\t- round number heuristic\\n\n",
    "                - Mixed transaction recognition heuristic\\n\n",
    "                \\t- taint analysis and coinjoin sudoku\n",
    "                ''')\n",
    "\n",
    "        c2.markdown(render_svg('bitcoin-img.svg'), unsafe_allow_html=True)\n",
    "        c2.write('\\n\\n\\n\\n')\n",
    "\n",
    "        with c2.form(key='form'):\n",
    "            address = st.text_input(label='Insert address to cluster')\n",
    "            submit_button = st.form_submit_button(label='Start Clustering')\n",
    "\n",
    "    if submit_button:\n",
    "        with st.spinner(\"Loading...\"):\n",
    "\n",
    "            a_df.createOrReplaceTempView('ADDRESSES')\n",
    "            if spark.sql(\"select * from ADDRESSES where address = '\"+address+\"'\").rdd.isEmpty():\n",
    "                print('invalid address')\n",
    "                st.error('Invalid address')\n",
    "            else:\n",
    "                a_df.createOrReplaceTempView('ADDRESSES')\n",
    "                cluster_id = spark.sql(\"select cluster_id from ADDRESSES where address = '\"+address+\"'\").head().cluster_id\n",
    "                a_df.createOrReplaceTempView('ADDRESSES')\n",
    "                ClusterList = spark.sql(\"select address from ADDRESSES where cluster_id = \" + str(cluster_id)).withColumnRenamed('address', 'address_clustered')\n",
    "\n",
    "                print('address {} is in cluster {}'.format(address, cluster_id))\n",
    "                print('generating cluster graphs')\n",
    "\n",
    "                new_e_df = e_df.join(ClusterList, e_df.address == ClusterList.address_clustered, 'inner').drop('address_clustered')\n",
    "                tmp_df = new_e_df.select(new_e_df.src_id).union(new_e_df.select(new_e_df.dst_id)).withColumnRenamed('src_id', 'tmp_id').distinct()\n",
    "                new_v_df = v_df.join(tmp_df, v_df.id == tmp_df.tmp_id, 'inner').drop('tmp_id')\n",
    "                tmp_df = new_v_df.select('id')\n",
    "                new_e_df = e_df.join(tmp_df, tmp_df.id == e_df.src_id, 'inner').union(e_df.join(tmp_df, tmp_df.id == e_df.dst_id, 'inner')).drop('id').distinct()\n",
    "                tmp_df = new_e_df.select(new_e_df.src_id).union(new_e_df.select(new_e_df.dst_id)).distinct().withColumnRenamed('src_id', 'tmp_id')\n",
    "                new_v_df = v_df.join(tmp_df, v_df.id == tmp_df.tmp_id).drop('tmp_id')\n",
    "\n",
    "                new_pyvis_graph = generate_pyvis_graph(new_v_df, new_e_df, a_df, cluster_id)\n",
    "\n",
    "                new_pyvis_graph.height = '800px'\n",
    "                new_pyvis_graph.width = '2400px'\n",
    "                new_pyvis_graph.write_html(os.path.join(d_path, 'cluster_graph-{}-{}.html'.format(start_block, end_block)))\n",
    "\n",
    "                print('cluster graphs generated')\n",
    "                print('display cluster')\n",
    "                st.success(\"Done!\")\n",
    "                HtmlFile = open(os.path.join(d_path, 'cluster_graph-{}-{}.html'.format(start_block, end_block)), 'r', encoding='utf-8')\n",
    "                components.html(HtmlFile.read(), height=800, scrolling=True)\n",
    "\n",
    "                print('cluster displayed')\n",
    "                \n",
    "                st.subheader('Graph Nodes')\n",
    "                st.dataframe(new_v_df.toPandas())\n",
    "                st.subheader('Graph Edges')\n",
    "                st.dataframe(new_e_df.toPandas())\n",
    "                st.subheader('Clustered Addresses')\n",
    "                st.dataframe(ClusterList.toPandas())\n",
    "\n",
    "    print('end main')\n",
    "    return\n",
    "\n",
    "if __name__ == \"__main__\":\n",
    "    start_block = 0\n",
    "    end_block = 120000\n",
    "    main(start_block, end_block)"
   ]
  },
  {
   "cell_type": "code",
   "execution_count": null,
   "metadata": {},
   "outputs": [],
   "source": [
    "!streamlit run app.py & npx localtunnel --port 8501"
   ]
  }
 ],
 "metadata": {
  "colab": {
   "collapsed_sections": [
    "sKhQWqDpkDA_",
    "Qczfcwn5-xZm",
    "nPrycaK1kL9o",
    "j9mB8waGlabj",
    "IOZd-zdGlgfZ",
    "CdPCjEcYlwX-",
    "hCZ6G78Qozu5",
    "7yjklUaK4vmA",
    "1ekR20IG8B9R",
    "woABEepU7I3x",
    "LS2PfDxFb4CC",
    "Xid6RlGNcACt",
    "3cA2Yp_lMkOt",
    "_4UVPPIDPnio",
    "w5cH-NJrTdUW",
    "sDosNsJOz_bt",
    "0J5Hk2iD0GYP",
    "dp0C2f-oBrsz",
    "glg6XYCN45P1",
    "XrziQyl8Tolv",
    "2x4FyX7pp16j"
   ],
   "name": "Bitcoin Address Clustering",
   "provenance": []
  },
  "kernelspec": {
   "display_name": "Python 3 (ipykernel)",
   "language": "python",
   "name": "python3"
  },
  "language_info": {
   "codemirror_mode": {
    "name": "ipython",
    "version": 3
   },
   "file_extension": ".py",
   "mimetype": "text/x-python",
   "name": "python",
   "nbconvert_exporter": "python",
   "pygments_lexer": "ipython3",
   "version": "3.9.7"
  }
 },
 "nbformat": 4,
 "nbformat_minor": 1
}
