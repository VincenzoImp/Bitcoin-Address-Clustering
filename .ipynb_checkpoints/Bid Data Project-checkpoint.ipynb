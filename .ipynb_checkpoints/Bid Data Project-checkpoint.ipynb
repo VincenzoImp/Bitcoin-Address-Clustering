{
 "cells": [
  {
   "cell_type": "code",
   "execution_count": 1,
   "metadata": {
    "colab": {
     "base_uri": "https://localhost:8080/"
    },
    "executionInfo": {
     "elapsed": 62980,
     "status": "ok",
     "timestamp": 1654172526713,
     "user": {
      "displayName": "vincenzo imperati",
      "userId": "09994492760116920431"
     },
     "user_tz": -120
    },
    "id": "tadn-hgKdLnb",
    "outputId": "16e8f3a4-0995-458a-ce64-f53a219dac3b"
   },
   "outputs": [
    {
     "name": "stdout",
     "output_type": "stream",
     "text": [
      "Looking in indexes: https://pypi.org/simple, https://us-python.pkg.dev/colab-wheels/public/simple/\n",
      "Collecting pyspark\n",
      "  Downloading pyspark-3.2.1.tar.gz (281.4 MB)\n",
      "\u001b[K     |████████████████████████████████| 281.4 MB 34 kB/s \n",
      "\u001b[?25hCollecting py4j==0.10.9.3\n",
      "  Downloading py4j-0.10.9.3-py2.py3-none-any.whl (198 kB)\n",
      "\u001b[K     |████████████████████████████████| 198 kB 49.3 MB/s \n",
      "\u001b[?25hBuilding wheels for collected packages: pyspark\n",
      "  Building wheel for pyspark (setup.py) ... \u001b[?25l\u001b[?25hdone\n",
      "  Created wheel for pyspark: filename=pyspark-3.2.1-py2.py3-none-any.whl size=281853642 sha256=6930c08de99cda03d8a32c4983775417e7a772f98787a9f4093d0f55c777adaf\n",
      "  Stored in directory: /root/.cache/pip/wheels/9f/f5/07/7cd8017084dce4e93e84e92efd1e1d5334db05f2e83bcef74f\n",
      "Successfully built pyspark\n",
      "Installing collected packages: py4j, pyspark\n",
      "Successfully installed py4j-0.10.9.3 pyspark-3.2.1\n",
      "Looking in indexes: https://pypi.org/simple, https://us-python.pkg.dev/colab-wheels/public/simple/\n",
      "Requirement already satisfied: graphviz in /usr/local/lib/python3.7/dist-packages (0.10.1)\n"
     ]
    }
   ],
   "source": [
    "!pip install pyspark\n",
    "!pip install -U -q PyDrive\n",
    "!pip install graphviz"
   ]
  },
  {
   "cell_type": "code",
   "execution_count": 2,
   "metadata": {
    "executionInfo": {
     "elapsed": 287,
     "status": "ok",
     "timestamp": 1654172526986,
     "user": {
      "displayName": "vincenzo imperati",
      "userId": "09994492760116920431"
     },
     "user_tz": -120
    },
    "id": "2vrGsesPQ6eZ"
   },
   "outputs": [],
   "source": [
    "import pandas as pd\n",
    "import numpy as np\n",
    "import pyspark\n",
    "import requests\n",
    "import csv\n",
    "import graphviz\n",
    "import pprint\n",
    "import codecs\n",
    "from pyspark.sql import *\n",
    "from pyspark.sql.types import *\n",
    "from pyspark.sql.functions import *\n",
    "from pyspark import SparkContext, SparkConf\n",
    "from google.colab import drive"
   ]
  },
  {
   "cell_type": "code",
   "execution_count": 3,
   "metadata": {
    "colab": {
     "base_uri": "https://localhost:8080/"
    },
    "executionInfo": {
     "elapsed": 24115,
     "status": "ok",
     "timestamp": 1654172551094,
     "user": {
      "displayName": "vincenzo imperati",
      "userId": "09994492760116920431"
     },
     "user_tz": -120
    },
    "id": "vIcprUr4Q8_8",
    "outputId": "945b3f20-b437-4367-a293-34fd6d226b3a"
   },
   "outputs": [
    {
     "name": "stdout",
     "output_type": "stream",
     "text": [
      "Mounted at /content/gdrive/\n"
     ]
    }
   ],
   "source": [
    "GDRIVE_MOUNT = \"/content/gdrive/\"\n",
    "\n",
    "drive.mount(GDRIVE_MOUNT, force_remount=True)\n",
    "spark = SparkSession.builder.getOrCreate()"
   ]
  },
  {
   "cell_type": "code",
   "execution_count": 4,
   "metadata": {
    "colab": {
     "base_uri": "https://localhost:8080/"
    },
    "executionInfo": {
     "elapsed": 365,
     "status": "ok",
     "timestamp": 1654172551422,
     "user": {
      "displayName": "vincenzo imperati",
      "userId": "09994492760116920431"
     },
     "user_tz": -120
    },
    "id": "ZzxI1cyth9Fr",
    "outputId": "4ba1c867-1552-4d7d-a02a-d7358a24d71a"
   },
   "outputs": [
    {
     "name": "stdout",
     "output_type": "stream",
     "text": [
      "{'blocks': [{'bits': 486604799,\n",
      "             'block_index': 0,\n",
      "             'fee': 0,\n",
      "             'hash': '000000000019d6689c085ae165831e934ff763ae46a2a6c172b3f1b60a8ce26f',\n",
      "             'height': 0,\n",
      "             'main_chain': True,\n",
      "             'mrkl_root': '4a5e1e4baab89f3a32518a88c31bc87f618f76673e2cc77ab2127b7afdeda33b',\n",
      "             'n_tx': 1,\n",
      "             'next_block': ['00000000839a8e6886ab5951d76f411475428afc90947ee320161bbf18eb6048'],\n",
      "             'nonce': 2083236893,\n",
      "             'prev_block': '0000000000000000000000000000000000000000000000000000000000000000',\n",
      "             'size': 285,\n",
      "             'time': 1231006505,\n",
      "             'tx': [{'block_height': 0,\n",
      "                     'block_index': 0,\n",
      "                     'double_spend': False,\n",
      "                     'fee': 0,\n",
      "                     'hash': '4a5e1e4baab89f3a32518a88c31bc87f618f76673e2cc77ab2127b7afdeda33b',\n",
      "                     'inputs': [{'index': 0,\n",
      "                                 'prev_out': {'n': 4294967295,\n",
      "                                              'script': '',\n",
      "                                              'spending_outpoints': [{'n': 0,\n",
      "                                                                      'tx_index': 2098408272645986}],\n",
      "                                              'spent': True,\n",
      "                                              'tx_index': 0,\n",
      "                                              'type': 0,\n",
      "                                              'value': 0},\n",
      "                                 'script': '04ffff001d0104455468652054696d65732030332f4a616e2f32303039204368616e63656c6c6f72206f6e206272696e6b206f66207365636f6e64206261696c6f757420666f722062616e6b73',\n",
      "                                 'sequence': 4294967295,\n",
      "                                 'witness': ''}],\n",
      "                     'lock_time': 0,\n",
      "                     'out': [{'addr': '1A1zP1eP5QGefi2DMPTfTL5SLmv7DivfNa',\n",
      "                              'n': 0,\n",
      "                              'script': '4104678afdb0fe5548271967f1a67130b7105cd6a828e03909a67962e0ea1f61deb649f6bc3f4cef38c4f35504e51ec112de5c384df7ba0b8d578a4c702b6bf11d5fac',\n",
      "                              'spending_outpoints': [],\n",
      "                              'spent': False,\n",
      "                              'tx_index': 2098408272645986,\n",
      "                              'type': 0,\n",
      "                              'value': 5000000000}],\n",
      "                     'relayed_by': '0.0.0.0',\n",
      "                     'size': 204,\n",
      "                     'time': 1231006505,\n",
      "                     'tx_index': 2098408272645986,\n",
      "                     'ver': 1,\n",
      "                     'vin_sz': 1,\n",
      "                     'vout_sz': 1,\n",
      "                     'weight': 816}],\n",
      "             'ver': 1,\n",
      "             'weight': 1140}]}\n"
     ]
    }
   ],
   "source": [
    "block_height = 0\n",
    "response = requests.get('https://blockchain.info/block-height/{}'.format(block_height))\n",
    "pprint.PrettyPrinter().pprint(response.json())"
   ]
  },
  {
   "cell_type": "code",
   "execution_count": 5,
   "metadata": {
    "colab": {
     "base_uri": "https://localhost:8080/"
    },
    "executionInfo": {
     "elapsed": 9,
     "status": "ok",
     "timestamp": 1654172551423,
     "user": {
      "displayName": "vincenzo imperati",
      "userId": "09994492760116920431"
     },
     "user_tz": -120
    },
    "id": "qAXFktEHW_z_",
    "outputId": "f3c86dd9-79c1-4dda-d687-5ca9319f8595"
   },
   "outputs": [
    {
     "data": {
      "text/plain": [
       "b'\\x04\\xff\\xff\\x00\\x1d\\x01\\x04EThe Times 03/Jan/2009 Chancellor on brink of second bailout for banks'"
      ]
     },
     "execution_count": 5,
     "metadata": {},
     "output_type": "execute_result"
    }
   ],
   "source": [
    "string = response.json()['blocks'][0]['tx'][0]['inputs'][0]['script']\n",
    "codecs.decode(string, \"hex\")"
   ]
  },
  {
   "cell_type": "code",
   "execution_count": 6,
   "metadata": {
    "executionInfo": {
     "elapsed": 6,
     "status": "ok",
     "timestamp": 1654172551423,
     "user": {
      "displayName": "vincenzo imperati",
      "userId": "09994492760116920431"
     },
     "user_tz": -120
    },
    "id": "hjyWfDW0RQRM"
   },
   "outputs": [],
   "source": [
    "def create_dataset(start_block, end_block, dir):\n",
    "\n",
    "    v_columns = ['id', 'name', 'block_height', 'block_hash', 'fee', 'n_input', 'amount_input', 'n_output', 'amount_output']\n",
    "    e_columns = ['src', 'dst', 'src_position', 'dst_position', 'address', 'value']\n",
    "\n",
    "    with open(dir + 'vertices-{}-{}.csv'.format(start_block, end_block), 'w', encoding='UTF8') as v_file:\n",
    "        with open(dir + 'edges-{}-{}.csv'.format(start_block, end_block), 'w', encoding='UTF8') as e_file:\n",
    "\n",
    "            csv.writer(v_file).writerow(v_columns)\n",
    "            csv.writer(e_file).writerow(e_columns)\n",
    "\n",
    "            count_special = 0\n",
    "\n",
    "            for block_height in range(start_block, end_block+1):\n",
    "\n",
    "                response = requests.get('https://blockchain.info/block-height/{}'.format(block_height))\n",
    "                block_hash = response.json()['blocks'][0]['hash']\n",
    "\n",
    "                for tx in response.json()['blocks'][0]['tx']:\n",
    "\n",
    "                    tx_index = tx['tx_index']\n",
    "                    tx_hash = tx['hash']\n",
    "                    fee = tx['fee']\n",
    "                    n_input = 0\n",
    "                    amount_input = 0\n",
    "                    n_output = 0\n",
    "                    amount_output = 0\n",
    "\n",
    "                    for incoming_edge in tx['inputs']:\n",
    "\n",
    "                        src_tx_index = incoming_edge['prev_out']['tx_index']\n",
    "                        src_position = incoming_edge['prev_out']['n']\n",
    "                        if src_tx_index == 0:\n",
    "                            address = 'coinbase'\n",
    "                        else:\n",
    "                            try:\n",
    "                                address = incoming_edge['prev_out']['addr']\n",
    "                            except KeyError:\n",
    "                                address = 'special' + str(count_special)\n",
    "                                count_special += 1\n",
    "                        value = incoming_edge['prev_out']['value']\n",
    "                        dst_index = tx_index\n",
    "                        dst_position = incoming_edge['index']\n",
    "                        n_input += 1\n",
    "                        amount_input += value\n",
    "\n",
    "                        if src_tx_index != 0:\n",
    "                            csv.writer(e_file).writerow([src_tx_index, tx_index, src_position, dst_position, address, value])\n",
    "\n",
    "                    for outgoing_edge in tx['out']:\n",
    "                        \n",
    "                        src_tx_index = tx_index\n",
    "                        src_position = outgoing_edge['n']\n",
    "                        try:\n",
    "                            address = outgoing_edge['addr']\n",
    "                        except KeyError:\n",
    "                            address = 'special' + str(count_special)\n",
    "                            count_special += 1\n",
    "                        value = outgoing_edge['value']\n",
    "                        if outgoing_edge['spending_outpoints'] == []:\n",
    "                            dst_tx_index = -1 #'unspent'\n",
    "                            dst_position = -1 #'unspent'\n",
    "                        else:\n",
    "                            dst_tx_index = outgoing_edge['spending_outpoints'][0]['tx_index']\n",
    "                            dst_position = outgoing_edge['spending_outpoints'][0]['n']\n",
    "                        n_output += 1\n",
    "                        amount_output += value\n",
    "\n",
    "                        if dst_tx_index != -1:\n",
    "                            csv.writer(e_file).writerow([src_tx_index, tx_index, src_position, dst_position, address, value])\n",
    "\n",
    "                    csv.writer(v_file).writerow([tx_index, tx_hash, block_height, block_hash, fee, n_input, amount_input, n_output, amount_output])\n",
    "\n",
    "    v_df = pd.read_csv(dir + 'vertices-{}-{}.csv'.format(start_block, end_block))\n",
    "    e_df = pd.read_csv(dir + 'edges-{}-{}.csv'.format(start_block, end_block))\n",
    "\n",
    "    new_txs_indices = pd.concat([e_df['src'], e_df['dst'], v_df['id'], v_df['id']]).drop_duplicates(keep=False)\n",
    "\n",
    "    with open(dir + 'vertices-{}-{}.csv'.format(start_block, end_block), 'a', encoding='UTF8') as v_file:\n",
    "\n",
    "        for i, tx_index in new_txs_indices.iteritems():\n",
    "            csv.writer(v_file).writerow([tx_index, 'unknown', -1, 'unknown', -1, -1, -1, -1, -1])\n",
    "    return"
   ]
  },
  {
   "cell_type": "code",
   "execution_count": 7,
   "metadata": {
    "executionInfo": {
     "elapsed": 7,
     "status": "ok",
     "timestamp": 1654172551424,
     "user": {
      "displayName": "vincenzo imperati",
      "userId": "09994492760116920431"
     },
     "user_tz": -120
    },
    "id": "gXMjcOP_Q_6-"
   },
   "outputs": [],
   "source": [
    "start_block = 100000\n",
    "end_block = 105000\n",
    "GDRIVE_DIR = GDRIVE_MOUNT + \"MyDrive/Big Data Project/dataset/\"\n",
    "\n",
    "#create_dataset(start_block, end_block, GDRIVE_DIR)\n",
    "\n",
    "VERTICES_DATASET_PATH = GDRIVE_DIR + \"vertices-{}-{}.csv\".format(start_block, end_block)\n",
    "EDGES_DATASET_PATH = GDRIVE_DIR + \"edges-{}-{}.csv\".format(start_block, end_block)"
   ]
  },
  {
   "cell_type": "code",
   "execution_count": 8,
   "metadata": {
    "executionInfo": {
     "elapsed": 14289,
     "status": "ok",
     "timestamp": 1654172565707,
     "user": {
      "displayName": "vincenzo imperati",
      "userId": "09994492760116920431"
     },
     "user_tz": -120
    },
    "id": "PaoKRRzuN9xN"
   },
   "outputs": [],
   "source": [
    "v_df = spark.read.load(VERTICES_DATASET_PATH, \n",
    "                         format=\"csv\", \n",
    "                         sep=\",\", \n",
    "                         inferSchema=\"true\", \n",
    "                         header=\"true\"\n",
    "                         )"
   ]
  },
  {
   "cell_type": "code",
   "execution_count": 9,
   "metadata": {
    "executionInfo": {
     "elapsed": 3190,
     "status": "ok",
     "timestamp": 1654172568881,
     "user": {
      "displayName": "vincenzo imperati",
      "userId": "09994492760116920431"
     },
     "user_tz": -120
    },
    "id": "ZjrpOZJDof-5"
   },
   "outputs": [],
   "source": [
    "e_df = spark.read.load(EDGES_DATASET_PATH, \n",
    "                         format=\"csv\", \n",
    "                         sep=\",\", \n",
    "                         inferSchema=\"true\", \n",
    "                         header=\"true\"\n",
    "                         )"
   ]
  },
  {
   "cell_type": "code",
   "execution_count": 10,
   "metadata": {
    "colab": {
     "base_uri": "https://localhost:8080/"
    },
    "executionInfo": {
     "elapsed": 2694,
     "status": "ok",
     "timestamp": 1654172571558,
     "user": {
      "displayName": "vincenzo imperati",
      "userId": "09994492760116920431"
     },
     "user_tz": -120
    },
    "id": "31g2CVI3da55",
    "outputId": "30e38fe0-cd89-4e53-d437-f1fb92f0ab6f"
   },
   "outputs": [
    {
     "name": "stdout",
     "output_type": "stream",
     "text": [
      "The shape of the vertices dataset is 34453 rows by 9 columns\n",
      "The shape of the edges dataset is 83174 rows by 6 columns\n"
     ]
    }
   ],
   "source": [
    "print(\"The shape of the vertices dataset is {:d} rows by {:d} columns\".format(v_df.count(), len(v_df.columns)))\n",
    "print(\"The shape of the edges dataset is {:d} rows by {:d} columns\".format(e_df.count(), len(e_df.columns)))"
   ]
  },
  {
   "cell_type": "code",
   "execution_count": 11,
   "metadata": {
    "colab": {
     "base_uri": "https://localhost:8080/"
    },
    "executionInfo": {
     "elapsed": 26,
     "status": "ok",
     "timestamp": 1654172571560,
     "user": {
      "displayName": "vincenzo imperati",
      "userId": "09994492760116920431"
     },
     "user_tz": -120
    },
    "id": "XkGHDOcddjjV",
    "outputId": "5e7fe377-8b7a-4cd9-dfc2-d4b6fd1ca300"
   },
   "outputs": [
    {
     "name": "stdout",
     "output_type": "stream",
     "text": [
      "root\n",
      " |-- id: long (nullable = true)\n",
      " |-- name: string (nullable = true)\n",
      " |-- block_height: integer (nullable = true)\n",
      " |-- block_hash: string (nullable = true)\n",
      " |-- fee: integer (nullable = true)\n",
      " |-- n_input: integer (nullable = true)\n",
      " |-- amount_input: long (nullable = true)\n",
      " |-- n_output: integer (nullable = true)\n",
      " |-- amount_output: long (nullable = true)\n",
      "\n"
     ]
    }
   ],
   "source": [
    "v_df.printSchema()"
   ]
  },
  {
   "cell_type": "code",
   "execution_count": 12,
   "metadata": {
    "colab": {
     "base_uri": "https://localhost:8080/"
    },
    "executionInfo": {
     "elapsed": 18,
     "status": "ok",
     "timestamp": 1654172571561,
     "user": {
      "displayName": "vincenzo imperati",
      "userId": "09994492760116920431"
     },
     "user_tz": -120
    },
    "id": "kGQEslcoOS62",
    "outputId": "7832f5c0-7493-4c98-878d-a67ea487fe3e"
   },
   "outputs": [
    {
     "name": "stdout",
     "output_type": "stream",
     "text": [
      "root\n",
      " |-- src: long (nullable = true)\n",
      " |-- dst: long (nullable = true)\n",
      " |-- src_position: integer (nullable = true)\n",
      " |-- dst_position: integer (nullable = true)\n",
      " |-- address: string (nullable = true)\n",
      " |-- value: long (nullable = true)\n",
      "\n"
     ]
    }
   ],
   "source": [
    "e_df.printSchema()"
   ]
  },
  {
   "cell_type": "code",
   "execution_count": 13,
   "metadata": {
    "colab": {
     "base_uri": "https://localhost:8080/"
    },
    "executionInfo": {
     "elapsed": 887,
     "status": "ok",
     "timestamp": 1654172572762,
     "user": {
      "displayName": "vincenzo imperati",
      "userId": "09994492760116920431"
     },
     "user_tz": -120
    },
    "id": "Zgzyaju3dp3B",
    "outputId": "b2473aa9-5682-47a2-dd94-1961c947f54f"
   },
   "outputs": [
    {
     "name": "stdout",
     "output_type": "stream",
     "text": [
      "+----------------+----------------------------------------------------------------+------------+----------------------------------------------------------------+---+-------+------------+--------+-------------+\n",
      "|id              |name                                                            |block_height|block_hash                                                      |fee|n_input|amount_input|n_output|amount_output|\n",
      "+----------------+----------------------------------------------------------------+------------+----------------------------------------------------------------+---+-------+------------+--------+-------------+\n",
      "|4764983090866501|8c14f0db3df150123e6f3dbbf30f8b955a8249b62ac1d1ff16284aefa3d06d87|100000      |000000000003ba27aa200b1cecaad478d2b00432346c3f1f3986da1afd33e506|0  |1      |0           |1       |5000000000   |\n",
      "|6896493393222575|fff2525b8931402dd09222c50775608f75787bd2b87e56995a7bdd30f79702c4|100000      |000000000003ba27aa200b1cecaad478d2b00432346c3f1f3986da1afd33e506|0  |1      |5000000000  |2       |5000000000   |\n",
      "|6911274329242193|6359f0868171b1d194cbee1af2f16ea598ae8fad666d9b012c8ed2b79a236ec4|100000      |000000000003ba27aa200b1cecaad478d2b00432346c3f1f3986da1afd33e506|0  |1      |300000000   |2       |300000000    |\n",
      "|1022094957881939|e9a66845e05d5abc0ad04ec80f774a7e585c6e8db975962d069a522137b80c1d|100000      |000000000003ba27aa200b1cecaad478d2b00432346c3f1f3986da1afd33e506|0  |1      |1000000     |1       |1000000      |\n",
      "|2680707186924421|bb28a1a5b3a02e7657a81c38355d56c6f05e80b9219432e3352ddcfc3cb6304c|100001      |00000000000080b66c911bd5ba14a74260057311eaeb1982802f7010f1a9f090|0  |1      |0           |1       |5000000000   |\n",
      "|7118293038187257|fbde5d03b027d2b9ba4cf5d4fecab9a99864df2637b25ea4cbcb1796ff6550ca|100001      |00000000000080b66c911bd5ba14a74260057311eaeb1982802f7010f1a9f090|0  |1      |5000000000  |2       |5000000000   |\n",
      "|6582456201968131|8131ffb0a2c945ecaf9b9063e59558784f9c3a74741ce6ae2a18d0571dac15bb|100001      |00000000000080b66c911bd5ba14a74260057311eaeb1982802f7010f1a9f090|0  |5      |25001000000 |2       |25001000000  |\n",
      "|7580998855386041|d6c7cb254aa7a5fd446e8b48c307890a2d4e426da8ad2e1191cc1d8bbe0677d7|100001      |00000000000080b66c911bd5ba14a74260057311eaeb1982802f7010f1a9f090|0  |1      |5000000000  |2       |5000000000   |\n",
      "|404787961423661 |ce29e5407f5e4c9ad581c337a639f3041b24220d5aa60370d96a39335538810b|100001      |00000000000080b66c911bd5ba14a74260057311eaeb1982802f7010f1a9f090|0  |1      |5001000000  |2       |5001000000   |\n",
      "|744073511122226 |45a38677e1be28bd38b51bc1a1c0280055375cdf54472e04c590a989ead82515|100001      |00000000000080b66c911bd5ba14a74260057311eaeb1982802f7010f1a9f090|0  |1      |4863000000  |2       |4863000000   |\n",
      "|7095615352281121|c5abc61566dbb1c4bce5e1fda7b66bed22eb2130cea4b721690bc1488465abc9|100001      |00000000000080b66c911bd5ba14a74260057311eaeb1982802f7010f1a9f090|0  |1      |4721000000  |2       |4721000000   |\n",
      "|7107810717857267|a71f74ab78b564004fffedb2357fb4059ddfc629cb29ceeb449fafbf272104ca|100001      |00000000000080b66c911bd5ba14a74260057311eaeb1982802f7010f1a9f090|0  |1      |4507000000  |2       |4507000000   |\n",
      "|3952303109456843|fda204502a3345e08afd6af27377c052e77f1fefeaeb31bdd45f1e1237ca5470|100001      |00000000000080b66c911bd5ba14a74260057311eaeb1982802f7010f1a9f090|0  |1      |4158000000  |2       |4158000000   |\n",
      "|3129451602440749|d3cd1ee6655097146bdae1c177eb251de92aed9045a0959edc6b91d7d8c1f158|100001      |00000000000080b66c911bd5ba14a74260057311eaeb1982802f7010f1a9f090|0  |1      |3498000000  |2       |3498000000   |\n",
      "|6355790323311468|cb00f8a0573b18faa8c4f467b049f5d202bf1101d9ef2633bc611be70376a4b4|100001      |00000000000080b66c911bd5ba14a74260057311eaeb1982802f7010f1a9f090|0  |1      |3126000000  |2       |3126000000   |\n",
      "|7152360481819206|05d07bb2de2bda1115409f99bf6b626d23ecb6bed810d8be263352988e4548cb|100001      |00000000000080b66c911bd5ba14a74260057311eaeb1982802f7010f1a9f090|0  |1      |13831000000 |2       |13831000000  |\n",
      "|5768542860061640|ef1d870d24c85b89d92ad50f4631026f585d6a34e972eaf427475e5d60acf3a3|100002      |0000000000013b8ab2cd513b0261a14096412195a72a0c4827d229dcc7e0f7af|0  |1      |0           |1       |5000000000   |\n",
      "|261273111350813 |f9fc751cb7dc372406a9f8d738d5e6f8f63bab71986a39cf36ee70ee17036d07|100002      |0000000000013b8ab2cd513b0261a14096412195a72a0c4827d229dcc7e0f7af|0  |1      |5000000000  |1       |5000000000   |\n",
      "|1649525755280530|db60fb93d736894ed0b86cb92548920a3fe8310dd19b0da7ad97e48725e1e12e|100002      |0000000000013b8ab2cd513b0261a14096412195a72a0c4827d229dcc7e0f7af|0  |1      |1300000000  |2       |1300000000   |\n",
      "|4322279565170935|220ebc64e21abece964927322cba69180ed853bb187fbc6923bac7d010b9d87a|100002      |0000000000013b8ab2cd513b0261a14096412195a72a0c4827d229dcc7e0f7af|0  |2      |8888000000  |1       |8888000000   |\n",
      "+----------------+----------------------------------------------------------------+------------+----------------------------------------------------------------+---+-------+------------+--------+-------------+\n",
      "only showing top 20 rows\n",
      "\n"
     ]
    }
   ],
   "source": [
    "v_df.show(20, truncate=False)"
   ]
  },
  {
   "cell_type": "code",
   "execution_count": 14,
   "metadata": {
    "colab": {
     "base_uri": "https://localhost:8080/"
    },
    "executionInfo": {
     "elapsed": 346,
     "status": "ok",
     "timestamp": 1654172573103,
     "user": {
      "displayName": "vincenzo imperati",
      "userId": "09994492760116920431"
     },
     "user_tz": -120
    },
    "id": "8lIVfUUUOXSf",
    "outputId": "4e7213ce-f69a-47b8-88a9-f01a992ddae8"
   },
   "outputs": [
    {
     "name": "stdout",
     "output_type": "stream",
     "text": [
      "+----------------+----------------+------------+------------+----------------------------------+-----------+\n",
      "|src             |dst             |src_position|dst_position|address                           |value      |\n",
      "+----------------+----------------+------------+------------+----------------------------------+-----------+\n",
      "|4764983090866501|4764983090866501|0           |12          |1HWqMzw1jfpXb3xyuUZ4uWXY4tqL2cW47J|5000000000 |\n",
      "|111905863111945 |6896493393222575|0           |0           |1BNwxHGaFbeUBitpjy2AsKpJ29Ybxntqvb|5000000000 |\n",
      "|6896493393222575|6896493393222575|0           |6           |1JqDybm2nWTENrHvMyafbSXXtTk5Uv5QAn|556000000  |\n",
      "|6896493393222575|6896493393222575|1           |0           |1EYTGtG4LnFfiMvjJdsU7GMGCQvsRSjYhx|4444000000 |\n",
      "|6869576823660862|6911274329242193|1           |0           |15vScfMHNrXN4QvWe54q5hwfVoYwG79CS1|300000000  |\n",
      "|6911274329242193|6911274329242193|0           |0           |1H8ANdafjpqYntniT3Ddxh4xPBMCSz33pj|1000000    |\n",
      "|6911274329242193|6911274329242193|1           |3           |1Am9UTGfdnxabvcywYG2hvzr6qK8T3oUZT|299000000  |\n",
      "|400283812289172 |1022094957881939|0           |0           |1JxDJCyWNakZ5kECKdCU9Zka6mh34mZ7B2|1000000    |\n",
      "|1022094957881939|1022094957881939|0           |1           |16FuTPaeRSPVxxCnwQmdyx2PQWxX6HWzhQ|1000000    |\n",
      "|2680707186924421|2680707186924421|0           |8           |1CSBYU9D5qYoPdPk8SANyeeJoaLXFDz47n|5000000000 |\n",
      "|7655198127363341|7118293038187257|0           |0           |1MfRUT4aWmHFk8sNVHZqP7DXtmbJpywy5x|5000000000 |\n",
      "|7118293038187257|7118293038187257|0           |1           |1EYTGtG4LnFfiMvjJdsU7GMGCQvsRSjYhx|4444000000 |\n",
      "|7118293038187257|7118293038187257|1           |7           |127YYnp1jvgAX3vCB22WUUsuyTYfAeSQHh|556000000  |\n",
      "|5548004002976332|6582456201968131|0           |0           |1HYAekgNKqQiCadt3fnKdLQFFNLFHPPnCR|5000000000 |\n",
      "|7497322323230222|6582456201968131|0           |1           |16hwoJvz1xje8HBgoLZcxwo1CwE3cvkb17|5000000000 |\n",
      "|7950247639827012|6582456201968131|0           |2           |1KWGBfAsuBFzKQ7bhSJV5WbgVNvvQ5R1j2|5000000000 |\n",
      "|7952754834342482|6582456201968131|0           |3           |15XgnazTwLj7sNPkbUo5vCSKBmR43X5vW4|5000000000 |\n",
      "|7959853019436349|6582456201968131|0           |4           |16HjHvF5umsgAzaX2ddosB81ttkrVHkvqo|5001000000 |\n",
      "|6582456201968131|6582456201968131|0           |4           |15xif4SjXiFi3NDEsmMZCfTdE9jvvVQrjU|25000000000|\n",
      "|377520570602345 |7580998855386041|0           |0           |1PoZobT7mi8r7BpB1byLwFeQ5fPfYgQGed|5000000000 |\n",
      "+----------------+----------------+------------+------------+----------------------------------+-----------+\n",
      "only showing top 20 rows\n",
      "\n"
     ]
    }
   ],
   "source": [
    "e_df.show(20, truncate=False)"
   ]
  },
  {
   "cell_type": "code",
   "execution_count": 15,
   "metadata": {
    "executionInfo": {
     "elapsed": 15883,
     "status": "ok",
     "timestamp": 1654172588980,
     "user": {
      "displayName": "vincenzo imperati",
      "userId": "09994492760116920431"
     },
     "user_tz": -120
    },
    "id": "L5u2XvS_xc90"
   },
   "outputs": [],
   "source": [
    "graph = graphviz.Digraph()\n",
    "\n",
    "for  i, row in e_df.toPandas().iterrows():\n",
    "    graph.node(str(row.src))\n",
    "    graph.node(str(row.dst))\n",
    "    graph.edge(str(row.src),str(row.dst))"
   ]
  },
  {
   "cell_type": "code",
   "execution_count": 16,
   "metadata": {
    "colab": {
     "base_uri": "https://localhost:8080/",
     "height": 324
    },
    "executionInfo": {
     "elapsed": 2633677,
     "status": "error",
     "timestamp": 1654175222633,
     "user": {
      "displayName": "vincenzo imperati",
      "userId": "09994492760116920431"
     },
     "user_tz": -120
    },
    "id": "GF4IVmy3xhaa",
    "outputId": "526e22dd-20e3-428b-a536-06a394e9e8ef"
   },
   "outputs": [
    {
     "ename": "KeyboardInterrupt",
     "evalue": "ignored",
     "output_type": "error",
     "traceback": [
      "\u001b[0;31m---------------------------------------------------------------------------\u001b[0m",
      "\u001b[0;31mKeyboardInterrupt\u001b[0m                         Traceback (most recent call last)",
      "\u001b[0;32m<ipython-input-16-eba0c8602bee>\u001b[0m in \u001b[0;36m<module>\u001b[0;34m()\u001b[0m\n\u001b[0;32m----> 1\u001b[0;31m \u001b[0mgraph\u001b[0m\u001b[0;34m.\u001b[0m\u001b[0mrender\u001b[0m\u001b[0;34m(\u001b[0m\u001b[0mdirectory\u001b[0m\u001b[0;34m=\u001b[0m\u001b[0mGDRIVE_DIR\u001b[0m\u001b[0;34m)\u001b[0m\u001b[0;34m\u001b[0m\u001b[0;34m\u001b[0m\u001b[0m\n\u001b[0m",
      "\u001b[0;32m/usr/local/lib/python3.7/dist-packages/graphviz/files.py\u001b[0m in \u001b[0;36mrender\u001b[0;34m(self, filename, directory, view, cleanup, format, renderer, formatter)\u001b[0m\n\u001b[1;32m    186\u001b[0m             \u001b[0mformat\u001b[0m \u001b[0;34m=\u001b[0m \u001b[0mself\u001b[0m\u001b[0;34m.\u001b[0m\u001b[0m_format\u001b[0m\u001b[0;34m\u001b[0m\u001b[0;34m\u001b[0m\u001b[0m\n\u001b[1;32m    187\u001b[0m \u001b[0;34m\u001b[0m\u001b[0m\n\u001b[0;32m--> 188\u001b[0;31m         \u001b[0mrendered\u001b[0m \u001b[0;34m=\u001b[0m \u001b[0mbackend\u001b[0m\u001b[0;34m.\u001b[0m\u001b[0mrender\u001b[0m\u001b[0;34m(\u001b[0m\u001b[0mself\u001b[0m\u001b[0;34m.\u001b[0m\u001b[0m_engine\u001b[0m\u001b[0;34m,\u001b[0m \u001b[0mformat\u001b[0m\u001b[0;34m,\u001b[0m \u001b[0mfilepath\u001b[0m\u001b[0;34m,\u001b[0m \u001b[0mrenderer\u001b[0m\u001b[0;34m,\u001b[0m \u001b[0mformatter\u001b[0m\u001b[0;34m)\u001b[0m\u001b[0;34m\u001b[0m\u001b[0;34m\u001b[0m\u001b[0m\n\u001b[0m\u001b[1;32m    189\u001b[0m \u001b[0;34m\u001b[0m\u001b[0m\n\u001b[1;32m    190\u001b[0m         \u001b[0;32mif\u001b[0m \u001b[0mcleanup\u001b[0m\u001b[0;34m:\u001b[0m\u001b[0;34m\u001b[0m\u001b[0;34m\u001b[0m\u001b[0m\n",
      "\u001b[0;32m/usr/local/lib/python3.7/dist-packages/graphviz/backend.py\u001b[0m in \u001b[0;36mrender\u001b[0;34m(engine, format, filepath, renderer, formatter, quiet)\u001b[0m\n\u001b[1;32m    181\u001b[0m     \"\"\"\n\u001b[1;32m    182\u001b[0m     \u001b[0mcmd\u001b[0m\u001b[0;34m,\u001b[0m \u001b[0mrendered\u001b[0m \u001b[0;34m=\u001b[0m \u001b[0mcommand\u001b[0m\u001b[0;34m(\u001b[0m\u001b[0mengine\u001b[0m\u001b[0;34m,\u001b[0m \u001b[0mformat\u001b[0m\u001b[0;34m,\u001b[0m \u001b[0mfilepath\u001b[0m\u001b[0;34m,\u001b[0m \u001b[0mrenderer\u001b[0m\u001b[0;34m,\u001b[0m \u001b[0mformatter\u001b[0m\u001b[0;34m)\u001b[0m\u001b[0;34m\u001b[0m\u001b[0;34m\u001b[0m\u001b[0m\n\u001b[0;32m--> 183\u001b[0;31m     \u001b[0mrun\u001b[0m\u001b[0;34m(\u001b[0m\u001b[0mcmd\u001b[0m\u001b[0;34m,\u001b[0m \u001b[0mcapture_output\u001b[0m\u001b[0;34m=\u001b[0m\u001b[0;32mTrue\u001b[0m\u001b[0;34m,\u001b[0m \u001b[0mcheck\u001b[0m\u001b[0;34m=\u001b[0m\u001b[0;32mTrue\u001b[0m\u001b[0;34m,\u001b[0m \u001b[0mquiet\u001b[0m\u001b[0;34m=\u001b[0m\u001b[0mquiet\u001b[0m\u001b[0;34m)\u001b[0m\u001b[0;34m\u001b[0m\u001b[0;34m\u001b[0m\u001b[0m\n\u001b[0m\u001b[1;32m    184\u001b[0m     \u001b[0;32mreturn\u001b[0m \u001b[0mrendered\u001b[0m\u001b[0;34m\u001b[0m\u001b[0;34m\u001b[0m\u001b[0m\n\u001b[1;32m    185\u001b[0m \u001b[0;34m\u001b[0m\u001b[0m\n",
      "\u001b[0;32m/usr/local/lib/python3.7/dist-packages/graphviz/backend.py\u001b[0m in \u001b[0;36mrun\u001b[0;34m(cmd, input, capture_output, check, quiet, **kwargs)\u001b[0m\n\u001b[1;32m    152\u001b[0m             \u001b[0;32mraise\u001b[0m\u001b[0;34m\u001b[0m\u001b[0;34m\u001b[0m\u001b[0m\n\u001b[1;32m    153\u001b[0m \u001b[0;34m\u001b[0m\u001b[0m\n\u001b[0;32m--> 154\u001b[0;31m     \u001b[0mout\u001b[0m\u001b[0;34m,\u001b[0m \u001b[0merr\u001b[0m \u001b[0;34m=\u001b[0m \u001b[0mproc\u001b[0m\u001b[0;34m.\u001b[0m\u001b[0mcommunicate\u001b[0m\u001b[0;34m(\u001b[0m\u001b[0minput\u001b[0m\u001b[0;34m)\u001b[0m\u001b[0;34m\u001b[0m\u001b[0;34m\u001b[0m\u001b[0m\n\u001b[0m\u001b[1;32m    155\u001b[0m \u001b[0;34m\u001b[0m\u001b[0m\n\u001b[1;32m    156\u001b[0m     \u001b[0;32mif\u001b[0m \u001b[0;32mnot\u001b[0m \u001b[0mquiet\u001b[0m \u001b[0;32mand\u001b[0m \u001b[0merr\u001b[0m\u001b[0;34m:\u001b[0m\u001b[0;34m\u001b[0m\u001b[0;34m\u001b[0m\u001b[0m\n",
      "\u001b[0;32m/usr/lib/python3.7/subprocess.py\u001b[0m in \u001b[0;36mcommunicate\u001b[0;34m(self, input, timeout)\u001b[0m\n\u001b[1;32m    962\u001b[0m \u001b[0;34m\u001b[0m\u001b[0m\n\u001b[1;32m    963\u001b[0m             \u001b[0;32mtry\u001b[0m\u001b[0;34m:\u001b[0m\u001b[0;34m\u001b[0m\u001b[0;34m\u001b[0m\u001b[0m\n\u001b[0;32m--> 964\u001b[0;31m                 \u001b[0mstdout\u001b[0m\u001b[0;34m,\u001b[0m \u001b[0mstderr\u001b[0m \u001b[0;34m=\u001b[0m \u001b[0mself\u001b[0m\u001b[0;34m.\u001b[0m\u001b[0m_communicate\u001b[0m\u001b[0;34m(\u001b[0m\u001b[0minput\u001b[0m\u001b[0;34m,\u001b[0m \u001b[0mendtime\u001b[0m\u001b[0;34m,\u001b[0m \u001b[0mtimeout\u001b[0m\u001b[0;34m)\u001b[0m\u001b[0;34m\u001b[0m\u001b[0;34m\u001b[0m\u001b[0m\n\u001b[0m\u001b[1;32m    965\u001b[0m             \u001b[0;32mexcept\u001b[0m \u001b[0mKeyboardInterrupt\u001b[0m\u001b[0;34m:\u001b[0m\u001b[0;34m\u001b[0m\u001b[0;34m\u001b[0m\u001b[0m\n\u001b[1;32m    966\u001b[0m                 \u001b[0;31m# https://bugs.python.org/issue25942\u001b[0m\u001b[0;34m\u001b[0m\u001b[0;34m\u001b[0m\u001b[0;34m\u001b[0m\u001b[0m\n",
      "\u001b[0;32m/usr/lib/python3.7/subprocess.py\u001b[0m in \u001b[0;36m_communicate\u001b[0;34m(self, input, endtime, orig_timeout)\u001b[0m\n\u001b[1;32m   1713\u001b[0m                             'failed to raise TimeoutExpired.')\n\u001b[1;32m   1714\u001b[0m \u001b[0;34m\u001b[0m\u001b[0m\n\u001b[0;32m-> 1715\u001b[0;31m                     \u001b[0mready\u001b[0m \u001b[0;34m=\u001b[0m \u001b[0mselector\u001b[0m\u001b[0;34m.\u001b[0m\u001b[0mselect\u001b[0m\u001b[0;34m(\u001b[0m\u001b[0mtimeout\u001b[0m\u001b[0;34m)\u001b[0m\u001b[0;34m\u001b[0m\u001b[0;34m\u001b[0m\u001b[0m\n\u001b[0m\u001b[1;32m   1716\u001b[0m                     \u001b[0mself\u001b[0m\u001b[0;34m.\u001b[0m\u001b[0m_check_timeout\u001b[0m\u001b[0;34m(\u001b[0m\u001b[0mendtime\u001b[0m\u001b[0;34m,\u001b[0m \u001b[0morig_timeout\u001b[0m\u001b[0;34m,\u001b[0m \u001b[0mstdout\u001b[0m\u001b[0;34m,\u001b[0m \u001b[0mstderr\u001b[0m\u001b[0;34m)\u001b[0m\u001b[0;34m\u001b[0m\u001b[0;34m\u001b[0m\u001b[0m\n\u001b[1;32m   1717\u001b[0m \u001b[0;34m\u001b[0m\u001b[0m\n",
      "\u001b[0;32m/usr/lib/python3.7/selectors.py\u001b[0m in \u001b[0;36mselect\u001b[0;34m(self, timeout)\u001b[0m\n\u001b[1;32m    413\u001b[0m         \u001b[0mready\u001b[0m \u001b[0;34m=\u001b[0m \u001b[0;34m[\u001b[0m\u001b[0;34m]\u001b[0m\u001b[0;34m\u001b[0m\u001b[0;34m\u001b[0m\u001b[0m\n\u001b[1;32m    414\u001b[0m         \u001b[0;32mtry\u001b[0m\u001b[0;34m:\u001b[0m\u001b[0;34m\u001b[0m\u001b[0;34m\u001b[0m\u001b[0m\n\u001b[0;32m--> 415\u001b[0;31m             \u001b[0mfd_event_list\u001b[0m \u001b[0;34m=\u001b[0m \u001b[0mself\u001b[0m\u001b[0;34m.\u001b[0m\u001b[0m_selector\u001b[0m\u001b[0;34m.\u001b[0m\u001b[0mpoll\u001b[0m\u001b[0;34m(\u001b[0m\u001b[0mtimeout\u001b[0m\u001b[0;34m)\u001b[0m\u001b[0;34m\u001b[0m\u001b[0;34m\u001b[0m\u001b[0m\n\u001b[0m\u001b[1;32m    416\u001b[0m         \u001b[0;32mexcept\u001b[0m \u001b[0mInterruptedError\u001b[0m\u001b[0;34m:\u001b[0m\u001b[0;34m\u001b[0m\u001b[0;34m\u001b[0m\u001b[0m\n\u001b[1;32m    417\u001b[0m             \u001b[0;32mreturn\u001b[0m \u001b[0mready\u001b[0m\u001b[0;34m\u001b[0m\u001b[0;34m\u001b[0m\u001b[0m\n",
      "\u001b[0;31mKeyboardInterrupt\u001b[0m: "
     ]
    }
   ],
   "source": [
    "graph.render(directory=GDRIVE_DIR) "
   ]
  },
  {
   "cell_type": "code",
   "execution_count": null,
   "metadata": {
    "id": "rsxgy7gYZuOW"
   },
   "outputs": [],
   "source": []
  }
 ],
 "metadata": {
  "colab": {
   "authorship_tag": "ABX9TyM5Cs4KUUE+PmzUOvcv0pcu",
   "collapsed_sections": [],
   "name": "Bid Data Project",
   "provenance": []
  },
  "kernelspec": {
   "display_name": "Python 3",
   "language": "python",
   "name": "python3"
  },
  "language_info": {
   "name": "python"
  }
 },
 "nbformat": 4,
 "nbformat_minor": 1
}
